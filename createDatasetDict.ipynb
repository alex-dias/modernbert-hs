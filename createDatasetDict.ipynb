{
 "cells": [
  {
   "cell_type": "code",
   "execution_count": 6,
   "metadata": {},
   "outputs": [],
   "source": [
    "import pandas as pd\n",
    "from datasets import Dataset, DatasetDict"
   ]
  },
  {
   "cell_type": "code",
   "execution_count": 18,
   "metadata": {},
   "outputs": [],
   "source": [
    "def toxigenDataset(id_term, test_size=0.2):\n",
    "    file_name = 'toxigen_masked_pred_' + id_term + '.csv'\n",
    "    df = pd.read_csv('masked_data\\\\' + file_name)\n",
    "    \n",
    "    df = df[['generation', 'prompt_label']]\n",
    "    df = df.rename(columns={'generation': 'text', 'prompt_label': 'label'})\n",
    "    \n",
    "    df_hate = df[df['label'] == 1]\n",
    "    df_no_hate = df[df['label'] == 0]\n",
    "    \n",
    "    df_hate_train = df_hate.sample(frac=1-test_size)\n",
    "    df_hate_test = df_hate.drop(df_hate_train.index)\n",
    "    \n",
    "    df_no_hate_train = df_no_hate.sample(frac=1-test_size)\n",
    "    df_no_hate_test = df_no_hate.drop(df_no_hate_train.index)\n",
    "    \n",
    "    df_train = pd.concat([df_hate_train, df_no_hate_train])\n",
    "    df_test = pd.concat([df_hate_test, df_no_hate_test])\n",
    "    \n",
    "    df_train = df_train[['text', 'label']]\n",
    "    df_test = df_test[['text', 'label']]\n",
    "    \n",
    "    df_train_dataset = Dataset.from_pandas(df_train).remove_columns(['__index_level_0__'])\n",
    "    df_test_dataset = Dataset.from_pandas(df_test).remove_columns(['__index_level_0__'])\n",
    "    \n",
    "    return DatasetDict({\n",
    "            \"train\": df_train_dataset,\n",
    "            \"validation\": df_test_dataset\n",
    "            })"
   ]
  }
 ],
 "metadata": {
  "kernelspec": {
   "display_name": "llama_ssl",
   "language": "python",
   "name": "python3"
  },
  "language_info": {
   "codemirror_mode": {
    "name": "ipython",
    "version": 3
   },
   "file_extension": ".py",
   "mimetype": "text/x-python",
   "name": "python",
   "nbconvert_exporter": "python",
   "pygments_lexer": "ipython3",
   "version": "3.10.15"
  }
 },
 "nbformat": 4,
 "nbformat_minor": 2
}
