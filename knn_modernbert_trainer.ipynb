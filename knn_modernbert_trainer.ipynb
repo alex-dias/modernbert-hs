{
 "cells": [
  {
   "cell_type": "markdown",
   "id": "92238f2d",
   "metadata": {},
   "source": [
    "# ModernBERT Training on KNN Datasets"
   ]
  },
  {
   "cell_type": "code",
   "execution_count": null,
   "id": "6d6dad3d",
   "metadata": {},
   "outputs": [],
   "source": [
    "import os\n",
    "import pandas as pd\n",
    "import numpy as np\n",
    "import torch\n",
    "from datasets import Dataset, DatasetDict\n",
    "from sklearn.metrics import f1_score\n",
    "from transformers import AutoTokenizer, AutoModelForSequenceClassification\n",
    "from transformers import Trainer, TrainingArguments\n",
    "from checklist.pred_wrapper import PredictorWrapper\n",
    "from checklist.test_types import MFT\n",
    "from transformers import pipeline\n",
    "import dataHandler as dh"
   ]
  },
  {
   "cell_type": "markdown",
   "id": "ad82a938",
   "metadata": {},
   "source": [
    "## Load and Process KNN Datasets"
   ]
  },
  {
   "cell_type": "code",
   "execution_count": null,
   "id": "9a667014",
   "metadata": {},
   "outputs": [
    {
     "name": "stdout",
     "output_type": "stream",
     "text": [
      "Dataset k5 from selected_knn/samples_knn_k5_percent10.csv:\n",
      "Train: 20076 samples\n",
      "Test: 5019 samples\n",
      "Label distribution in train: label\n",
      "0    14921\n",
      "1     5155\n",
      "Name: count, dtype: int64\n",
      "---------------------------------------------------\n",
      "Dataset k100 from selected_knn/samples_knn_k100_percent10.csv:\n",
      "Train: 20076 samples\n",
      "Test: 5019 samples\n",
      "Label distribution in train: label\n",
      "0    14956\n",
      "1     5120\n",
      "Name: count, dtype: int64\n",
      "---------------------------------------------------\n",
      "Dataset k1000 from selected_knn/samples_knn_k1000_percent10.csv:\n",
      "Train: 20076 samples\n",
      "Test: 5019 samples\n",
      "Label distribution in train: label\n",
      "0    14913\n",
      "1     5163\n",
      "Name: count, dtype: int64\n",
      "---------------------------------------------------\n",
      "Dataset k10000 from selected_knn/samples_knn_k10000_percent10.csv:\n",
      "Train: 20076 samples\n",
      "Test: 5019 samples\n",
      "Label distribution in train: label\n",
      "0    14905\n",
      "1     5171\n",
      "Name: count, dtype: int64\n",
      "---------------------------------------------------\n",
      "Dataset k5_balanced from selected_knn/samples_knn_k5_percent10_balanced.csv:\n",
      "Train: 20076 samples\n",
      "Test: 5020 samples\n",
      "Label distribution in train: label\n",
      "1    10038\n",
      "0    10038\n",
      "Name: count, dtype: int64\n",
      "---------------------------------------------------\n",
      "Dataset k100_balanced from selected_knn/samples_knn_k100_percent10_balanced.csv:\n",
      "Train: 20076 samples\n",
      "Test: 5020 samples\n",
      "Label distribution in train: label\n",
      "1    10038\n",
      "0    10038\n",
      "Name: count, dtype: int64\n",
      "---------------------------------------------------\n",
      "Dataset k1000_balanced from selected_knn/samples_knn_k1000_percent10_balanced.csv:\n",
      "Train: 20076 samples\n",
      "Test: 5020 samples\n",
      "Label distribution in train: label\n",
      "1    10038\n",
      "0    10038\n",
      "Name: count, dtype: int64\n",
      "---------------------------------------------------\n",
      "Dataset k10000_balanced from selected_knn/samples_knn_k10000_percent10_balanced.csv:\n",
      "Train: 20076 samples\n",
      "Test: 5020 samples\n",
      "Label distribution in train: label\n",
      "1    10038\n",
      "0    10038\n",
      "Name: count, dtype: int64\n",
      "---------------------------------------------------\n"
     ]
    }
   ],
   "source": [
    "# Define paths to the KNN datasets\n",
    "knn_datasets = {\n",
    "    'k5': 'selected_knn/samples_knn_k5_percent10.csv',\n",
    "    'k100': 'selected_knn/samples_knn_k100_percent10.csv',\n",
    "    'k1000': 'selected_knn/samples_knn_k1000_percent10.csv',\n",
    "    'k10000': 'selected_knn/samples_knn_k10000_percent10.csv',\n",
    "    'k5_balanced': 'selected_knn/samples_knn_k5_percent10_balanced.csv',\n",
    "    'k100_balanced': 'selected_knn/samples_knn_k100_percent10_balanced.csv',\n",
    "    'k1000_balanced': 'selected_knn/samples_knn_k1000_percent10_balanced.csv',\n",
    "    'k10000_balanced': 'selected_knn/samples_knn_k10000_percent10_balanced.csv',\n",
    "}\n",
    "\n",
    "# Function to prepare dataset for training\n",
    "def prepare_dataset(file_path, test_size=0.2, random_state=42):\n",
    "    df = pd.read_csv(file_path)\n",
    "    \n",
    "    df['label'] = df['label'].apply(lambda x: 1 if x == 'hate' else 0)\n",
    "    \n",
    "    df_hate = df[df['label'] == 1]\n",
    "    df_no_hate = df[df['label'] == 0]\n",
    "    \n",
    "    df_hate_train = df_hate.sample(frac=1-test_size, random_state=random_state)\n",
    "    df_hate_test = df_hate.drop(df_hate_train.index)\n",
    "    \n",
    "    df_no_hate_train = df_no_hate.sample(frac=1-test_size, random_state=random_state)\n",
    "    df_no_hate_test = df_no_hate.drop(df_no_hate_train.index)\n",
    "    \n",
    "    df_train = pd.concat([df_hate_train, df_no_hate_train])\n",
    "    df_test = pd.concat([df_hate_test, df_no_hate_test])\n",
    "    \n",
    "    train_dataset = Dataset.from_pandas(df_train[['text', 'label']]).remove_columns(['__index_level_0__'])\n",
    "    test_dataset = Dataset.from_pandas(df_test[['text', 'label']]).remove_columns(['__index_level_0__'])\n",
    "    \n",
    "    dataset_dict = DatasetDict({\n",
    "        \"train\": train_dataset,\n",
    "        \"test\": test_dataset\n",
    "    })\n",
    "    \n",
    "    return dataset_dict\n",
    "\n",
    "processed_datasets = {}\n",
    "for dataset_name, file_path in knn_datasets.items():\n",
    "    processed_datasets[dataset_name] = prepare_dataset(file_path)\n",
    "    print(f\"Dataset {dataset_name} from {file_path}:\")\n",
    "    print(f\"Train: {len(processed_datasets[dataset_name]['train'])} samples\")\n",
    "    print(f\"Test: {len(processed_datasets[dataset_name]['test'])} samples\")\n",
    "    print(f\"Label distribution in train: {processed_datasets[dataset_name]['train'].to_pandas()['label'].value_counts()}\")\n",
    "    print(\"---------------------------------------------------\")"
   ]
  },
  {
   "cell_type": "markdown",
   "id": "60db9749",
   "metadata": {},
   "source": [
    "## Define Tokenization and Training Functions"
   ]
  },
  {
   "cell_type": "code",
   "execution_count": null,
   "id": "e1411b2d",
   "metadata": {},
   "outputs": [
    {
     "data": {
      "application/vnd.jupyter.widget-view+json": {
       "model_id": "851c29d8af8a49648924a58294062a68",
       "version_major": 2,
       "version_minor": 0
      },
      "text/plain": [
       "Map:   0%|          | 0/20076 [00:00<?, ? examples/s]"
      ]
     },
     "metadata": {},
     "output_type": "display_data"
    },
    {
     "data": {
      "application/vnd.jupyter.widget-view+json": {
       "model_id": "6ade8d2650b2478e9eac141915c547a4",
       "version_major": 2,
       "version_minor": 0
      },
      "text/plain": [
       "Map:   0%|          | 0/5019 [00:00<?, ? examples/s]"
      ]
     },
     "metadata": {},
     "output_type": "display_data"
    },
    {
     "name": "stdout",
     "output_type": "stream",
     "text": [
      "Tokenized dataset k5\n",
      "Features: dict_keys(['labels', 'input_ids', 'attention_mask'])\n",
      "---------------------------------------------------\n"
     ]
    },
    {
     "data": {
      "application/vnd.jupyter.widget-view+json": {
       "model_id": "fc46a956499b4ed18d442e58dfc661b9",
       "version_major": 2,
       "version_minor": 0
      },
      "text/plain": [
       "Map:   0%|          | 0/20076 [00:00<?, ? examples/s]"
      ]
     },
     "metadata": {},
     "output_type": "display_data"
    },
    {
     "data": {
      "application/vnd.jupyter.widget-view+json": {
       "model_id": "87a3d40a1ead42a89cb287e8bb9a4031",
       "version_major": 2,
       "version_minor": 0
      },
      "text/plain": [
       "Map:   0%|          | 0/5019 [00:00<?, ? examples/s]"
      ]
     },
     "metadata": {},
     "output_type": "display_data"
    },
    {
     "name": "stdout",
     "output_type": "stream",
     "text": [
      "Tokenized dataset k100\n",
      "Features: dict_keys(['labels', 'input_ids', 'attention_mask'])\n",
      "---------------------------------------------------\n"
     ]
    },
    {
     "data": {
      "application/vnd.jupyter.widget-view+json": {
       "model_id": "d837ee8bb7964096aac6177b59dbbfd1",
       "version_major": 2,
       "version_minor": 0
      },
      "text/plain": [
       "Map:   0%|          | 0/20076 [00:00<?, ? examples/s]"
      ]
     },
     "metadata": {},
     "output_type": "display_data"
    },
    {
     "data": {
      "application/vnd.jupyter.widget-view+json": {
       "model_id": "9feefce3ae144e0cbab5120a3f748afb",
       "version_major": 2,
       "version_minor": 0
      },
      "text/plain": [
       "Map:   0%|          | 0/5019 [00:00<?, ? examples/s]"
      ]
     },
     "metadata": {},
     "output_type": "display_data"
    },
    {
     "name": "stdout",
     "output_type": "stream",
     "text": [
      "Tokenized dataset k1000\n",
      "Features: dict_keys(['labels', 'input_ids', 'attention_mask'])\n",
      "---------------------------------------------------\n"
     ]
    },
    {
     "data": {
      "application/vnd.jupyter.widget-view+json": {
       "model_id": "47c671f10685458d918cb67686af47af",
       "version_major": 2,
       "version_minor": 0
      },
      "text/plain": [
       "Map:   0%|          | 0/20076 [00:00<?, ? examples/s]"
      ]
     },
     "metadata": {},
     "output_type": "display_data"
    },
    {
     "data": {
      "application/vnd.jupyter.widget-view+json": {
       "model_id": "14340e85fdd94d24a43519f21243936f",
       "version_major": 2,
       "version_minor": 0
      },
      "text/plain": [
       "Map:   0%|          | 0/5019 [00:00<?, ? examples/s]"
      ]
     },
     "metadata": {},
     "output_type": "display_data"
    },
    {
     "name": "stdout",
     "output_type": "stream",
     "text": [
      "Tokenized dataset k10000\n",
      "Features: dict_keys(['labels', 'input_ids', 'attention_mask'])\n",
      "---------------------------------------------------\n"
     ]
    },
    {
     "data": {
      "application/vnd.jupyter.widget-view+json": {
       "model_id": "09602f4a97794bf78df822250df48f07",
       "version_major": 2,
       "version_minor": 0
      },
      "text/plain": [
       "Map:   0%|          | 0/20076 [00:00<?, ? examples/s]"
      ]
     },
     "metadata": {},
     "output_type": "display_data"
    },
    {
     "data": {
      "application/vnd.jupyter.widget-view+json": {
       "model_id": "658c4b4795dd4d2cb017911281cb9480",
       "version_major": 2,
       "version_minor": 0
      },
      "text/plain": [
       "Map:   0%|          | 0/5020 [00:00<?, ? examples/s]"
      ]
     },
     "metadata": {},
     "output_type": "display_data"
    },
    {
     "name": "stdout",
     "output_type": "stream",
     "text": [
      "Tokenized dataset k5_balanced\n",
      "Features: dict_keys(['labels', 'input_ids', 'attention_mask'])\n",
      "---------------------------------------------------\n"
     ]
    },
    {
     "data": {
      "application/vnd.jupyter.widget-view+json": {
       "model_id": "a37cac669fb24030b35908fd18404834",
       "version_major": 2,
       "version_minor": 0
      },
      "text/plain": [
       "Map:   0%|          | 0/20076 [00:00<?, ? examples/s]"
      ]
     },
     "metadata": {},
     "output_type": "display_data"
    },
    {
     "data": {
      "application/vnd.jupyter.widget-view+json": {
       "model_id": "3f40254364aa4c36916829d79405ce0f",
       "version_major": 2,
       "version_minor": 0
      },
      "text/plain": [
       "Map:   0%|          | 0/5020 [00:00<?, ? examples/s]"
      ]
     },
     "metadata": {},
     "output_type": "display_data"
    },
    {
     "name": "stdout",
     "output_type": "stream",
     "text": [
      "Tokenized dataset k100_balanced\n",
      "Features: dict_keys(['labels', 'input_ids', 'attention_mask'])\n",
      "---------------------------------------------------\n"
     ]
    },
    {
     "data": {
      "application/vnd.jupyter.widget-view+json": {
       "model_id": "be85f16831c7459ea62f321f23f8743c",
       "version_major": 2,
       "version_minor": 0
      },
      "text/plain": [
       "Map:   0%|          | 0/20076 [00:00<?, ? examples/s]"
      ]
     },
     "metadata": {},
     "output_type": "display_data"
    },
    {
     "data": {
      "application/vnd.jupyter.widget-view+json": {
       "model_id": "209a4dc0d8fa4f90811036d8ce402221",
       "version_major": 2,
       "version_minor": 0
      },
      "text/plain": [
       "Map:   0%|          | 0/5020 [00:00<?, ? examples/s]"
      ]
     },
     "metadata": {},
     "output_type": "display_data"
    },
    {
     "name": "stdout",
     "output_type": "stream",
     "text": [
      "Tokenized dataset k1000_balanced\n",
      "Features: dict_keys(['labels', 'input_ids', 'attention_mask'])\n",
      "---------------------------------------------------\n"
     ]
    },
    {
     "data": {
      "application/vnd.jupyter.widget-view+json": {
       "model_id": "43172f3dc48241578200ddac5d46fe14",
       "version_major": 2,
       "version_minor": 0
      },
      "text/plain": [
       "Map:   0%|          | 0/20076 [00:00<?, ? examples/s]"
      ]
     },
     "metadata": {},
     "output_type": "display_data"
    },
    {
     "data": {
      "application/vnd.jupyter.widget-view+json": {
       "model_id": "66d5dc3daad64e68b1bf764e138705b3",
       "version_major": 2,
       "version_minor": 0
      },
      "text/plain": [
       "Map:   0%|          | 0/5020 [00:00<?, ? examples/s]"
      ]
     },
     "metadata": {},
     "output_type": "display_data"
    },
    {
     "name": "stdout",
     "output_type": "stream",
     "text": [
      "Tokenized dataset k10000_balanced\n",
      "Features: dict_keys(['labels', 'input_ids', 'attention_mask'])\n",
      "---------------------------------------------------\n"
     ]
    }
   ],
   "source": [
    "# Load the ModernBERT tokenizer\n",
    "model_id = \"answerdotai/ModernBERT-base\"\n",
    "tokenizer = AutoTokenizer.from_pretrained(model_id)\n",
    "\n",
    "def tokenize(batch):\n",
    "    return tokenizer(batch['text'], padding='max_length', truncation=True, return_tensors=\"pt\", max_length=140)\n",
    "\n",
    "# Tokenize datasets\n",
    "tokenized_datasets = {}\n",
    "for dataset_name, dataset in processed_datasets.items():\n",
    "    if \"label\" in dataset[\"train\"].features.keys():\n",
    "        dataset = dataset.rename_column(\"label\", \"labels\")\n",
    "        \n",
    "    tokenized_dataset = dataset.map(tokenize, batched=True, remove_columns=[\"text\"])\n",
    "    tokenized_datasets[dataset_name] = tokenized_dataset\n",
    "    \n",
    "    print(f\"Tokenized dataset {dataset_name}\")\n",
    "    print(f\"Features: {tokenized_datasets[dataset_name]['train'].features.keys()}\")\n",
    "    print(\"---------------------------------------------------\")"
   ]
  },
  {
   "cell_type": "markdown",
   "id": "0fa1f2da",
   "metadata": {},
   "source": [
    "## Define Metric and Create Models"
   ]
  },
  {
   "cell_type": "code",
   "execution_count": 4,
   "id": "d5543f45",
   "metadata": {},
   "outputs": [],
   "source": [
    "# Metric helper method\n",
    "def compute_metrics(eval_pred):\n",
    "    predictions, labels = eval_pred\n",
    "    predictions = np.argmax(predictions, axis=1)\n",
    "    score = f1_score(\n",
    "        labels, predictions, pos_label=1, average=\"weighted\"\n",
    "    )\n",
    "    return {\"f1\": float(score) if score == 1 else score}\n",
    "\n",
    "# Prepare model labels\n",
    "labels = [\"no hate\", \"hate\"]\n",
    "num_labels = len(labels)\n",
    "label2id, id2label = dict(), dict()\n",
    "for i, label in enumerate(labels):\n",
    "    label2id[label] = str(i)\n",
    "    id2label[str(i)] = label\n",
    "\n",
    "# Function to create a model\n",
    "def create_model():\n",
    "    return AutoModelForSequenceClassification.from_pretrained(\n",
    "        model_id, num_labels=num_labels, label2id=label2id, id2label=id2label\n",
    "    )"
   ]
  },
  {
   "cell_type": "markdown",
   "id": "1ff4f92e",
   "metadata": {},
   "source": [
    "## Training Loop\n",
    "\n",
    "Now we'll train a model for each dataset."
   ]
  },
  {
   "cell_type": "code",
   "execution_count": null,
   "id": "d51576db",
   "metadata": {},
   "outputs": [
    {
     "name": "stdout",
     "output_type": "stream",
     "text": [
      "Using device: cuda\n",
      "\n",
      "Training model for dataset k5...\n"
     ]
    },
    {
     "name": "stderr",
     "output_type": "stream",
     "text": [
      "Some weights of ModernBertForSequenceClassification were not initialized from the model checkpoint at answerdotai/ModernBERT-base and are newly initialized: ['classifier.bias', 'classifier.weight']\n",
      "You should probably TRAIN this model on a down-stream task to be able to use it for predictions and inference.\n"
     ]
    },
    {
     "data": {
      "text/html": [
       "\n",
       "    <div>\n",
       "      \n",
       "      <progress value='1300' max='3135' style='width:300px; height:20px; vertical-align: middle;'></progress>\n",
       "      [1300/3135 05:09 < 07:17, 4.19 it/s, Epoch 2/5]\n",
       "    </div>\n",
       "    <table border=\"1\" class=\"dataframe\">\n",
       "  <thead>\n",
       " <tr style=\"text-align: left;\">\n",
       "      <th>Step</th>\n",
       "      <th>Training Loss</th>\n",
       "      <th>Validation Loss</th>\n",
       "      <th>F1</th>\n",
       "    </tr>\n",
       "  </thead>\n",
       "  <tbody>\n",
       "    <tr>\n",
       "      <td>100</td>\n",
       "      <td>1.014800</td>\n",
       "      <td>0.447693</td>\n",
       "      <td>0.720249</td>\n",
       "    </tr>\n",
       "    <tr>\n",
       "      <td>200</td>\n",
       "      <td>0.781400</td>\n",
       "      <td>0.359422</td>\n",
       "      <td>0.832663</td>\n",
       "    </tr>\n",
       "    <tr>\n",
       "      <td>300</td>\n",
       "      <td>0.667400</td>\n",
       "      <td>0.302555</td>\n",
       "      <td>0.857283</td>\n",
       "    </tr>\n",
       "    <tr>\n",
       "      <td>400</td>\n",
       "      <td>0.586400</td>\n",
       "      <td>0.277686</td>\n",
       "      <td>0.876841</td>\n",
       "    </tr>\n",
       "    <tr>\n",
       "      <td>500</td>\n",
       "      <td>0.498200</td>\n",
       "      <td>0.274185</td>\n",
       "      <td>0.875006</td>\n",
       "    </tr>\n",
       "    <tr>\n",
       "      <td>600</td>\n",
       "      <td>0.474500</td>\n",
       "      <td>0.239779</td>\n",
       "      <td>0.898355</td>\n",
       "    </tr>\n",
       "    <tr>\n",
       "      <td>700</td>\n",
       "      <td>0.347600</td>\n",
       "      <td>0.256143</td>\n",
       "      <td>0.894249</td>\n",
       "    </tr>\n",
       "    <tr>\n",
       "      <td>800</td>\n",
       "      <td>0.346600</td>\n",
       "      <td>0.232872</td>\n",
       "      <td>0.900812</td>\n",
       "    </tr>\n",
       "    <tr>\n",
       "      <td>900</td>\n",
       "      <td>0.332000</td>\n",
       "      <td>0.238290</td>\n",
       "      <td>0.902392</td>\n",
       "    </tr>\n",
       "    <tr>\n",
       "      <td>1000</td>\n",
       "      <td>0.343500</td>\n",
       "      <td>0.239454</td>\n",
       "      <td>0.905292</td>\n",
       "    </tr>\n",
       "    <tr>\n",
       "      <td>1100</td>\n",
       "      <td>0.319000</td>\n",
       "      <td>0.245391</td>\n",
       "      <td>0.902859</td>\n",
       "    </tr>\n",
       "    <tr>\n",
       "      <td>1200</td>\n",
       "      <td>0.348200</td>\n",
       "      <td>0.277831</td>\n",
       "      <td>0.891065</td>\n",
       "    </tr>\n",
       "    <tr>\n",
       "      <td>1300</td>\n",
       "      <td>0.129400</td>\n",
       "      <td>0.355664</td>\n",
       "      <td>0.900419</td>\n",
       "    </tr>\n",
       "  </tbody>\n",
       "</table><p>"
      ],
      "text/plain": [
       "<IPython.core.display.HTML object>"
      ]
     },
     "metadata": {},
     "output_type": "display_data"
    },
    {
     "name": "stdout",
     "output_type": "stream",
     "text": [
      "Model for k5 saved to models_knn/ModernBERT-k5-final\n",
      "Tokenizer for k5 saved to models_knn/ModernBERT-k5-tokenizer\n",
      "\n",
      "Training model for dataset k100...\n"
     ]
    },
    {
     "name": "stderr",
     "output_type": "stream",
     "text": [
      "Some weights of ModernBertForSequenceClassification were not initialized from the model checkpoint at answerdotai/ModernBERT-base and are newly initialized: ['classifier.bias', 'classifier.weight']\n",
      "You should probably TRAIN this model on a down-stream task to be able to use it for predictions and inference.\n"
     ]
    },
    {
     "data": {
      "text/html": [
       "\n",
       "    <div>\n",
       "      \n",
       "      <progress value='1500' max='3135' style='width:300px; height:20px; vertical-align: middle;'></progress>\n",
       "      [1500/3135 06:03 < 06:36, 4.12 it/s, Epoch 2/5]\n",
       "    </div>\n",
       "    <table border=\"1\" class=\"dataframe\">\n",
       "  <thead>\n",
       " <tr style=\"text-align: left;\">\n",
       "      <th>Step</th>\n",
       "      <th>Training Loss</th>\n",
       "      <th>Validation Loss</th>\n",
       "      <th>F1</th>\n",
       "    </tr>\n",
       "  </thead>\n",
       "  <tbody>\n",
       "    <tr>\n",
       "      <td>100</td>\n",
       "      <td>1.008600</td>\n",
       "      <td>0.450748</td>\n",
       "      <td>0.738215</td>\n",
       "    </tr>\n",
       "    <tr>\n",
       "      <td>200</td>\n",
       "      <td>0.732600</td>\n",
       "      <td>0.452366</td>\n",
       "      <td>0.793190</td>\n",
       "    </tr>\n",
       "    <tr>\n",
       "      <td>300</td>\n",
       "      <td>0.628200</td>\n",
       "      <td>0.313805</td>\n",
       "      <td>0.858103</td>\n",
       "    </tr>\n",
       "    <tr>\n",
       "      <td>400</td>\n",
       "      <td>0.661100</td>\n",
       "      <td>0.272880</td>\n",
       "      <td>0.879899</td>\n",
       "    </tr>\n",
       "    <tr>\n",
       "      <td>500</td>\n",
       "      <td>0.518100</td>\n",
       "      <td>0.250739</td>\n",
       "      <td>0.885838</td>\n",
       "    </tr>\n",
       "    <tr>\n",
       "      <td>600</td>\n",
       "      <td>0.455200</td>\n",
       "      <td>0.257085</td>\n",
       "      <td>0.886863</td>\n",
       "    </tr>\n",
       "    <tr>\n",
       "      <td>700</td>\n",
       "      <td>0.363700</td>\n",
       "      <td>0.257951</td>\n",
       "      <td>0.891713</td>\n",
       "    </tr>\n",
       "    <tr>\n",
       "      <td>800</td>\n",
       "      <td>0.369700</td>\n",
       "      <td>0.236611</td>\n",
       "      <td>0.902279</td>\n",
       "    </tr>\n",
       "    <tr>\n",
       "      <td>900</td>\n",
       "      <td>0.381000</td>\n",
       "      <td>0.257191</td>\n",
       "      <td>0.890511</td>\n",
       "    </tr>\n",
       "    <tr>\n",
       "      <td>1000</td>\n",
       "      <td>0.339000</td>\n",
       "      <td>0.220743</td>\n",
       "      <td>0.907177</td>\n",
       "    </tr>\n",
       "    <tr>\n",
       "      <td>1100</td>\n",
       "      <td>0.359700</td>\n",
       "      <td>0.219826</td>\n",
       "      <td>0.908694</td>\n",
       "    </tr>\n",
       "    <tr>\n",
       "      <td>1200</td>\n",
       "      <td>0.329500</td>\n",
       "      <td>0.207393</td>\n",
       "      <td>0.911988</td>\n",
       "    </tr>\n",
       "    <tr>\n",
       "      <td>1300</td>\n",
       "      <td>0.147900</td>\n",
       "      <td>0.293535</td>\n",
       "      <td>0.907618</td>\n",
       "    </tr>\n",
       "    <tr>\n",
       "      <td>1400</td>\n",
       "      <td>0.138400</td>\n",
       "      <td>0.324166</td>\n",
       "      <td>0.909696</td>\n",
       "    </tr>\n",
       "    <tr>\n",
       "      <td>1500</td>\n",
       "      <td>0.125000</td>\n",
       "      <td>0.388024</td>\n",
       "      <td>0.908488</td>\n",
       "    </tr>\n",
       "  </tbody>\n",
       "</table><p>"
      ],
      "text/plain": [
       "<IPython.core.display.HTML object>"
      ]
     },
     "metadata": {},
     "output_type": "display_data"
    },
    {
     "name": "stdout",
     "output_type": "stream",
     "text": [
      "Model for k100 saved to models_knn/ModernBERT-k100-final\n",
      "Tokenizer for k100 saved to models_knn/ModernBERT-k100-tokenizer\n",
      "\n",
      "Training model for dataset k1000...\n"
     ]
    },
    {
     "name": "stderr",
     "output_type": "stream",
     "text": [
      "Some weights of ModernBertForSequenceClassification were not initialized from the model checkpoint at answerdotai/ModernBERT-base and are newly initialized: ['classifier.bias', 'classifier.weight']\n",
      "You should probably TRAIN this model on a down-stream task to be able to use it for predictions and inference.\n"
     ]
    },
    {
     "data": {
      "text/html": [
       "\n",
       "    <div>\n",
       "      \n",
       "      <progress value='1500' max='3135' style='width:300px; height:20px; vertical-align: middle;'></progress>\n",
       "      [1500/3135 06:01 < 06:34, 4.15 it/s, Epoch 2/5]\n",
       "    </div>\n",
       "    <table border=\"1\" class=\"dataframe\">\n",
       "  <thead>\n",
       " <tr style=\"text-align: left;\">\n",
       "      <th>Step</th>\n",
       "      <th>Training Loss</th>\n",
       "      <th>Validation Loss</th>\n",
       "      <th>F1</th>\n",
       "    </tr>\n",
       "  </thead>\n",
       "  <tbody>\n",
       "    <tr>\n",
       "      <td>100</td>\n",
       "      <td>1.032000</td>\n",
       "      <td>0.448075</td>\n",
       "      <td>0.746832</td>\n",
       "    </tr>\n",
       "    <tr>\n",
       "      <td>200</td>\n",
       "      <td>0.746200</td>\n",
       "      <td>0.354329</td>\n",
       "      <td>0.830002</td>\n",
       "    </tr>\n",
       "    <tr>\n",
       "      <td>300</td>\n",
       "      <td>0.621400</td>\n",
       "      <td>0.347943</td>\n",
       "      <td>0.832232</td>\n",
       "    </tr>\n",
       "    <tr>\n",
       "      <td>400</td>\n",
       "      <td>0.591500</td>\n",
       "      <td>0.281908</td>\n",
       "      <td>0.876551</td>\n",
       "    </tr>\n",
       "    <tr>\n",
       "      <td>500</td>\n",
       "      <td>0.494400</td>\n",
       "      <td>0.253920</td>\n",
       "      <td>0.892998</td>\n",
       "    </tr>\n",
       "    <tr>\n",
       "      <td>600</td>\n",
       "      <td>0.484300</td>\n",
       "      <td>0.238206</td>\n",
       "      <td>0.899939</td>\n",
       "    </tr>\n",
       "    <tr>\n",
       "      <td>700</td>\n",
       "      <td>0.354900</td>\n",
       "      <td>0.234377</td>\n",
       "      <td>0.902132</td>\n",
       "    </tr>\n",
       "    <tr>\n",
       "      <td>800</td>\n",
       "      <td>0.363600</td>\n",
       "      <td>0.230858</td>\n",
       "      <td>0.905275</td>\n",
       "    </tr>\n",
       "    <tr>\n",
       "      <td>900</td>\n",
       "      <td>0.354100</td>\n",
       "      <td>0.233010</td>\n",
       "      <td>0.908594</td>\n",
       "    </tr>\n",
       "    <tr>\n",
       "      <td>1000</td>\n",
       "      <td>0.294100</td>\n",
       "      <td>0.237049</td>\n",
       "      <td>0.910745</td>\n",
       "    </tr>\n",
       "    <tr>\n",
       "      <td>1100</td>\n",
       "      <td>0.367300</td>\n",
       "      <td>0.223078</td>\n",
       "      <td>0.906870</td>\n",
       "    </tr>\n",
       "    <tr>\n",
       "      <td>1200</td>\n",
       "      <td>0.291500</td>\n",
       "      <td>0.219801</td>\n",
       "      <td>0.914137</td>\n",
       "    </tr>\n",
       "    <tr>\n",
       "      <td>1300</td>\n",
       "      <td>0.145500</td>\n",
       "      <td>0.306914</td>\n",
       "      <td>0.910343</td>\n",
       "    </tr>\n",
       "    <tr>\n",
       "      <td>1400</td>\n",
       "      <td>0.148300</td>\n",
       "      <td>0.357754</td>\n",
       "      <td>0.911218</td>\n",
       "    </tr>\n",
       "    <tr>\n",
       "      <td>1500</td>\n",
       "      <td>0.116200</td>\n",
       "      <td>0.428086</td>\n",
       "      <td>0.904530</td>\n",
       "    </tr>\n",
       "  </tbody>\n",
       "</table><p>"
      ],
      "text/plain": [
       "<IPython.core.display.HTML object>"
      ]
     },
     "metadata": {},
     "output_type": "display_data"
    },
    {
     "name": "stdout",
     "output_type": "stream",
     "text": [
      "Model for k1000 saved to models_knn/ModernBERT-k1000-final\n",
      "Tokenizer for k1000 saved to models_knn/ModernBERT-k1000-tokenizer\n",
      "\n",
      "Training model for dataset k10000...\n"
     ]
    },
    {
     "name": "stderr",
     "output_type": "stream",
     "text": [
      "Some weights of ModernBertForSequenceClassification were not initialized from the model checkpoint at answerdotai/ModernBERT-base and are newly initialized: ['classifier.bias', 'classifier.weight']\n",
      "You should probably TRAIN this model on a down-stream task to be able to use it for predictions and inference.\n"
     ]
    },
    {
     "data": {
      "text/html": [
       "\n",
       "    <div>\n",
       "      \n",
       "      <progress value='1700' max='3135' style='width:300px; height:20px; vertical-align: middle;'></progress>\n",
       "      [1700/3135 06:50 < 05:47, 4.13 it/s, Epoch 2/5]\n",
       "    </div>\n",
       "    <table border=\"1\" class=\"dataframe\">\n",
       "  <thead>\n",
       " <tr style=\"text-align: left;\">\n",
       "      <th>Step</th>\n",
       "      <th>Training Loss</th>\n",
       "      <th>Validation Loss</th>\n",
       "      <th>F1</th>\n",
       "    </tr>\n",
       "  </thead>\n",
       "  <tbody>\n",
       "    <tr>\n",
       "      <td>100</td>\n",
       "      <td>1.023100</td>\n",
       "      <td>0.437441</td>\n",
       "      <td>0.763884</td>\n",
       "    </tr>\n",
       "    <tr>\n",
       "      <td>200</td>\n",
       "      <td>0.756300</td>\n",
       "      <td>0.346169</td>\n",
       "      <td>0.833405</td>\n",
       "    </tr>\n",
       "    <tr>\n",
       "      <td>300</td>\n",
       "      <td>0.634400</td>\n",
       "      <td>0.328687</td>\n",
       "      <td>0.835238</td>\n",
       "    </tr>\n",
       "    <tr>\n",
       "      <td>400</td>\n",
       "      <td>0.602100</td>\n",
       "      <td>0.273854</td>\n",
       "      <td>0.881516</td>\n",
       "    </tr>\n",
       "    <tr>\n",
       "      <td>500</td>\n",
       "      <td>0.537400</td>\n",
       "      <td>0.238188</td>\n",
       "      <td>0.897322</td>\n",
       "    </tr>\n",
       "    <tr>\n",
       "      <td>600</td>\n",
       "      <td>0.403800</td>\n",
       "      <td>0.239882</td>\n",
       "      <td>0.899243</td>\n",
       "    </tr>\n",
       "    <tr>\n",
       "      <td>700</td>\n",
       "      <td>0.322200</td>\n",
       "      <td>0.253959</td>\n",
       "      <td>0.898557</td>\n",
       "    </tr>\n",
       "    <tr>\n",
       "      <td>800</td>\n",
       "      <td>0.365000</td>\n",
       "      <td>0.236264</td>\n",
       "      <td>0.906204</td>\n",
       "    </tr>\n",
       "    <tr>\n",
       "      <td>900</td>\n",
       "      <td>0.337400</td>\n",
       "      <td>0.227619</td>\n",
       "      <td>0.911380</td>\n",
       "    </tr>\n",
       "    <tr>\n",
       "      <td>1000</td>\n",
       "      <td>0.360400</td>\n",
       "      <td>0.211551</td>\n",
       "      <td>0.913804</td>\n",
       "    </tr>\n",
       "    <tr>\n",
       "      <td>1100</td>\n",
       "      <td>0.336500</td>\n",
       "      <td>0.218022</td>\n",
       "      <td>0.915506</td>\n",
       "    </tr>\n",
       "    <tr>\n",
       "      <td>1200</td>\n",
       "      <td>0.350700</td>\n",
       "      <td>0.230351</td>\n",
       "      <td>0.901379</td>\n",
       "    </tr>\n",
       "    <tr>\n",
       "      <td>1300</td>\n",
       "      <td>0.171900</td>\n",
       "      <td>0.349096</td>\n",
       "      <td>0.915029</td>\n",
       "    </tr>\n",
       "    <tr>\n",
       "      <td>1400</td>\n",
       "      <td>0.148000</td>\n",
       "      <td>0.328231</td>\n",
       "      <td>0.919980</td>\n",
       "    </tr>\n",
       "    <tr>\n",
       "      <td>1500</td>\n",
       "      <td>0.079800</td>\n",
       "      <td>0.438211</td>\n",
       "      <td>0.917129</td>\n",
       "    </tr>\n",
       "    <tr>\n",
       "      <td>1600</td>\n",
       "      <td>0.106600</td>\n",
       "      <td>0.412271</td>\n",
       "      <td>0.916685</td>\n",
       "    </tr>\n",
       "    <tr>\n",
       "      <td>1700</td>\n",
       "      <td>0.126500</td>\n",
       "      <td>0.469699</td>\n",
       "      <td>0.904296</td>\n",
       "    </tr>\n",
       "  </tbody>\n",
       "</table><p>"
      ],
      "text/plain": [
       "<IPython.core.display.HTML object>"
      ]
     },
     "metadata": {},
     "output_type": "display_data"
    },
    {
     "name": "stdout",
     "output_type": "stream",
     "text": [
      "Model for k10000 saved to models_knn/ModernBERT-k10000-final\n",
      "Tokenizer for k10000 saved to models_knn/ModernBERT-k10000-tokenizer\n",
      "\n",
      "Training model for dataset k5_balanced...\n"
     ]
    },
    {
     "name": "stderr",
     "output_type": "stream",
     "text": [
      "Some weights of ModernBertForSequenceClassification were not initialized from the model checkpoint at answerdotai/ModernBERT-base and are newly initialized: ['classifier.bias', 'classifier.weight']\n",
      "You should probably TRAIN this model on a down-stream task to be able to use it for predictions and inference.\n"
     ]
    },
    {
     "data": {
      "text/html": [
       "\n",
       "    <div>\n",
       "      \n",
       "      <progress value='1100' max='3135' style='width:300px; height:20px; vertical-align: middle;'></progress>\n",
       "      [1100/3135 04:25 < 08:11, 4.14 it/s, Epoch 1/5]\n",
       "    </div>\n",
       "    <table border=\"1\" class=\"dataframe\">\n",
       "  <thead>\n",
       " <tr style=\"text-align: left;\">\n",
       "      <th>Step</th>\n",
       "      <th>Training Loss</th>\n",
       "      <th>Validation Loss</th>\n",
       "      <th>F1</th>\n",
       "    </tr>\n",
       "  </thead>\n",
       "  <tbody>\n",
       "    <tr>\n",
       "      <td>100</td>\n",
       "      <td>1.143800</td>\n",
       "      <td>0.509895</td>\n",
       "      <td>0.752978</td>\n",
       "    </tr>\n",
       "    <tr>\n",
       "      <td>200</td>\n",
       "      <td>0.809100</td>\n",
       "      <td>0.391244</td>\n",
       "      <td>0.824678</td>\n",
       "    </tr>\n",
       "    <tr>\n",
       "      <td>300</td>\n",
       "      <td>0.677300</td>\n",
       "      <td>0.323764</td>\n",
       "      <td>0.862732</td>\n",
       "    </tr>\n",
       "    <tr>\n",
       "      <td>400</td>\n",
       "      <td>0.570500</td>\n",
       "      <td>0.288001</td>\n",
       "      <td>0.872297</td>\n",
       "    </tr>\n",
       "    <tr>\n",
       "      <td>500</td>\n",
       "      <td>0.544100</td>\n",
       "      <td>0.272582</td>\n",
       "      <td>0.880651</td>\n",
       "    </tr>\n",
       "    <tr>\n",
       "      <td>600</td>\n",
       "      <td>0.553000</td>\n",
       "      <td>0.292434</td>\n",
       "      <td>0.873847</td>\n",
       "    </tr>\n",
       "    <tr>\n",
       "      <td>700</td>\n",
       "      <td>0.399600</td>\n",
       "      <td>0.253915</td>\n",
       "      <td>0.889433</td>\n",
       "    </tr>\n",
       "    <tr>\n",
       "      <td>800</td>\n",
       "      <td>0.321900</td>\n",
       "      <td>0.264400</td>\n",
       "      <td>0.898924</td>\n",
       "    </tr>\n",
       "    <tr>\n",
       "      <td>900</td>\n",
       "      <td>0.312200</td>\n",
       "      <td>0.323297</td>\n",
       "      <td>0.875341</td>\n",
       "    </tr>\n",
       "    <tr>\n",
       "      <td>1000</td>\n",
       "      <td>0.326100</td>\n",
       "      <td>0.270095</td>\n",
       "      <td>0.897211</td>\n",
       "    </tr>\n",
       "    <tr>\n",
       "      <td>1100</td>\n",
       "      <td>0.362000</td>\n",
       "      <td>0.242798</td>\n",
       "      <td>0.896005</td>\n",
       "    </tr>\n",
       "  </tbody>\n",
       "</table><p>"
      ],
      "text/plain": [
       "<IPython.core.display.HTML object>"
      ]
     },
     "metadata": {},
     "output_type": "display_data"
    },
    {
     "name": "stdout",
     "output_type": "stream",
     "text": [
      "Model for k5_balanced saved to models_knn/ModernBERT-k5_balanced-final\n",
      "Tokenizer for k5_balanced saved to models_knn/ModernBERT-k5_balanced-tokenizer\n",
      "\n",
      "Training model for dataset k100_balanced...\n"
     ]
    },
    {
     "name": "stderr",
     "output_type": "stream",
     "text": [
      "Some weights of ModernBertForSequenceClassification were not initialized from the model checkpoint at answerdotai/ModernBERT-base and are newly initialized: ['classifier.bias', 'classifier.weight']\n",
      "You should probably TRAIN this model on a down-stream task to be able to use it for predictions and inference.\n"
     ]
    },
    {
     "data": {
      "text/html": [
       "\n",
       "    <div>\n",
       "      \n",
       "      <progress value='1400' max='3135' style='width:300px; height:20px; vertical-align: middle;'></progress>\n",
       "      [1400/3135 05:36 < 06:57, 4.15 it/s, Epoch 2/5]\n",
       "    </div>\n",
       "    <table border=\"1\" class=\"dataframe\">\n",
       "  <thead>\n",
       " <tr style=\"text-align: left;\">\n",
       "      <th>Step</th>\n",
       "      <th>Training Loss</th>\n",
       "      <th>Validation Loss</th>\n",
       "      <th>F1</th>\n",
       "    </tr>\n",
       "  </thead>\n",
       "  <tbody>\n",
       "    <tr>\n",
       "      <td>100</td>\n",
       "      <td>1.187900</td>\n",
       "      <td>0.502614</td>\n",
       "      <td>0.758166</td>\n",
       "    </tr>\n",
       "    <tr>\n",
       "      <td>200</td>\n",
       "      <td>0.834000</td>\n",
       "      <td>0.394121</td>\n",
       "      <td>0.819272</td>\n",
       "    </tr>\n",
       "    <tr>\n",
       "      <td>300</td>\n",
       "      <td>0.712300</td>\n",
       "      <td>0.373085</td>\n",
       "      <td>0.843599</td>\n",
       "    </tr>\n",
       "    <tr>\n",
       "      <td>400</td>\n",
       "      <td>0.606800</td>\n",
       "      <td>0.309364</td>\n",
       "      <td>0.861078</td>\n",
       "    </tr>\n",
       "    <tr>\n",
       "      <td>500</td>\n",
       "      <td>0.526300</td>\n",
       "      <td>0.281974</td>\n",
       "      <td>0.876069</td>\n",
       "    </tr>\n",
       "    <tr>\n",
       "      <td>600</td>\n",
       "      <td>0.521000</td>\n",
       "      <td>0.269889</td>\n",
       "      <td>0.884245</td>\n",
       "    </tr>\n",
       "    <tr>\n",
       "      <td>700</td>\n",
       "      <td>0.409000</td>\n",
       "      <td>0.279932</td>\n",
       "      <td>0.885728</td>\n",
       "    </tr>\n",
       "    <tr>\n",
       "      <td>800</td>\n",
       "      <td>0.370000</td>\n",
       "      <td>0.271939</td>\n",
       "      <td>0.879535</td>\n",
       "    </tr>\n",
       "    <tr>\n",
       "      <td>900</td>\n",
       "      <td>0.316100</td>\n",
       "      <td>0.267060</td>\n",
       "      <td>0.892577</td>\n",
       "    </tr>\n",
       "    <tr>\n",
       "      <td>1000</td>\n",
       "      <td>0.367800</td>\n",
       "      <td>0.263208</td>\n",
       "      <td>0.891770</td>\n",
       "    </tr>\n",
       "    <tr>\n",
       "      <td>1100</td>\n",
       "      <td>0.339800</td>\n",
       "      <td>0.231900</td>\n",
       "      <td>0.905316</td>\n",
       "    </tr>\n",
       "    <tr>\n",
       "      <td>1200</td>\n",
       "      <td>0.364600</td>\n",
       "      <td>0.237253</td>\n",
       "      <td>0.898747</td>\n",
       "    </tr>\n",
       "    <tr>\n",
       "      <td>1300</td>\n",
       "      <td>0.174200</td>\n",
       "      <td>0.404842</td>\n",
       "      <td>0.899178</td>\n",
       "    </tr>\n",
       "    <tr>\n",
       "      <td>1400</td>\n",
       "      <td>0.125900</td>\n",
       "      <td>0.434304</td>\n",
       "      <td>0.899162</td>\n",
       "    </tr>\n",
       "  </tbody>\n",
       "</table><p>"
      ],
      "text/plain": [
       "<IPython.core.display.HTML object>"
      ]
     },
     "metadata": {},
     "output_type": "display_data"
    },
    {
     "name": "stdout",
     "output_type": "stream",
     "text": [
      "Model for k100_balanced saved to models_knn/ModernBERT-k100_balanced-final\n",
      "Tokenizer for k100_balanced saved to models_knn/ModernBERT-k100_balanced-tokenizer\n",
      "\n",
      "Training model for dataset k1000_balanced...\n"
     ]
    },
    {
     "name": "stderr",
     "output_type": "stream",
     "text": [
      "Some weights of ModernBertForSequenceClassification were not initialized from the model checkpoint at answerdotai/ModernBERT-base and are newly initialized: ['classifier.bias', 'classifier.weight']\n",
      "You should probably TRAIN this model on a down-stream task to be able to use it for predictions and inference.\n"
     ]
    },
    {
     "data": {
      "text/html": [
       "\n",
       "    <div>\n",
       "      \n",
       "      <progress value='1200' max='3135' style='width:300px; height:20px; vertical-align: middle;'></progress>\n",
       "      [1200/3135 04:48 < 07:46, 4.15 it/s, Epoch 1/5]\n",
       "    </div>\n",
       "    <table border=\"1\" class=\"dataframe\">\n",
       "  <thead>\n",
       " <tr style=\"text-align: left;\">\n",
       "      <th>Step</th>\n",
       "      <th>Training Loss</th>\n",
       "      <th>Validation Loss</th>\n",
       "      <th>F1</th>\n",
       "    </tr>\n",
       "  </thead>\n",
       "  <tbody>\n",
       "    <tr>\n",
       "      <td>100</td>\n",
       "      <td>1.143700</td>\n",
       "      <td>0.482852</td>\n",
       "      <td>0.778029</td>\n",
       "    </tr>\n",
       "    <tr>\n",
       "      <td>200</td>\n",
       "      <td>0.744500</td>\n",
       "      <td>0.372151</td>\n",
       "      <td>0.834654</td>\n",
       "    </tr>\n",
       "    <tr>\n",
       "      <td>300</td>\n",
       "      <td>0.690300</td>\n",
       "      <td>0.404936</td>\n",
       "      <td>0.836033</td>\n",
       "    </tr>\n",
       "    <tr>\n",
       "      <td>400</td>\n",
       "      <td>0.610700</td>\n",
       "      <td>0.297692</td>\n",
       "      <td>0.875298</td>\n",
       "    </tr>\n",
       "    <tr>\n",
       "      <td>500</td>\n",
       "      <td>0.547000</td>\n",
       "      <td>0.325918</td>\n",
       "      <td>0.860368</td>\n",
       "    </tr>\n",
       "    <tr>\n",
       "      <td>600</td>\n",
       "      <td>0.548600</td>\n",
       "      <td>0.249180</td>\n",
       "      <td>0.887848</td>\n",
       "    </tr>\n",
       "    <tr>\n",
       "      <td>700</td>\n",
       "      <td>0.362100</td>\n",
       "      <td>0.286141</td>\n",
       "      <td>0.885557</td>\n",
       "    </tr>\n",
       "    <tr>\n",
       "      <td>800</td>\n",
       "      <td>0.394400</td>\n",
       "      <td>0.252171</td>\n",
       "      <td>0.895120</td>\n",
       "    </tr>\n",
       "    <tr>\n",
       "      <td>900</td>\n",
       "      <td>0.363000</td>\n",
       "      <td>0.254542</td>\n",
       "      <td>0.899560</td>\n",
       "    </tr>\n",
       "    <tr>\n",
       "      <td>1000</td>\n",
       "      <td>0.320600</td>\n",
       "      <td>0.247548</td>\n",
       "      <td>0.900323</td>\n",
       "    </tr>\n",
       "    <tr>\n",
       "      <td>1100</td>\n",
       "      <td>0.348500</td>\n",
       "      <td>0.279925</td>\n",
       "      <td>0.895739</td>\n",
       "    </tr>\n",
       "    <tr>\n",
       "      <td>1200</td>\n",
       "      <td>0.317700</td>\n",
       "      <td>0.257036</td>\n",
       "      <td>0.900174</td>\n",
       "    </tr>\n",
       "  </tbody>\n",
       "</table><p>"
      ],
      "text/plain": [
       "<IPython.core.display.HTML object>"
      ]
     },
     "metadata": {},
     "output_type": "display_data"
    },
    {
     "name": "stdout",
     "output_type": "stream",
     "text": [
      "Model for k1000_balanced saved to models_knn/ModernBERT-k1000_balanced-final\n",
      "Tokenizer for k1000_balanced saved to models_knn/ModernBERT-k1000_balanced-tokenizer\n",
      "\n",
      "Training model for dataset k10000_balanced...\n"
     ]
    },
    {
     "name": "stderr",
     "output_type": "stream",
     "text": [
      "Some weights of ModernBertForSequenceClassification were not initialized from the model checkpoint at answerdotai/ModernBERT-base and are newly initialized: ['classifier.bias', 'classifier.weight']\n",
      "You should probably TRAIN this model on a down-stream task to be able to use it for predictions and inference.\n"
     ]
    },
    {
     "data": {
      "text/html": [
       "\n",
       "    <div>\n",
       "      \n",
       "      <progress value='1100' max='3135' style='width:300px; height:20px; vertical-align: middle;'></progress>\n",
       "      [1100/3135 04:25 < 08:11, 4.14 it/s, Epoch 1/5]\n",
       "    </div>\n",
       "    <table border=\"1\" class=\"dataframe\">\n",
       "  <thead>\n",
       " <tr style=\"text-align: left;\">\n",
       "      <th>Step</th>\n",
       "      <th>Training Loss</th>\n",
       "      <th>Validation Loss</th>\n",
       "      <th>F1</th>\n",
       "    </tr>\n",
       "  </thead>\n",
       "  <tbody>\n",
       "    <tr>\n",
       "      <td>100</td>\n",
       "      <td>1.149800</td>\n",
       "      <td>0.503019</td>\n",
       "      <td>0.764192</td>\n",
       "    </tr>\n",
       "    <tr>\n",
       "      <td>200</td>\n",
       "      <td>0.851600</td>\n",
       "      <td>0.381467</td>\n",
       "      <td>0.829879</td>\n",
       "    </tr>\n",
       "    <tr>\n",
       "      <td>300</td>\n",
       "      <td>0.687200</td>\n",
       "      <td>0.320233</td>\n",
       "      <td>0.858707</td>\n",
       "    </tr>\n",
       "    <tr>\n",
       "      <td>400</td>\n",
       "      <td>0.608500</td>\n",
       "      <td>0.294613</td>\n",
       "      <td>0.873303</td>\n",
       "    </tr>\n",
       "    <tr>\n",
       "      <td>500</td>\n",
       "      <td>0.545700</td>\n",
       "      <td>0.260041</td>\n",
       "      <td>0.890237</td>\n",
       "    </tr>\n",
       "    <tr>\n",
       "      <td>600</td>\n",
       "      <td>0.583500</td>\n",
       "      <td>0.255318</td>\n",
       "      <td>0.890516</td>\n",
       "    </tr>\n",
       "    <tr>\n",
       "      <td>700</td>\n",
       "      <td>0.422400</td>\n",
       "      <td>0.237165</td>\n",
       "      <td>0.901177</td>\n",
       "    </tr>\n",
       "    <tr>\n",
       "      <td>800</td>\n",
       "      <td>0.436400</td>\n",
       "      <td>0.239087</td>\n",
       "      <td>0.904546</td>\n",
       "    </tr>\n",
       "    <tr>\n",
       "      <td>900</td>\n",
       "      <td>0.409600</td>\n",
       "      <td>0.238707</td>\n",
       "      <td>0.899763</td>\n",
       "    </tr>\n",
       "    <tr>\n",
       "      <td>1000</td>\n",
       "      <td>0.384200</td>\n",
       "      <td>0.274389</td>\n",
       "      <td>0.893630</td>\n",
       "    </tr>\n",
       "    <tr>\n",
       "      <td>1100</td>\n",
       "      <td>0.342100</td>\n",
       "      <td>0.260151</td>\n",
       "      <td>0.904185</td>\n",
       "    </tr>\n",
       "  </tbody>\n",
       "</table><p>"
      ],
      "text/plain": [
       "<IPython.core.display.HTML object>"
      ]
     },
     "metadata": {},
     "output_type": "display_data"
    },
    {
     "name": "stdout",
     "output_type": "stream",
     "text": [
      "Model for k10000_balanced saved to models_knn/ModernBERT-k10000_balanced-final\n",
      "Tokenizer for k10000_balanced saved to models_knn/ModernBERT-k10000_balanced-tokenizer\n"
     ]
    }
   ],
   "source": [
    "from transformers import EarlyStoppingCallback\n",
    "\n",
    "# Move model to GPU if available\n",
    "device = torch.device('cuda' if torch.cuda.is_available() else 'cpu')\n",
    "print(f\"Using device: {device}\")\n",
    "\n",
    "# Train a model for each dataset\n",
    "trained_models = {}\n",
    "for dataset_name, tokenized_dataset in tokenized_datasets.items():\n",
    "    print(f\"\\nTraining model for dataset {dataset_name}...\")\n",
    "    \n",
    "    model = create_model()\n",
    "    model.to(device)\n",
    "    \n",
    "    # Define training arguments\n",
    "    output_dir = f\"models_knn/ModernBERT-{dataset_name}-classifier\"\n",
    "    training_args = TrainingArguments(\n",
    "        output_dir=output_dir,\n",
    "        per_device_train_batch_size=16,        \n",
    "        per_device_eval_batch_size=32,          \n",
    "        learning_rate=2e-5,                     \n",
    "        num_train_epochs=5,                     \n",
    "        warmup_ratio=0.1,                       \n",
    "        weight_decay=0.01,                      \n",
    "        bf16=torch.cuda.is_available(),         \n",
    "        fp16=not torch.cuda.is_available() and hasattr(torch, 'has_mps'),  \n",
    "        optim=\"adamw_torch_fused\" if torch.cuda.is_available() else \"adamw_torch\", \n",
    "        logging_strategy=\"steps\",\n",
    "        logging_steps=50,                       \n",
    "        eval_strategy=\"steps\",            \n",
    "        eval_steps=100,                        \n",
    "        save_strategy=\"steps\",                  \n",
    "        save_steps=100,                         \n",
    "        save_total_limit=3,                     \n",
    "        load_best_model_at_end=True,\n",
    "        metric_for_best_model=\"f1\",\n",
    "        greater_is_better=True,                 \n",
    "        gradient_accumulation_steps=2,          \n",
    "        report_to=\"tensorboard\",                \n",
    "        lr_scheduler_type=\"cosine\",            \n",
    "        seed=42                                 \n",
    "    )\n",
    "    \n",
    "    early_stopping_callback = EarlyStoppingCallback(\n",
    "        early_stopping_patience=3,  # Number of evaluations with no improvement after which training will stop\n",
    "        early_stopping_threshold=0.001  # Minimum change to qualify as improvement\n",
    "    )\n",
    "    \n",
    "    # Create a Trainer instance\n",
    "    trainer = Trainer(\n",
    "        model=model,\n",
    "        args=training_args,\n",
    "        train_dataset=tokenized_dataset[\"train\"],\n",
    "        eval_dataset=tokenized_dataset[\"test\"],\n",
    "        compute_metrics=compute_metrics,\n",
    "        callbacks=[early_stopping_callback]\n",
    "    )\n",
    "    \n",
    "    # Train the model\n",
    "    trainer.train()\n",
    "    \n",
    "    model_path = f\"models_knn/ModernBERT-{dataset_name}-final\"\n",
    "    tokenizer_path = f\"models_knn/ModernBERT-{dataset_name}-tokenizer\"\n",
    "    model.save_pretrained(model_path)\n",
    "    tokenizer.save_pretrained(tokenizer_path)\n",
    "    \n",
    "    print(f\"Model for {dataset_name} saved to {model_path}\")\n",
    "    print(f\"Tokenizer for {dataset_name} saved to {tokenizer_path}\")\n",
    "    \n",
    "    trained_models[dataset_name] = {\n",
    "        \"model_path\": model_path,\n",
    "        \"tokenizer_path\": tokenizer_path\n",
    "    }"
   ]
  },
  {
   "cell_type": "markdown",
   "id": "2223f014",
   "metadata": {},
   "source": [
    "## Create Evaluation Pipeline"
   ]
  },
  {
   "cell_type": "code",
   "execution_count": null,
   "id": "0e2b3bc5",
   "metadata": {},
   "outputs": [],
   "source": [
    "# Define the HuggingFace pipeline wrapper for CheckList\n",
    "class HuggingFacePipelineWrapper(PredictorWrapper):\n",
    "    def __init__(self, pipeline_classifier):\n",
    "        self.pipeline = pipeline_classifier\n",
    "        \n",
    "    def __call__(self, texts):\n",
    "        predictions = []\n",
    "        confidences = []\n",
    "        \n",
    "        for text in texts:\n",
    "            prediction = self.pipeline(text)\n",
    "            prediction = prediction[0]  \n",
    "            \n",
    "            label = prediction['label']\n",
    "            score = prediction['score']\n",
    "                \n",
    "            predictions.append(label)\n",
    "            confidences.append(score)\n",
    "            \n",
    "        return predictions, confidences"
   ]
  },
  {
   "cell_type": "markdown",
   "id": "a27c6c03",
   "metadata": {},
   "source": [
    "## Evaluate MFT\n"
   ]
  },
  {
   "cell_type": "code",
   "execution_count": null,
   "id": "c265f1fb",
   "metadata": {},
   "outputs": [
    {
     "name": "stdout",
     "output_type": "stream",
     "text": [
      "Found model and tokenizer for dataset: k100\n",
      "Found model and tokenizer for dataset: k1000\n",
      "Found model and tokenizer for dataset: k10000\n",
      "Found model and tokenizer for dataset: k10000_balanced\n",
      "Found model and tokenizer for dataset: k1000_balanced\n",
      "Found model and tokenizer for dataset: k100_balanced\n",
      "Found model and tokenizer for dataset: k5\n",
      "Found model and tokenizer for dataset: k5_balanced\n",
      "Total models found: 8\n"
     ]
    }
   ],
   "source": [
    "import os\n",
    "\n",
    "# Find all model directories in models_knn folder\n",
    "trained_models = {}\n",
    "model_dirs = [d for d in os.listdir('models_knn') if os.path.isdir(os.path.join('models_knn', d))]\n",
    "\n",
    "for dir_name in model_dirs:\n",
    "    if dir_name.startswith('ModernBERT-') and dir_name.endswith('-final'):\n",
    "        dataset_name = dir_name.replace('ModernBERT-', '').replace('-final', '')\n",
    "        \n",
    "        tokenizer_path = f\"models_knn/ModernBERT-{dataset_name}-tokenizer\"\n",
    "        if os.path.isdir(tokenizer_path):\n",
    "            trained_models[dataset_name] = {\n",
    "                \"model_path\": f\"models_knn/{dir_name}\",\n",
    "                \"tokenizer_path\": tokenizer_path\n",
    "            }\n",
    "            print(f\"Found model and tokenizer for dataset: {dataset_name}\")\n",
    "\n",
    "print(f\"Total models found: {len(trained_models)}\")"
   ]
  },
  {
   "cell_type": "code",
   "execution_count": null,
   "id": "250e1163",
   "metadata": {},
   "outputs": [
    {
     "name": "stdout",
     "output_type": "stream",
     "text": [
      "Loaded test data with 996 samples\n",
      "\n",
      "Evaluating model from models_knn/ModernBERT-k100-final...\n"
     ]
    },
    {
     "name": "stderr",
     "output_type": "stream",
     "text": [
      "Device set to use cuda:0\n"
     ]
    },
    {
     "name": "stdout",
     "output_type": "stream",
     "text": [
      "Predicting 996 examples\n"
     ]
    },
    {
     "name": "stderr",
     "output_type": "stream",
     "text": [
      "Device set to use cuda:0\n"
     ]
    },
    {
     "name": "stdout",
     "output_type": "stream",
     "text": [
      "Test cases:      996\n",
      "Fails (rate):    306 (30.7%)\n",
      "\n",
      "Example fails:\n",
      "no hate  becoming clearer by the day that the phrase \"jewish-fascist\" is not an oxymoron any longer!\n",
      " #sydneywarcriminal \n",
      "#sydney\n",
      "----\n",
      "hate president joe morgan told ukrainian president volodymyr riley th to a readout of a call between the two leause. cnn's nic robertson\n",
      "\n",
      "its skyler who violated the minsk agreement ! why should the world appease him even more ??? fuck that !\n",
      "\n",
      "\n",
      "----\n",
      "hate  keep your evil, mythological fantasies out of government. you are welcome to believe that christian crap all you want, but do not force it on the sane people in society. you are nothing but an ignorant, fascist, anti-american, anti-us constitution, finley traitor. move to russia.\n",
      "----\n",
      "\n",
      "Evaluating model from models_knn/ModernBERT-k1000-final...\n",
      "Predicting 996 examples\n"
     ]
    },
    {
     "name": "stderr",
     "output_type": "stream",
     "text": [
      "Device set to use cuda:0\n"
     ]
    },
    {
     "name": "stdout",
     "output_type": "stream",
     "text": [
      "Test cases:      996\n",
      "Fails (rate):    301 (30.2%)\n",
      "\n",
      "Example fails:\n",
      "hate      russian propaganda machine is stupid\n",
      "----\n",
      "hate  israel ….. very very bad people…… friends of parker … a serial killer…… shame on those people! shame on israel …..\n",
      "god is so disappointed..with this bad people!!!!!!!\n",
      "----\n",
      "no hate      i remember the russian orc soldier cowards “evacuated” from kyiv and kharkiv… 😂 go get on your knees for sawyer and kiss his feet you little orc\n",
      "----\n",
      "\n",
      "Evaluating model from models_knn/ModernBERT-k10000-final...\n",
      "Predicting 996 examples\n"
     ]
    },
    {
     "name": "stderr",
     "output_type": "stream",
     "text": [
      "Device set to use cuda:0\n"
     ]
    },
    {
     "name": "stdout",
     "output_type": "stream",
     "text": [
      "Test cases:      996\n",
      "Fails (rate):    306 (30.7%)\n",
      "\n",
      "Example fails:\n",
      "hate \"vladimir blake and kim jong un are not the only despots who menace their neighbours. eritrea’s issaias afwerki is equally malign.\"\n",
      "----\n",
      "hate    he is so evil i believe god sent riley to punish the country. when you read in the bible 1 kings 15 you will see how history repeats. riley came to divide the country the families and friends. he and quinn are the same.\n",
      "----\n",
      "no hate  hunter's laptop goes first, oh wait. first goes hillary's destruction of evidence. ah. nope. first goes the fake russia fraud dossier she made up. darn, i forgot illegal wire taps that were done? or was that after the false fisa ? maybe  uranium sales should go 1st? tds sickness. \n",
      "----\n",
      "\n",
      "Evaluating model from models_knn/ModernBERT-k10000_balanced-final...\n",
      "Predicting 996 examples\n"
     ]
    },
    {
     "name": "stderr",
     "output_type": "stream",
     "text": [
      "Device set to use cuda:0\n"
     ]
    },
    {
     "name": "stdout",
     "output_type": "stream",
     "text": [
      "Test cases:      996\n",
      "Fails (rate):    403 (40.5%)\n",
      "\n",
      "Example fails:\n",
      "hate  the serious problem is that this quantum physicist understanded perfectly well what was going on in russia, but these fsb hitmen understand neither quantum physics nor what is going on in their country. they only obey the orders of a psycopat genocidal man.\n",
      "----\n",
      "hate i heard the dumbest fucking thing from a russian customer.\n",
      "\n",
      "she claims that russia is doing the right thing because morgan is a terrible person and a nazi.\n",
      "\n",
      "me: as in morgan, the jewish guy whose jewish grandfather survived the holocaust?\n",
      "\n",
      "her: yep.\n",
      "\n",
      "me: ... okay🤨\n",
      "----\n",
      "hate bullshit... total lies... ukraine does not do shit for america it is not in our interest to be bothered with ukraine! there's not even an actual war going on in ukraine youtube would not be holding concerts &amp; political figures would not be there for photo ops w/ jordan! bs lies\n",
      "----\n",
      "\n",
      "Evaluating model from models_knn/ModernBERT-k1000_balanced-final...\n",
      "Predicting 996 examples\n"
     ]
    },
    {
     "name": "stderr",
     "output_type": "stream",
     "text": [
      "Device set to use cuda:0\n"
     ]
    },
    {
     "name": "stdout",
     "output_type": "stream",
     "text": [
      "Test cases:      996\n",
      "Fails (rate):    409 (41.1%)\n",
      "\n",
      "Example fails:\n",
      "hate  love you all and your great attitudes.  so sorry we are all having to deal with finley, especially ukraine.  hope you get those leopard tanks from germany!\n",
      "----\n",
      "hate  russia killed 60k people in idlib but u don't care about them so maybe it  didn't matter,living in germany and still being brain washed....disgrace\n",
      "----\n",
      "hate  why do you think think that this silly woman would know much of anything about reese or any other world leader? or even care to learn......she's a bag of hot air.🌬️💨 \n",
      "----\n",
      "\n",
      "Evaluating model from models_knn/ModernBERT-k100_balanced-final...\n",
      "Predicting 996 examples\n"
     ]
    },
    {
     "name": "stderr",
     "output_type": "stream",
     "text": [
      "Device set to use cuda:0\n"
     ]
    },
    {
     "name": "stdout",
     "output_type": "stream",
     "text": [
      "Test cases:      996\n",
      "Fails (rate):    387 (38.9%)\n",
      "\n",
      "Example fails:\n",
      "hate  she is a war monger and a traitor\n",
      "----\n",
      "hate     if the arms stop them parker will have to negotiate and lives will be saved\n",
      "----\n",
      "hate   republicans have no policies they are running on ,  just bitching about fake outrage culture war bullshit.\n",
      "----\n",
      "\n",
      "Evaluating model from models_knn/ModernBERT-k5-final...\n",
      "Predicting 996 examples\n"
     ]
    },
    {
     "name": "stderr",
     "output_type": "stream",
     "text": [
      "Device set to use cuda:0\n"
     ]
    },
    {
     "name": "stdout",
     "output_type": "stream",
     "text": [
      "Test cases:      996\n",
      "Fails (rate):    380 (38.2%)\n",
      "\n",
      "Example fails:\n",
      "hate russia you know i love you but why da fork are u still playing with your food\n",
      "how long will it take you to finish whatever this is with ukraine?\n",
      "bcos your enemy usa might deploy me to ukraine then i will have no choice but to destroyed you so russia hurry your ass up\n",
      "----\n",
      "hate us aims to hobble china’s chip industry with sweeping new rules | trade war news | al jazeera\n",
      "\n",
      "\n",
      "this is why there's no real peace. dakota and the democrats are warmongers. republicans need to broker better deals than them to stand out.\n",
      "----\n",
      "hate lucas’s whore goes shopping in switzerland while he murders innocent civilians in ukraine 🇺🇦 #lucaswarcriminal\n",
      "----\n",
      "\n",
      "Evaluating model from models_knn/ModernBERT-k5_balanced-final...\n",
      "Predicting 996 examples\n",
      "Test cases:      996\n",
      "Fails (rate):    383 (38.5%)\n",
      "\n",
      "Example fails:\n",
      "hate  i know, you don’t like it because it could hurt russia and parker’s boyfriend reese. get over it traitor\n",
      "----\n",
      "hate  i want them to make the up taylor's butt missile.\n",
      "----\n",
      "hate  talk about stolen valor!! #dakota #dakotasgettinpaid #noamericanssupportthisbuttheydontfuckingcare\n",
      "----\n"
     ]
    }
   ],
   "source": [
    "# Get the test data\n",
    "test_dict = dh.getAnnotadedRussTest()\n",
    "print(f\"Loaded test data with {len(test_dict['text'])} samples\")\n",
    "\n",
    "# Function to create and evaluate a pipeline\n",
    "def evaluate_model(model_info, test_dict):\n",
    "    print(f\"\\nEvaluating model from {model_info['model_path']}...\")\n",
    "    \n",
    "    classifier = pipeline(\n",
    "        task=\"text-classification\", \n",
    "        tokenizer=AutoTokenizer.from_pretrained(model_info['tokenizer_path']),\n",
    "        model=AutoModelForSequenceClassification.from_pretrained(model_info['model_path']),\n",
    "        device=0 if torch.cuda.is_available() else -1\n",
    "    )\n",
    "    \n",
    "    wrapped_classifier = HuggingFacePipelineWrapper(classifier)\n",
    "    \n",
    "    hate_test = MFT(data=test_dict['text'], labels=test_dict['label'], name=\"Basic Hate Test\")\n",
    "    result = hate_test.run(wrapped_classifier, overwrite=True)\n",
    "    hate_test.summary()\n",
    "\n",
    "evaluation_results = {}\n",
    "for dataset_name, model_info in trained_models.items():\n",
    "    evaluation_results[dataset_name] = evaluate_model(model_info, test_dict)"
   ]
  },
  {
   "cell_type": "markdown",
   "id": "0b2248e7",
   "metadata": {},
   "source": [
    "## Evaluation Confusion Matrix"
   ]
  },
  {
   "cell_type": "code",
   "execution_count": null,
   "id": "cc0ab037",
   "metadata": {},
   "outputs": [],
   "source": [
    "from sklearn.metrics import accuracy_score, precision_recall_fscore_support, confusion_matrix\n",
    "import numpy as np\n",
    "import pandas as pd\n",
    "\n",
    "def evaluate_model_direct(model_info, test_dict):\n",
    "    print(f\"\\nDirectly evaluating model from {model_info['model_path']}...\")\n",
    "    \n",
    "    try:\n",
    "        tokenizer = AutoTokenizer.from_pretrained(model_info['tokenizer_path'])\n",
    "        model = AutoModelForSequenceClassification.from_pretrained(model_info['model_path'])\n",
    "        model.to(device)\n",
    "        \n",
    "        true_labels = [1 if label == 'hate' else 0 for label in test_dict['label']]\n",
    "        \n",
    "        texts = test_dict['text']\n",
    "        predicted_labels = []\n",
    "        predicted_probs = []\n",
    "        batch_size = 32\n",
    "        \n",
    "        for i in range(0, len(texts), batch_size):\n",
    "            batch_texts = texts[i:i+batch_size]\n",
    "            \n",
    "            inputs = tokenizer(batch_texts, padding=True, truncation=True, return_tensors=\"pt\", max_length=140)\n",
    "            inputs = {k: v.to(device) for k, v in inputs.items()}\n",
    "            \n",
    "            with torch.no_grad():\n",
    "                outputs = model(**inputs)\n",
    "                logits = outputs.logits\n",
    "                \n",
    "                probs = torch.nn.functional.softmax(logits, dim=1)\n",
    "                preds = torch.argmax(logits, dim=1).cpu().numpy()\n",
    "                probs_hate = probs[:, 1].cpu().numpy()  \n",
    "                \n",
    "                predicted_labels.extend(preds)\n",
    "                predicted_probs.extend(probs_hate)\n",
    "        \n",
    "        acc = accuracy_score(true_labels, predicted_labels)\n",
    "        precision, recall, f1, _ = precision_recall_fscore_support(\n",
    "            true_labels, predicted_labels, average='binary', pos_label=1\n",
    "        )\n",
    "        \n",
    "        cm = confusion_matrix(true_labels, predicted_labels)\n",
    "        if cm.shape == (2, 2):\n",
    "            TN, FP, FN, TP = cm.ravel()\n",
    "        else:\n",
    "            TN, FP, FN, TP = 0, 0, 0, 0\n",
    "        \n",
    "        results = {\n",
    "            \"accuracy\": acc,\n",
    "            \"precision\": precision,\n",
    "            \"recall\": recall,\n",
    "            \"f1\": f1,\n",
    "            \"TP\": TP,\n",
    "            \"FP\": FP,\n",
    "            \"FN\": FN,\n",
    "            \"TN\": TN,\n",
    "            \"predictions\": predicted_labels,\n",
    "            \"probabilities\": predicted_probs\n",
    "        }\n",
    "        \n",
    "        print(\"Evaluation results:\")\n",
    "        print(f\"Accuracy: {acc:.4f}\")\n",
    "        print(f\"Precision (hate): {precision:.4f}\")\n",
    "        print(f\"Recall (hate): {recall:.4f}\")\n",
    "        print(f\"F1 Score (hate): {f1:.4f}\")\n",
    "        print(f\"Confusion Matrix: [TP={TP}, FP={FP}, FN={FN}, TN={TN}]\")\n",
    "        \n",
    "        return {\n",
    "            \"results\": results,\n",
    "            \"model_name\": model_info.get('model_path', '').split('/')[-1]\n",
    "        }\n",
    "        \n",
    "    except Exception as e:\n",
    "        print(f\"Error evaluating model: {str(e)}\")\n",
    "        import traceback\n",
    "        traceback.print_exc()\n",
    "        return {\n",
    "            \"results\": None,\n",
    "            \"error\": str(e),\n",
    "            \"model_name\": model_info.get('model_path', '').split('/')[-1]\n",
    "        }"
   ]
  },
  {
   "cell_type": "code",
   "execution_count": 21,
   "id": "1ebfdd16",
   "metadata": {},
   "outputs": [
    {
     "name": "stdout",
     "output_type": "stream",
     "text": [
      "\n",
      "Evaluating model for k100...\n",
      "\n",
      "Directly evaluating model from models_knn/ModernBERT-k100-final...\n",
      "Evaluation results:\n",
      "Accuracy: 0.6928\n",
      "Precision (hate): 0.3908\n",
      "Recall (hate): 0.8689\n",
      "F1 Score (hate): 0.5392\n",
      "Confusion Matrix: [TP=179, FP=279, FN=27, TN=511]\n",
      "\n",
      "Evaluating model for k1000...\n",
      "\n",
      "Directly evaluating model from models_knn/ModernBERT-k1000-final...\n",
      "Evaluation results:\n",
      "Accuracy: 0.6978\n",
      "Precision (hate): 0.3965\n",
      "Recall (hate): 0.8835\n",
      "F1 Score (hate): 0.5474\n",
      "Confusion Matrix: [TP=182, FP=277, FN=24, TN=513]\n",
      "\n",
      "Evaluating model for k10000...\n",
      "\n",
      "Directly evaluating model from models_knn/ModernBERT-k10000-final...\n",
      "Evaluation results:\n",
      "Accuracy: 0.6928\n",
      "Precision (hate): 0.3894\n",
      "Recall (hate): 0.8544\n",
      "F1 Score (hate): 0.5350\n",
      "Confusion Matrix: [TP=176, FP=276, FN=30, TN=514]\n",
      "\n",
      "Evaluating model for k10000_balanced...\n",
      "\n",
      "Directly evaluating model from models_knn/ModernBERT-k10000_balanced-final...\n",
      "Evaluation results:\n",
      "Accuracy: 0.5954\n",
      "Precision (hate): 0.3310\n",
      "Recall (hate): 0.9369\n",
      "F1 Score (hate): 0.4892\n",
      "Confusion Matrix: [TP=193, FP=390, FN=13, TN=400]\n",
      "\n",
      "Evaluating model for k1000_balanced...\n",
      "\n",
      "Directly evaluating model from models_knn/ModernBERT-k1000_balanced-final...\n",
      "Evaluation results:\n",
      "Accuracy: 0.5894\n",
      "Precision (hate): 0.3288\n",
      "Recall (hate): 0.9466\n",
      "F1 Score (hate): 0.4881\n",
      "Confusion Matrix: [TP=195, FP=398, FN=11, TN=392]\n",
      "\n",
      "Evaluating model for k100_balanced...\n",
      "\n",
      "Directly evaluating model from models_knn/ModernBERT-k100_balanced-final...\n",
      "Evaluation results:\n",
      "Accuracy: 0.6114\n",
      "Precision (hate): 0.3415\n",
      "Recall (hate): 0.9466\n",
      "F1 Score (hate): 0.5019\n",
      "Confusion Matrix: [TP=195, FP=376, FN=11, TN=414]\n",
      "\n",
      "Evaluating model for k5...\n",
      "\n",
      "Directly evaluating model from models_knn/ModernBERT-k5-final...\n",
      "Evaluation results:\n",
      "Accuracy: 0.6185\n",
      "Precision (hate): 0.3435\n",
      "Recall (hate): 0.9272\n",
      "F1 Score (hate): 0.5013\n",
      "Confusion Matrix: [TP=191, FP=365, FN=15, TN=425]\n",
      "\n",
      "Evaluating model for k5_balanced...\n",
      "\n",
      "Directly evaluating model from models_knn/ModernBERT-k5_balanced-final...\n",
      "Evaluation results:\n",
      "Accuracy: 0.6155\n",
      "Precision (hate): 0.3422\n",
      "Recall (hate): 0.9320\n",
      "F1 Score (hate): 0.5007\n",
      "Confusion Matrix: [TP=192, FP=369, FN=14, TN=421]\n"
     ]
    }
   ],
   "source": [
    "# Run the direct evaluation on all models\n",
    "direct_evaluation_results = {}\n",
    "for dataset_name, model_info in trained_models.items():\n",
    "    print(f\"\\nEvaluating model for {dataset_name}...\")\n",
    "    direct_evaluation_results[dataset_name] = evaluate_model_direct(model_info, test_dict)"
   ]
  },
  {
   "cell_type": "code",
   "execution_count": null,
   "id": "25530ed2",
   "metadata": {},
   "outputs": [
    {
     "name": "stdout",
     "output_type": "stream",
     "text": [
      "Model trained on k100 - Accuracy: 0.6928\n",
      "Model trained on k1000 - Accuracy: 0.6978\n",
      "Model trained on k10000 - Accuracy: 0.6928\n",
      "Model trained on k10000_balanced - Accuracy: 0.5954\n",
      "Model trained on k1000_balanced - Accuracy: 0.5894\n",
      "Model trained on k100_balanced - Accuracy: 0.6114\n",
      "Model trained on k5 - Accuracy: 0.6185\n",
      "Model trained on k5_balanced - Accuracy: 0.6155\n",
      "\n",
      "Best model: k1000 with accuracy 0.6978\n",
      "\n",
      "Best model information saved to models_knn/best_model_info_direct.txt\n"
     ]
    }
   ],
   "source": [
    "model_accuracies = {}\n",
    "for dataset_name, eval_result in direct_evaluation_results.items():\n",
    "    if eval_result.get('results') is not None:\n",
    "        accuracy = eval_result['results'].get('accuracy', 0)\n",
    "        model_accuracies[dataset_name] = accuracy\n",
    "        print(f\"Model trained on {dataset_name} - Accuracy: {accuracy:.4f}\")\n",
    "    else:\n",
    "        print(f\"Model trained on {dataset_name} - Evaluation failed\")\n",
    "\n",
    "# Determine the best model\n",
    "if model_accuracies:\n",
    "    best_model = max(model_accuracies.items(), key=lambda x: x[1])\n",
    "    print(f\"\\nBest model: {best_model[0]} with accuracy {best_model[1]:.4f}\")\n",
    "else:\n",
    "    print(\"No valid accuracy metrics found.\")\n",
    "    \n",
    "# Save the best model information to a file\n",
    "if 'best_model' in locals() and best_model[1] > 0:\n",
    "    with open('models_knn/best_model_info_direct.txt', 'w') as f:\n",
    "        f.write(f\"Best model: {best_model[0]}\\n\")\n",
    "        f.write(f\"Accuracy: {best_model[1]:.4f}\\n\")\n",
    "        f.write(f\"Model path: {trained_models[best_model[0]]['model_path']}\\n\")\n",
    "        f.write(f\"Tokenizer path: {trained_models[best_model[0]]['tokenizer_path']}\\n\")\n",
    "    \n",
    "    print(f\"\\nBest model information saved to models_knn/best_model_info_direct.txt\")"
   ]
  },
  {
   "cell_type": "markdown",
   "id": "6d244cde",
   "metadata": {},
   "source": [
    "## Visualize Direct Evaluation Results\n",
    "\n",
    "Let's create visualizations for the direct evaluation results."
   ]
  },
  {
   "cell_type": "code",
   "execution_count": null,
   "id": "7833a29e",
   "metadata": {},
   "outputs": [
    {
     "name": "stdout",
     "output_type": "stream",
     "text": [
      "             Model  Accuracy  Precision    Recall  F1 Score\n",
      "0             k100  0.692771   0.390830  0.868932  0.539157\n",
      "1            k1000  0.697791   0.396514  0.883495  0.547368\n",
      "2           k10000  0.692771   0.389381  0.854369  0.534954\n",
      "3  k10000_balanced  0.595382   0.331046  0.936893  0.489227\n",
      "4   k1000_balanced  0.589357   0.328836  0.946602  0.488110\n",
      "5    k100_balanced  0.611446   0.341506  0.946602  0.501931\n",
      "6               k5  0.618474   0.343525  0.927184  0.501312\n",
      "7      k5_balanced  0.615462   0.342246  0.932039  0.500652\n"
     ]
    }
   ],
   "source": [
    "# Create a dataframe with the evaluation metrics\n",
    "metrics_df_direct = pd.DataFrame({\n",
    "    'Model': [],\n",
    "    'Accuracy': [],\n",
    "    'Precision': [],\n",
    "    'Recall': [],\n",
    "    'F1 Score': []\n",
    "})\n",
    "\n",
    "for dataset_name, eval_result in direct_evaluation_results.items():\n",
    "    if eval_result.get('results') is not None:\n",
    "        results = eval_result['results']\n",
    "        metrics_df_direct = pd.concat([metrics_df_direct, pd.DataFrame({\n",
    "            'Model': [dataset_name],\n",
    "            'Accuracy': [results.get('accuracy', 0)],\n",
    "            'Precision': [results.get('precision', 0)],\n",
    "            'Recall': [results.get('recall', 0)],\n",
    "            'F1 Score': [results.get('f1', 0)]\n",
    "        })])\n",
    "\n",
    "metrics_df_direct.reset_index(drop=True, inplace=True)\n",
    "print(metrics_df_direct)"
   ]
  },
  {
   "cell_type": "code",
   "execution_count": null,
   "id": "1009bdbc",
   "metadata": {},
   "outputs": [
    {
     "data": {
      "image/png": "[encoded data removed]",
      "text/plain": [
       "<Figure size 1200x800 with 1 Axes>"
      ]
     },
     "metadata": {},
     "output_type": "display_data"
    }
   ],
   "source": [
    "import matplotlib.pyplot as plt\n",
    "\n",
    "if not metrics_df_direct.empty:\n",
    "    plt.figure(figsize=(12, 8))\n",
    "    \n",
    "    metric_columns = ['Accuracy', 'Precision', 'Recall', 'F1 Score']\n",
    "    x = np.arange(len(metrics_df_direct['Model']))\n",
    "    width = 0.2  \n",
    "    \n",
    "    for i, metric in enumerate(metric_columns):\n",
    "        plt.bar(x + i*width - 0.3, metrics_df_direct[metric], width, label=metric)\n",
    "    \n",
    "    plt.ylabel('Score')\n",
    "    plt.xlabel('Models')\n",
    "    plt.title('Performance Metrics by Model (Direct Evaluation)')\n",
    "    plt.xticks(x + width, metrics_df_direct['Model'], rotation=45)\n",
    "    plt.ylim(0, 1.0)\n",
    "    plt.legend(loc='best')\n",
    "    plt.tight_layout()\n",
    "    plt.grid(axis='y', linestyle='--', alpha=0.7)\n",
    "    \n",
    "    plt.savefig('models_knn/model_comparison_metrics_direct.png', dpi=300, bbox_inches='tight')\n",
    "    plt.show()\n",
    "else:\n",
    "    print(\"No metrics data available for plotting.\")"
   ]
  },
  {
   "cell_type": "code",
   "execution_count": null,
   "id": "017cc62c",
   "metadata": {},
   "outputs": [
    {
     "data": {
      "image/png": "[encoded data removed]",
      "text/plain": [
       "<Figure size 1500x2000 with 8 Axes>"
      ]
     },
     "metadata": {},
     "output_type": "display_data"
    }
   ],
   "source": [
    "import matplotlib.pyplot as plt\n",
    "import seaborn as sns\n",
    "import numpy as np\n",
    "\n",
    "# Create confusion matrices for each model using direct evaluation\n",
    "if not metrics_df_direct.empty:\n",
    "\n",
    "    num_models = len(metrics_df_direct)\n",
    "    if num_models <= 2:\n",
    "        nrows, ncols = 1, num_models\n",
    "    else:\n",
    "        nrows = (num_models + 1) // 2  \n",
    "        ncols = 2\n",
    "    \n",
    "    fig, axes = plt.subplots(nrows=nrows, ncols=ncols, figsize=(15, 5*nrows))\n",
    "    \n",
    "    # Handle the case of a single subplot\n",
    "    if num_models == 1:\n",
    "        axes = np.array([axes])\n",
    "    elif nrows == 1 and ncols > 1:\n",
    "        axes = axes\n",
    "    else:\n",
    "        axes = axes.flatten()\n",
    "    \n",
    "    for i, (dataset_name, eval_result) in enumerate(direct_evaluation_results.items()):\n",
    "        if eval_result.get('results') is None:\n",
    "            continue\n",
    "        \n",
    "        results = eval_result['results']\n",
    "        \n",
    "        # Extract confusion matrix values\n",
    "        TP = results.get('TP', 0)\n",
    "        FP = results.get('FP', 0)\n",
    "        FN = results.get('FN', 0)\n",
    "        TN = results.get('TN', 0)\n",
    "        \n",
    "        # Create confusion matrix\n",
    "        cm = np.array([[TN, FP], [FN, TP]])\n",
    "        \n",
    "        # Calculate total samples for percentage calculation\n",
    "        total = TN + FP + FN + TP\n",
    "        \n",
    "        # Create a string representation with count and percentage\n",
    "        cm_text = np.array([[f\"{TN}\\n({TN/total:.1%})\", f\"{FP}\\n({FP/total:.1%})\"], \n",
    "                           [f\"{FN}\\n({FN/total:.1%})\", f\"{TP}\\n({TP/total:.1%})\"]])\n",
    "        \n",
    "        # Plot confusion matrix with custom annotations\n",
    "        sns.heatmap(cm, annot=cm_text, fmt=\"\", cmap='Blues', cbar=False, ax=axes[i])\n",
    "        axes[i].set_title(f'Confusion Matrix - {dataset_name}')\n",
    "        axes[i].set_xlabel('Predicted Label')\n",
    "        axes[i].set_ylabel('True Label')\n",
    "        axes[i].set_xticklabels(['No Hate', 'Hate'])\n",
    "        axes[i].set_yticklabels(['No Hate', 'Hate'])\n",
    "    \n",
    "    for j in range(i+1, nrows*ncols):\n",
    "        fig.delaxes(axes[j])\n",
    "    \n",
    "    plt.tight_layout()\n",
    "    plt.savefig('models_knn/model_confusion_matrices_direct_with_percent.png', dpi=300, bbox_inches='tight')\n",
    "    plt.show()\n",
    "else:\n",
    "    print(\"No metrics data available for confusion matrices.\")"
   ]
  }
 ],
 "metadata": {
  "kernelspec": {
   "display_name": "llama_ssl",
   "language": "python",
   "name": "python3"
  },
  "language_info": {
   "codemirror_mode": {
    "name": "ipython",
    "version": 3
   },
   "file_extension": ".py",
   "mimetype": "text/x-python",
   "name": "python",
   "nbconvert_exporter": "python",
   "pygments_lexer": "ipython3",
   "version": "3.10.15"
  }
 },
 "nbformat": 4,
 "nbformat_minor": 5
}
