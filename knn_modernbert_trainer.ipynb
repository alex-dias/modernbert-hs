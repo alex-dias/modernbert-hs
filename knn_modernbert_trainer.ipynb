{
 "cells": [
  {
   "cell_type": "markdown",
   "id": "92238f2d",
   "metadata": {},
   "source": [
    "# ModernBERT Training on KNN Datasets"
   ]
  },
  {
   "cell_type": "code",
   "execution_count": 7,
   "id": "6d6dad3d",
   "metadata": {},
   "outputs": [],
   "source": [
    "import os\n",
    "import pandas as pd\n",
    "import numpy as np\n",
    "import torch\n",
    "from datasets import Dataset, DatasetDict\n",
    "from sklearn.metrics import f1_score, roc_auc_score\n",
    "from transformers import AutoTokenizer, AutoModelForSequenceClassification\n",
    "from transformers import Trainer, TrainingArguments\n",
    "from checklist.pred_wrapper import PredictorWrapper\n",
    "from checklist.test_types import MFT\n",
    "from transformers import pipeline\n",
    "import dataHandler as dh"
   ]
  },
  {
   "cell_type": "markdown",
   "id": "ad82a938",
   "metadata": {},
   "source": [
    "## Load and Process KNN Datasets"
   ]
  },
  {
   "cell_type": "code",
   "execution_count": 3,
   "id": "9a667014",
   "metadata": {},
   "outputs": [
    {
     "name": "stdout",
     "output_type": "stream",
     "text": [
      "Dataset k5 from selected_knn/samples_knn_k5_percent10.csv:\n",
      "Train: 20076 samples\n",
      "Test: 5019 samples\n",
      "Label distribution in train: label\n",
      "0    14892\n",
      "1     5184\n",
      "Name: count, dtype: int64\n",
      "---------------------------------------------------\n",
      "Dataset k100 from selected_knn/samples_knn_k100_percent10.csv:\n",
      "Train: 20076 samples\n",
      "Test: 5019 samples\n",
      "Label distribution in train: label\n",
      "0    14899\n",
      "1     5177\n",
      "Name: count, dtype: int64\n",
      "---------------------------------------------------\n",
      "Dataset k1000 from selected_knn/samples_knn_k1000_percent10.csv:\n",
      "Train: 20076 samples\n",
      "Test: 5019 samples\n",
      "Label distribution in train: label\n",
      "0    14864\n",
      "1     5212\n",
      "Name: count, dtype: int64\n",
      "---------------------------------------------------\n",
      "Dataset k10000 from selected_knn/samples_knn_k10000_percent10.csv:\n",
      "Train: 20076 samples\n",
      "Test: 5019 samples\n",
      "Label distribution in train: label\n",
      "0    14915\n",
      "1     5161\n",
      "Name: count, dtype: int64\n",
      "---------------------------------------------------\n",
      "Dataset k5_balanced from selected_knn/samples_knn_k5_percent10_balanced.csv:\n",
      "Train: 20077 samples\n",
      "Test: 5019 samples\n",
      "Label distribution in train: label\n",
      "1    10081\n",
      "0     9996\n",
      "Name: count, dtype: int64\n",
      "---------------------------------------------------\n",
      "Dataset k100_balanced from selected_knn/samples_knn_k100_percent10_balanced.csv:\n",
      "Train: 20077 samples\n",
      "Test: 5019 samples\n",
      "Label distribution in train: label\n",
      "1    10081\n",
      "0     9996\n",
      "Name: count, dtype: int64\n",
      "---------------------------------------------------\n",
      "Dataset k1000_balanced from selected_knn/samples_knn_k1000_percent10_balanced.csv:\n",
      "Train: 20077 samples\n",
      "Test: 5019 samples\n",
      "Label distribution in train: label\n",
      "1    10081\n",
      "0     9996\n",
      "Name: count, dtype: int64\n",
      "---------------------------------------------------\n",
      "Dataset k10000_balanced from selected_knn/samples_knn_k10000_percent10_balanced.csv:\n",
      "Train: 20077 samples\n",
      "Test: 5019 samples\n",
      "Label distribution in train: label\n",
      "1    10081\n",
      "0     9996\n",
      "Name: count, dtype: int64\n",
      "---------------------------------------------------\n"
     ]
    }
   ],
   "source": [
    "# Define paths to the KNN datasets\n",
    "knn_datasets = {\n",
    "    'k5': 'selected_knn/samples_knn_k5_percent10.csv',\n",
    "    'k100': 'selected_knn/samples_knn_k100_percent10.csv',\n",
    "    'k1000': 'selected_knn/samples_knn_k1000_percent10.csv',\n",
    "    'k10000': 'selected_knn/samples_knn_k10000_percent10.csv',\n",
    "    'k5_balanced': 'selected_knn/samples_knn_k5_percent10_balanced.csv',\n",
    "    'k100_balanced': 'selected_knn/samples_knn_k100_percent10_balanced.csv',\n",
    "    'k1000_balanced': 'selected_knn/samples_knn_k1000_percent10_balanced.csv',\n",
    "    'k10000_balanced': 'selected_knn/samples_knn_k10000_percent10_balanced.csv',\n",
    "}\n",
    "\n",
    "# Function to prepare dataset for training\n",
    "def prepare_dataset(file_path, test_size=0.2, random_state=42):\n",
    "    df = pd.read_csv(file_path)\n",
    "    \n",
    "    df['label'] = df['label'].apply(lambda x: 1 if x == 'hate' else 0)\n",
    "    \n",
    "    df_train = df.sample(frac=1-test_size, random_state=random_state)\n",
    "    df_test = df.drop(df_train.index)\n",
    "    \n",
    "    train_dataset = Dataset.from_pandas(df_train[['text', 'label']]).remove_columns(['__index_level_0__'])\n",
    "    test_dataset = Dataset.from_pandas(df_test[['text', 'label']]).remove_columns(['__index_level_0__'])\n",
    "    \n",
    "    dataset_dict = DatasetDict({\n",
    "        \"train\": train_dataset,\n",
    "        \"test\": test_dataset\n",
    "    })\n",
    "    \n",
    "    return dataset_dict\n",
    "\n",
    "processed_datasets = {}\n",
    "for dataset_name, file_path in knn_datasets.items():\n",
    "    processed_datasets[dataset_name] = prepare_dataset(file_path)\n",
    "    print(f\"Dataset {dataset_name} from {file_path}:\")\n",
    "    print(f\"Train: {len(processed_datasets[dataset_name]['train'])} samples\")\n",
    "    print(f\"Test: {len(processed_datasets[dataset_name]['test'])} samples\")\n",
    "    print(f\"Label distribution in train: {processed_datasets[dataset_name]['train'].to_pandas()['label'].value_counts()}\")\n",
    "    print(\"---------------------------------------------------\")"
   ]
  },
  {
   "cell_type": "markdown",
   "id": "60db9749",
   "metadata": {},
   "source": [
    "## Define Tokenization and Training Functions"
   ]
  },
  {
   "cell_type": "code",
   "execution_count": 4,
   "id": "e1411b2d",
   "metadata": {},
   "outputs": [
    {
     "data": {
      "application/vnd.jupyter.widget-view+json": {
       "model_id": "2501d75972b24252888c45aad10056b1",
       "version_major": 2,
       "version_minor": 0
      },
      "text/plain": [
       "Map:   0%|          | 0/20076 [00:00<?, ? examples/s]"
      ]
     },
     "metadata": {},
     "output_type": "display_data"
    },
    {
     "data": {
      "application/vnd.jupyter.widget-view+json": {
       "model_id": "9981fcdbdc1b44b0b3a06849944706b5",
       "version_major": 2,
       "version_minor": 0
      },
      "text/plain": [
       "Map:   0%|          | 0/5019 [00:00<?, ? examples/s]"
      ]
     },
     "metadata": {},
     "output_type": "display_data"
    },
    {
     "name": "stdout",
     "output_type": "stream",
     "text": [
      "Tokenized dataset k5\n",
      "Features: dict_keys(['labels', 'input_ids', 'attention_mask'])\n",
      "---------------------------------------------------\n"
     ]
    },
    {
     "data": {
      "application/vnd.jupyter.widget-view+json": {
       "model_id": "f854c8b74d0640f6bbcf42a4a0f5b2e8",
       "version_major": 2,
       "version_minor": 0
      },
      "text/plain": [
       "Map:   0%|          | 0/20076 [00:00<?, ? examples/s]"
      ]
     },
     "metadata": {},
     "output_type": "display_data"
    },
    {
     "data": {
      "application/vnd.jupyter.widget-view+json": {
       "model_id": "dabf5a4a0ae54b4f8849d1e2dd241029",
       "version_major": 2,
       "version_minor": 0
      },
      "text/plain": [
       "Map:   0%|          | 0/5019 [00:00<?, ? examples/s]"
      ]
     },
     "metadata": {},
     "output_type": "display_data"
    },
    {
     "name": "stdout",
     "output_type": "stream",
     "text": [
      "Tokenized dataset k100\n",
      "Features: dict_keys(['labels', 'input_ids', 'attention_mask'])\n",
      "---------------------------------------------------\n"
     ]
    },
    {
     "data": {
      "application/vnd.jupyter.widget-view+json": {
       "model_id": "cd6e196486564ebc84d97ed4d91577be",
       "version_major": 2,
       "version_minor": 0
      },
      "text/plain": [
       "Map:   0%|          | 0/20076 [00:00<?, ? examples/s]"
      ]
     },
     "metadata": {},
     "output_type": "display_data"
    },
    {
     "data": {
      "application/vnd.jupyter.widget-view+json": {
       "model_id": "6d7300af42934b00a0a5fddcb733744f",
       "version_major": 2,
       "version_minor": 0
      },
      "text/plain": [
       "Map:   0%|          | 0/5019 [00:00<?, ? examples/s]"
      ]
     },
     "metadata": {},
     "output_type": "display_data"
    },
    {
     "name": "stdout",
     "output_type": "stream",
     "text": [
      "Tokenized dataset k1000\n",
      "Features: dict_keys(['labels', 'input_ids', 'attention_mask'])\n",
      "---------------------------------------------------\n"
     ]
    },
    {
     "data": {
      "application/vnd.jupyter.widget-view+json": {
       "model_id": "4fd5f4a1939544c49668d5d1ae6974d3",
       "version_major": 2,
       "version_minor": 0
      },
      "text/plain": [
       "Map:   0%|          | 0/20076 [00:00<?, ? examples/s]"
      ]
     },
     "metadata": {},
     "output_type": "display_data"
    },
    {
     "data": {
      "application/vnd.jupyter.widget-view+json": {
       "model_id": "6ad01cad4ac3461f92e425998b3bdf84",
       "version_major": 2,
       "version_minor": 0
      },
      "text/plain": [
       "Map:   0%|          | 0/5019 [00:00<?, ? examples/s]"
      ]
     },
     "metadata": {},
     "output_type": "display_data"
    },
    {
     "name": "stdout",
     "output_type": "stream",
     "text": [
      "Tokenized dataset k10000\n",
      "Features: dict_keys(['labels', 'input_ids', 'attention_mask'])\n",
      "---------------------------------------------------\n"
     ]
    },
    {
     "data": {
      "application/vnd.jupyter.widget-view+json": {
       "model_id": "54b0e487b5bb4cec8f825d13b21b6a94",
       "version_major": 2,
       "version_minor": 0
      },
      "text/plain": [
       "Map:   0%|          | 0/20077 [00:00<?, ? examples/s]"
      ]
     },
     "metadata": {},
     "output_type": "display_data"
    },
    {
     "data": {
      "application/vnd.jupyter.widget-view+json": {
       "model_id": "96f089bc79584e14a19d558155e36817",
       "version_major": 2,
       "version_minor": 0
      },
      "text/plain": [
       "Map:   0%|          | 0/5019 [00:00<?, ? examples/s]"
      ]
     },
     "metadata": {},
     "output_type": "display_data"
    },
    {
     "name": "stdout",
     "output_type": "stream",
     "text": [
      "Tokenized dataset k5_balanced\n",
      "Features: dict_keys(['labels', 'input_ids', 'attention_mask'])\n",
      "---------------------------------------------------\n"
     ]
    },
    {
     "data": {
      "application/vnd.jupyter.widget-view+json": {
       "model_id": "e0c1c6a5230749aa911578410baadc35",
       "version_major": 2,
       "version_minor": 0
      },
      "text/plain": [
       "Map:   0%|          | 0/20077 [00:00<?, ? examples/s]"
      ]
     },
     "metadata": {},
     "output_type": "display_data"
    },
    {
     "data": {
      "application/vnd.jupyter.widget-view+json": {
       "model_id": "e3d09568123d4716ab1ec14cc1261641",
       "version_major": 2,
       "version_minor": 0
      },
      "text/plain": [
       "Map:   0%|          | 0/5019 [00:00<?, ? examples/s]"
      ]
     },
     "metadata": {},
     "output_type": "display_data"
    },
    {
     "name": "stdout",
     "output_type": "stream",
     "text": [
      "Tokenized dataset k100_balanced\n",
      "Features: dict_keys(['labels', 'input_ids', 'attention_mask'])\n",
      "---------------------------------------------------\n"
     ]
    },
    {
     "data": {
      "application/vnd.jupyter.widget-view+json": {
       "model_id": "326f26b0e8a64ab4ade46fd8307b189d",
       "version_major": 2,
       "version_minor": 0
      },
      "text/plain": [
       "Map:   0%|          | 0/20077 [00:00<?, ? examples/s]"
      ]
     },
     "metadata": {},
     "output_type": "display_data"
    },
    {
     "data": {
      "application/vnd.jupyter.widget-view+json": {
       "model_id": "0500fd17f79149309d5dc7cd5744fb55",
       "version_major": 2,
       "version_minor": 0
      },
      "text/plain": [
       "Map:   0%|          | 0/5019 [00:00<?, ? examples/s]"
      ]
     },
     "metadata": {},
     "output_type": "display_data"
    },
    {
     "name": "stdout",
     "output_type": "stream",
     "text": [
      "Tokenized dataset k1000_balanced\n",
      "Features: dict_keys(['labels', 'input_ids', 'attention_mask'])\n",
      "---------------------------------------------------\n"
     ]
    },
    {
     "data": {
      "application/vnd.jupyter.widget-view+json": {
       "model_id": "07bf03b22bf74560866d61a752beb306",
       "version_major": 2,
       "version_minor": 0
      },
      "text/plain": [
       "Map:   0%|          | 0/20077 [00:00<?, ? examples/s]"
      ]
     },
     "metadata": {},
     "output_type": "display_data"
    },
    {
     "data": {
      "application/vnd.jupyter.widget-view+json": {
       "model_id": "c6a9c210d6d5461caefaed900f4e0825",
       "version_major": 2,
       "version_minor": 0
      },
      "text/plain": [
       "Map:   0%|          | 0/5019 [00:00<?, ? examples/s]"
      ]
     },
     "metadata": {},
     "output_type": "display_data"
    },
    {
     "name": "stdout",
     "output_type": "stream",
     "text": [
      "Tokenized dataset k10000_balanced\n",
      "Features: dict_keys(['labels', 'input_ids', 'attention_mask'])\n",
      "---------------------------------------------------\n"
     ]
    }
   ],
   "source": [
    "# Load the ModernBERT tokenizer\n",
    "model_id = \"answerdotai/ModernBERT-base\"\n",
    "tokenizer = AutoTokenizer.from_pretrained(model_id)\n",
    "\n",
    "def tokenize(batch):\n",
    "    return tokenizer(batch['text'], padding='max_length', truncation=True, return_tensors=\"pt\", max_length=140)\n",
    "\n",
    "# Tokenize datasets\n",
    "tokenized_datasets = {}\n",
    "for dataset_name, dataset in processed_datasets.items():\n",
    "    if \"label\" in dataset[\"train\"].features.keys():\n",
    "        dataset = dataset.rename_column(\"label\", \"labels\")\n",
    "        \n",
    "    tokenized_dataset = dataset.map(tokenize, batched=True, remove_columns=[\"text\"])\n",
    "    tokenized_datasets[dataset_name] = tokenized_dataset\n",
    "    \n",
    "    print(f\"Tokenized dataset {dataset_name}\")\n",
    "    print(f\"Features: {tokenized_datasets[dataset_name]['train'].features.keys()}\")\n",
    "    print(\"---------------------------------------------------\")"
   ]
  },
  {
   "cell_type": "markdown",
   "id": "0fa1f2da",
   "metadata": {},
   "source": [
    "## Define Metric and Create Models"
   ]
  },
  {
   "cell_type": "code",
   "execution_count": 9,
   "id": "d5543f45",
   "metadata": {},
   "outputs": [],
   "source": [
    "# Metric helper method\n",
    "def compute_metrics(eval_pred):\n",
    "    predictions, labels = eval_pred\n",
    "    predictions = np.argmax(predictions, axis=1)\n",
    "    \n",
    "    probs = torch.nn.functional.softmax(torch.tensor(eval_pred.predictions), dim=-1)\n",
    "\n",
    "    try:\n",
    "        aucroc = roc_auc_score(labels, probs[:, 1].numpy())\n",
    "    except:\n",
    "        aucroc = 0.5  # Default value if calculation fails\n",
    "    \n",
    "    return {\n",
    "        \"aucroc\": aucroc\n",
    "    }\n",
    "\n",
    "# Prepare model labels\n",
    "labels = [\"no hate\", \"hate\"]\n",
    "num_labels = len(labels)\n",
    "label2id, id2label = dict(), dict()\n",
    "for i, label in enumerate(labels):\n",
    "    label2id[label] = str(i)\n",
    "    id2label[str(i)] = label\n",
    "\n",
    "# Function to create a model\n",
    "def create_model():\n",
    "    return AutoModelForSequenceClassification.from_pretrained(\n",
    "        model_id, num_labels=num_labels, label2id=label2id, id2label=id2label\n",
    "    )"
   ]
  },
  {
   "cell_type": "markdown",
   "id": "1ff4f92e",
   "metadata": {},
   "source": [
    "## Training Loop\n",
    "\n",
    "Now we'll train a model for each dataset."
   ]
  },
  {
   "cell_type": "code",
   "execution_count": 10,
   "id": "d51576db",
   "metadata": {},
   "outputs": [
    {
     "name": "stderr",
     "output_type": "stream",
     "text": [
      "Some weights of ModernBertForSequenceClassification were not initialized from the model checkpoint at answerdotai/ModernBERT-base and are newly initialized: ['classifier.bias', 'classifier.weight']\n",
      "You should probably TRAIN this model on a down-stream task to be able to use it for predictions and inference.\n"
     ]
    },
    {
     "name": "stdout",
     "output_type": "stream",
     "text": [
      "Using device: cuda\n",
      "\n",
      "Training model for dataset k5...\n"
     ]
    },
    {
     "data": {
      "text/html": [
       "\n",
       "    <div>\n",
       "      \n",
       "      <progress value='1000' max='3135' style='width:300px; height:20px; vertical-align: middle;'></progress>\n",
       "      [1000/3135 04:01 < 08:36, 4.14 it/s, Epoch 1/5]\n",
       "    </div>\n",
       "    <table border=\"1\" class=\"dataframe\">\n",
       "  <thead>\n",
       " <tr style=\"text-align: left;\">\n",
       "      <th>Step</th>\n",
       "      <th>Training Loss</th>\n",
       "      <th>Validation Loss</th>\n",
       "      <th>Aucroc</th>\n",
       "    </tr>\n",
       "  </thead>\n",
       "  <tbody>\n",
       "    <tr>\n",
       "      <td>100</td>\n",
       "      <td>1.017800</td>\n",
       "      <td>0.422079</td>\n",
       "      <td>0.853891</td>\n",
       "    </tr>\n",
       "    <tr>\n",
       "      <td>200</td>\n",
       "      <td>0.664700</td>\n",
       "      <td>0.305745</td>\n",
       "      <td>0.919181</td>\n",
       "    </tr>\n",
       "    <tr>\n",
       "      <td>300</td>\n",
       "      <td>0.628300</td>\n",
       "      <td>0.267075</td>\n",
       "      <td>0.940769</td>\n",
       "    </tr>\n",
       "    <tr>\n",
       "      <td>400</td>\n",
       "      <td>0.525000</td>\n",
       "      <td>0.261559</td>\n",
       "      <td>0.951732</td>\n",
       "    </tr>\n",
       "    <tr>\n",
       "      <td>500</td>\n",
       "      <td>0.481600</td>\n",
       "      <td>0.238036</td>\n",
       "      <td>0.956627</td>\n",
       "    </tr>\n",
       "    <tr>\n",
       "      <td>600</td>\n",
       "      <td>0.479200</td>\n",
       "      <td>0.220360</td>\n",
       "      <td>0.960831</td>\n",
       "    </tr>\n",
       "    <tr>\n",
       "      <td>700</td>\n",
       "      <td>0.335800</td>\n",
       "      <td>0.230242</td>\n",
       "      <td>0.964488</td>\n",
       "    </tr>\n",
       "    <tr>\n",
       "      <td>800</td>\n",
       "      <td>0.347300</td>\n",
       "      <td>0.232130</td>\n",
       "      <td>0.961546</td>\n",
       "    </tr>\n",
       "    <tr>\n",
       "      <td>900</td>\n",
       "      <td>0.359900</td>\n",
       "      <td>0.229288</td>\n",
       "      <td>0.963778</td>\n",
       "    </tr>\n",
       "    <tr>\n",
       "      <td>1000</td>\n",
       "      <td>0.319200</td>\n",
       "      <td>0.221766</td>\n",
       "      <td>0.965475</td>\n",
       "    </tr>\n",
       "  </tbody>\n",
       "</table><p>"
      ],
      "text/plain": [
       "<IPython.core.display.HTML object>"
      ]
     },
     "metadata": {},
     "output_type": "display_data"
    },
    {
     "name": "stdout",
     "output_type": "stream",
     "text": [
      "Model for k5 saved to models_knn/ModernBERT-k5-final\n",
      "Tokenizer for k5 saved to models_knn/ModernBERT-k5-tokenizer\n",
      "\n",
      "Training model for dataset k100...\n"
     ]
    },
    {
     "name": "stderr",
     "output_type": "stream",
     "text": [
      "Some weights of ModernBertForSequenceClassification were not initialized from the model checkpoint at answerdotai/ModernBERT-base and are newly initialized: ['classifier.bias', 'classifier.weight']\n",
      "You should probably TRAIN this model on a down-stream task to be able to use it for predictions and inference.\n"
     ]
    },
    {
     "data": {
      "text/html": [
       "\n",
       "    <div>\n",
       "      \n",
       "      <progress value='900' max='3135' style='width:300px; height:20px; vertical-align: middle;'></progress>\n",
       "      [ 900/3135 03:36 < 08:58, 4.15 it/s, Epoch 1/5]\n",
       "    </div>\n",
       "    <table border=\"1\" class=\"dataframe\">\n",
       "  <thead>\n",
       " <tr style=\"text-align: left;\">\n",
       "      <th>Step</th>\n",
       "      <th>Training Loss</th>\n",
       "      <th>Validation Loss</th>\n",
       "      <th>Aucroc</th>\n",
       "    </tr>\n",
       "  </thead>\n",
       "  <tbody>\n",
       "    <tr>\n",
       "      <td>100</td>\n",
       "      <td>1.006900</td>\n",
       "      <td>0.432669</td>\n",
       "      <td>0.817845</td>\n",
       "    </tr>\n",
       "    <tr>\n",
       "      <td>200</td>\n",
       "      <td>0.755900</td>\n",
       "      <td>0.329574</td>\n",
       "      <td>0.900860</td>\n",
       "    </tr>\n",
       "    <tr>\n",
       "      <td>300</td>\n",
       "      <td>0.710000</td>\n",
       "      <td>0.290227</td>\n",
       "      <td>0.925381</td>\n",
       "    </tr>\n",
       "    <tr>\n",
       "      <td>400</td>\n",
       "      <td>0.541300</td>\n",
       "      <td>0.256718</td>\n",
       "      <td>0.945611</td>\n",
       "    </tr>\n",
       "    <tr>\n",
       "      <td>500</td>\n",
       "      <td>0.489100</td>\n",
       "      <td>0.231513</td>\n",
       "      <td>0.953417</td>\n",
       "    </tr>\n",
       "    <tr>\n",
       "      <td>600</td>\n",
       "      <td>0.480400</td>\n",
       "      <td>0.218679</td>\n",
       "      <td>0.958839</td>\n",
       "    </tr>\n",
       "    <tr>\n",
       "      <td>700</td>\n",
       "      <td>0.393500</td>\n",
       "      <td>0.219280</td>\n",
       "      <td>0.959783</td>\n",
       "    </tr>\n",
       "    <tr>\n",
       "      <td>800</td>\n",
       "      <td>0.335800</td>\n",
       "      <td>0.230391</td>\n",
       "      <td>0.958801</td>\n",
       "    </tr>\n",
       "    <tr>\n",
       "      <td>900</td>\n",
       "      <td>0.364100</td>\n",
       "      <td>0.236150</td>\n",
       "      <td>0.958627</td>\n",
       "    </tr>\n",
       "  </tbody>\n",
       "</table><p>"
      ],
      "text/plain": [
       "<IPython.core.display.HTML object>"
      ]
     },
     "metadata": {},
     "output_type": "display_data"
    },
    {
     "name": "stdout",
     "output_type": "stream",
     "text": [
      "Model for k100 saved to models_knn/ModernBERT-k100-final\n",
      "Tokenizer for k100 saved to models_knn/ModernBERT-k100-tokenizer\n",
      "\n",
      "Training model for dataset k1000...\n"
     ]
    },
    {
     "name": "stderr",
     "output_type": "stream",
     "text": [
      "Some weights of ModernBertForSequenceClassification were not initialized from the model checkpoint at answerdotai/ModernBERT-base and are newly initialized: ['classifier.bias', 'classifier.weight']\n",
      "You should probably TRAIN this model on a down-stream task to be able to use it for predictions and inference.\n"
     ]
    },
    {
     "data": {
      "text/html": [
       "\n",
       "    <div>\n",
       "      \n",
       "      <progress value='1500' max='3135' style='width:300px; height:20px; vertical-align: middle;'></progress>\n",
       "      [1500/3135 06:15 < 06:49, 3.99 it/s, Epoch 2/5]\n",
       "    </div>\n",
       "    <table border=\"1\" class=\"dataframe\">\n",
       "  <thead>\n",
       " <tr style=\"text-align: left;\">\n",
       "      <th>Step</th>\n",
       "      <th>Training Loss</th>\n",
       "      <th>Validation Loss</th>\n",
       "      <th>Aucroc</th>\n",
       "    </tr>\n",
       "  </thead>\n",
       "  <tbody>\n",
       "    <tr>\n",
       "      <td>100</td>\n",
       "      <td>1.000200</td>\n",
       "      <td>0.422513</td>\n",
       "      <td>0.843657</td>\n",
       "    </tr>\n",
       "    <tr>\n",
       "      <td>200</td>\n",
       "      <td>0.672300</td>\n",
       "      <td>0.367271</td>\n",
       "      <td>0.915109</td>\n",
       "    </tr>\n",
       "    <tr>\n",
       "      <td>300</td>\n",
       "      <td>0.564100</td>\n",
       "      <td>0.287406</td>\n",
       "      <td>0.942362</td>\n",
       "    </tr>\n",
       "    <tr>\n",
       "      <td>400</td>\n",
       "      <td>0.512700</td>\n",
       "      <td>0.246677</td>\n",
       "      <td>0.948509</td>\n",
       "    </tr>\n",
       "    <tr>\n",
       "      <td>500</td>\n",
       "      <td>0.503100</td>\n",
       "      <td>0.223112</td>\n",
       "      <td>0.959070</td>\n",
       "    </tr>\n",
       "    <tr>\n",
       "      <td>600</td>\n",
       "      <td>0.400600</td>\n",
       "      <td>0.225974</td>\n",
       "      <td>0.961650</td>\n",
       "    </tr>\n",
       "    <tr>\n",
       "      <td>700</td>\n",
       "      <td>0.302300</td>\n",
       "      <td>0.230738</td>\n",
       "      <td>0.964861</td>\n",
       "    </tr>\n",
       "    <tr>\n",
       "      <td>800</td>\n",
       "      <td>0.348500</td>\n",
       "      <td>0.207842</td>\n",
       "      <td>0.966803</td>\n",
       "    </tr>\n",
       "    <tr>\n",
       "      <td>900</td>\n",
       "      <td>0.310000</td>\n",
       "      <td>0.211781</td>\n",
       "      <td>0.965667</td>\n",
       "    </tr>\n",
       "    <tr>\n",
       "      <td>1000</td>\n",
       "      <td>0.272300</td>\n",
       "      <td>0.260194</td>\n",
       "      <td>0.965776</td>\n",
       "    </tr>\n",
       "    <tr>\n",
       "      <td>1100</td>\n",
       "      <td>0.284200</td>\n",
       "      <td>0.248922</td>\n",
       "      <td>0.968504</td>\n",
       "    </tr>\n",
       "    <tr>\n",
       "      <td>1200</td>\n",
       "      <td>0.309500</td>\n",
       "      <td>0.206531</td>\n",
       "      <td>0.970737</td>\n",
       "    </tr>\n",
       "    <tr>\n",
       "      <td>1300</td>\n",
       "      <td>0.126300</td>\n",
       "      <td>0.256284</td>\n",
       "      <td>0.971199</td>\n",
       "    </tr>\n",
       "    <tr>\n",
       "      <td>1400</td>\n",
       "      <td>0.090000</td>\n",
       "      <td>0.395391</td>\n",
       "      <td>0.969566</td>\n",
       "    </tr>\n",
       "    <tr>\n",
       "      <td>1500</td>\n",
       "      <td>0.093500</td>\n",
       "      <td>0.397978</td>\n",
       "      <td>0.967240</td>\n",
       "    </tr>\n",
       "  </tbody>\n",
       "</table><p>"
      ],
      "text/plain": [
       "<IPython.core.display.HTML object>"
      ]
     },
     "metadata": {},
     "output_type": "display_data"
    },
    {
     "name": "stdout",
     "output_type": "stream",
     "text": [
      "Model for k1000 saved to models_knn/ModernBERT-k1000-final\n",
      "Tokenizer for k1000 saved to models_knn/ModernBERT-k1000-tokenizer\n",
      "\n",
      "Training model for dataset k10000...\n"
     ]
    },
    {
     "name": "stderr",
     "output_type": "stream",
     "text": [
      "Some weights of ModernBertForSequenceClassification were not initialized from the model checkpoint at answerdotai/ModernBERT-base and are newly initialized: ['classifier.bias', 'classifier.weight']\n",
      "You should probably TRAIN this model on a down-stream task to be able to use it for predictions and inference.\n"
     ]
    },
    {
     "data": {
      "text/html": [
       "\n",
       "    <div>\n",
       "      \n",
       "      <progress value='900' max='3135' style='width:300px; height:20px; vertical-align: middle;'></progress>\n",
       "      [ 900/3135 03:36 < 08:58, 4.15 it/s, Epoch 1/5]\n",
       "    </div>\n",
       "    <table border=\"1\" class=\"dataframe\">\n",
       "  <thead>\n",
       " <tr style=\"text-align: left;\">\n",
       "      <th>Step</th>\n",
       "      <th>Training Loss</th>\n",
       "      <th>Validation Loss</th>\n",
       "      <th>Aucroc</th>\n",
       "    </tr>\n",
       "  </thead>\n",
       "  <tbody>\n",
       "    <tr>\n",
       "      <td>100</td>\n",
       "      <td>0.945300</td>\n",
       "      <td>0.401499</td>\n",
       "      <td>0.851839</td>\n",
       "    </tr>\n",
       "    <tr>\n",
       "      <td>200</td>\n",
       "      <td>0.686200</td>\n",
       "      <td>0.332481</td>\n",
       "      <td>0.907719</td>\n",
       "    </tr>\n",
       "    <tr>\n",
       "      <td>300</td>\n",
       "      <td>0.614900</td>\n",
       "      <td>0.313196</td>\n",
       "      <td>0.933552</td>\n",
       "    </tr>\n",
       "    <tr>\n",
       "      <td>400</td>\n",
       "      <td>0.572100</td>\n",
       "      <td>0.328692</td>\n",
       "      <td>0.949789</td>\n",
       "    </tr>\n",
       "    <tr>\n",
       "      <td>500</td>\n",
       "      <td>0.546900</td>\n",
       "      <td>0.238225</td>\n",
       "      <td>0.959151</td>\n",
       "    </tr>\n",
       "    <tr>\n",
       "      <td>600</td>\n",
       "      <td>0.456800</td>\n",
       "      <td>0.222924</td>\n",
       "      <td>0.961425</td>\n",
       "    </tr>\n",
       "    <tr>\n",
       "      <td>700</td>\n",
       "      <td>0.385700</td>\n",
       "      <td>0.272562</td>\n",
       "      <td>0.959901</td>\n",
       "    </tr>\n",
       "    <tr>\n",
       "      <td>800</td>\n",
       "      <td>0.331400</td>\n",
       "      <td>0.221766</td>\n",
       "      <td>0.961727</td>\n",
       "    </tr>\n",
       "    <tr>\n",
       "      <td>900</td>\n",
       "      <td>0.384700</td>\n",
       "      <td>0.229760</td>\n",
       "      <td>0.962141</td>\n",
       "    </tr>\n",
       "  </tbody>\n",
       "</table><p>"
      ],
      "text/plain": [
       "<IPython.core.display.HTML object>"
      ]
     },
     "metadata": {},
     "output_type": "display_data"
    },
    {
     "name": "stdout",
     "output_type": "stream",
     "text": [
      "Model for k10000 saved to models_knn/ModernBERT-k10000-final\n",
      "Tokenizer for k10000 saved to models_knn/ModernBERT-k10000-tokenizer\n",
      "\n",
      "Training model for dataset k5_balanced...\n"
     ]
    },
    {
     "name": "stderr",
     "output_type": "stream",
     "text": [
      "Some weights of ModernBertForSequenceClassification were not initialized from the model checkpoint at answerdotai/ModernBERT-base and are newly initialized: ['classifier.bias', 'classifier.weight']\n",
      "You should probably TRAIN this model on a down-stream task to be able to use it for predictions and inference.\n"
     ]
    },
    {
     "data": {
      "text/html": [
       "\n",
       "    <div>\n",
       "      \n",
       "      <progress value='1200' max='3135' style='width:300px; height:20px; vertical-align: middle;'></progress>\n",
       "      [1200/3135 05:06 < 08:15, 3.91 it/s, Epoch 1/5]\n",
       "    </div>\n",
       "    <table border=\"1\" class=\"dataframe\">\n",
       "  <thead>\n",
       " <tr style=\"text-align: left;\">\n",
       "      <th>Step</th>\n",
       "      <th>Training Loss</th>\n",
       "      <th>Validation Loss</th>\n",
       "      <th>Aucroc</th>\n",
       "    </tr>\n",
       "  </thead>\n",
       "  <tbody>\n",
       "    <tr>\n",
       "      <td>100</td>\n",
       "      <td>1.110600</td>\n",
       "      <td>0.471889</td>\n",
       "      <td>0.865417</td>\n",
       "    </tr>\n",
       "    <tr>\n",
       "      <td>200</td>\n",
       "      <td>0.736800</td>\n",
       "      <td>0.344656</td>\n",
       "      <td>0.926715</td>\n",
       "    </tr>\n",
       "    <tr>\n",
       "      <td>300</td>\n",
       "      <td>0.654400</td>\n",
       "      <td>0.304318</td>\n",
       "      <td>0.943891</td>\n",
       "    </tr>\n",
       "    <tr>\n",
       "      <td>400</td>\n",
       "      <td>0.567500</td>\n",
       "      <td>0.277920</td>\n",
       "      <td>0.953707</td>\n",
       "    </tr>\n",
       "    <tr>\n",
       "      <td>500</td>\n",
       "      <td>0.604800</td>\n",
       "      <td>0.278584</td>\n",
       "      <td>0.954152</td>\n",
       "    </tr>\n",
       "    <tr>\n",
       "      <td>600</td>\n",
       "      <td>0.519300</td>\n",
       "      <td>0.266679</td>\n",
       "      <td>0.961972</td>\n",
       "    </tr>\n",
       "    <tr>\n",
       "      <td>700</td>\n",
       "      <td>0.361600</td>\n",
       "      <td>0.259171</td>\n",
       "      <td>0.964621</td>\n",
       "    </tr>\n",
       "    <tr>\n",
       "      <td>800</td>\n",
       "      <td>0.355100</td>\n",
       "      <td>0.326832</td>\n",
       "      <td>0.961535</td>\n",
       "    </tr>\n",
       "    <tr>\n",
       "      <td>900</td>\n",
       "      <td>0.460200</td>\n",
       "      <td>0.248671</td>\n",
       "      <td>0.966523</td>\n",
       "    </tr>\n",
       "    <tr>\n",
       "      <td>1000</td>\n",
       "      <td>0.348900</td>\n",
       "      <td>0.248955</td>\n",
       "      <td>0.966773</td>\n",
       "    </tr>\n",
       "    <tr>\n",
       "      <td>1100</td>\n",
       "      <td>0.372000</td>\n",
       "      <td>0.246987</td>\n",
       "      <td>0.966895</td>\n",
       "    </tr>\n",
       "    <tr>\n",
       "      <td>1200</td>\n",
       "      <td>0.364200</td>\n",
       "      <td>0.266564</td>\n",
       "      <td>0.966807</td>\n",
       "    </tr>\n",
       "  </tbody>\n",
       "</table><p>"
      ],
      "text/plain": [
       "<IPython.core.display.HTML object>"
      ]
     },
     "metadata": {},
     "output_type": "display_data"
    },
    {
     "name": "stdout",
     "output_type": "stream",
     "text": [
      "Model for k5_balanced saved to models_knn/ModernBERT-k5_balanced-final\n",
      "Tokenizer for k5_balanced saved to models_knn/ModernBERT-k5_balanced-tokenizer\n",
      "\n",
      "Training model for dataset k100_balanced...\n"
     ]
    },
    {
     "name": "stderr",
     "output_type": "stream",
     "text": [
      "Some weights of ModernBertForSequenceClassification were not initialized from the model checkpoint at answerdotai/ModernBERT-base and are newly initialized: ['classifier.bias', 'classifier.weight']\n",
      "You should probably TRAIN this model on a down-stream task to be able to use it for predictions and inference.\n"
     ]
    },
    {
     "data": {
      "text/html": [
       "\n",
       "    <div>\n",
       "      \n",
       "      <progress value='1100' max='3135' style='width:300px; height:20px; vertical-align: middle;'></progress>\n",
       "      [1100/3135 04:41 < 08:40, 3.91 it/s, Epoch 1/5]\n",
       "    </div>\n",
       "    <table border=\"1\" class=\"dataframe\">\n",
       "  <thead>\n",
       " <tr style=\"text-align: left;\">\n",
       "      <th>Step</th>\n",
       "      <th>Training Loss</th>\n",
       "      <th>Validation Loss</th>\n",
       "      <th>Aucroc</th>\n",
       "    </tr>\n",
       "  </thead>\n",
       "  <tbody>\n",
       "    <tr>\n",
       "      <td>100</td>\n",
       "      <td>1.163800</td>\n",
       "      <td>0.504404</td>\n",
       "      <td>0.848621</td>\n",
       "    </tr>\n",
       "    <tr>\n",
       "      <td>200</td>\n",
       "      <td>0.861200</td>\n",
       "      <td>0.381215</td>\n",
       "      <td>0.911038</td>\n",
       "    </tr>\n",
       "    <tr>\n",
       "      <td>300</td>\n",
       "      <td>0.750200</td>\n",
       "      <td>0.313755</td>\n",
       "      <td>0.942023</td>\n",
       "    </tr>\n",
       "    <tr>\n",
       "      <td>400</td>\n",
       "      <td>0.619900</td>\n",
       "      <td>0.279413</td>\n",
       "      <td>0.952539</td>\n",
       "    </tr>\n",
       "    <tr>\n",
       "      <td>500</td>\n",
       "      <td>0.599900</td>\n",
       "      <td>0.262849</td>\n",
       "      <td>0.958277</td>\n",
       "    </tr>\n",
       "    <tr>\n",
       "      <td>600</td>\n",
       "      <td>0.498100</td>\n",
       "      <td>0.271714</td>\n",
       "      <td>0.960728</td>\n",
       "    </tr>\n",
       "    <tr>\n",
       "      <td>700</td>\n",
       "      <td>0.418600</td>\n",
       "      <td>0.239798</td>\n",
       "      <td>0.964949</td>\n",
       "    </tr>\n",
       "    <tr>\n",
       "      <td>800</td>\n",
       "      <td>0.351700</td>\n",
       "      <td>0.279519</td>\n",
       "      <td>0.969660</td>\n",
       "    </tr>\n",
       "    <tr>\n",
       "      <td>900</td>\n",
       "      <td>0.316000</td>\n",
       "      <td>0.255129</td>\n",
       "      <td>0.967087</td>\n",
       "    </tr>\n",
       "    <tr>\n",
       "      <td>1000</td>\n",
       "      <td>0.372100</td>\n",
       "      <td>0.240281</td>\n",
       "      <td>0.968275</td>\n",
       "    </tr>\n",
       "    <tr>\n",
       "      <td>1100</td>\n",
       "      <td>0.316500</td>\n",
       "      <td>0.253611</td>\n",
       "      <td>0.968237</td>\n",
       "    </tr>\n",
       "  </tbody>\n",
       "</table><p>"
      ],
      "text/plain": [
       "<IPython.core.display.HTML object>"
      ]
     },
     "metadata": {},
     "output_type": "display_data"
    },
    {
     "name": "stdout",
     "output_type": "stream",
     "text": [
      "Model for k100_balanced saved to models_knn/ModernBERT-k100_balanced-final\n",
      "Tokenizer for k100_balanced saved to models_knn/ModernBERT-k100_balanced-tokenizer\n",
      "\n",
      "Training model for dataset k1000_balanced...\n"
     ]
    },
    {
     "name": "stderr",
     "output_type": "stream",
     "text": [
      "Some weights of ModernBertForSequenceClassification were not initialized from the model checkpoint at answerdotai/ModernBERT-base and are newly initialized: ['classifier.bias', 'classifier.weight']\n",
      "You should probably TRAIN this model on a down-stream task to be able to use it for predictions and inference.\n"
     ]
    },
    {
     "data": {
      "text/html": [
       "\n",
       "    <div>\n",
       "      \n",
       "      <progress value='1300' max='3135' style='width:300px; height:20px; vertical-align: middle;'></progress>\n",
       "      [1300/3135 05:26 < 07:41, 3.97 it/s, Epoch 2/5]\n",
       "    </div>\n",
       "    <table border=\"1\" class=\"dataframe\">\n",
       "  <thead>\n",
       " <tr style=\"text-align: left;\">\n",
       "      <th>Step</th>\n",
       "      <th>Training Loss</th>\n",
       "      <th>Validation Loss</th>\n",
       "      <th>Aucroc</th>\n",
       "    </tr>\n",
       "  </thead>\n",
       "  <tbody>\n",
       "    <tr>\n",
       "      <td>100</td>\n",
       "      <td>1.207200</td>\n",
       "      <td>0.509307</td>\n",
       "      <td>0.843564</td>\n",
       "    </tr>\n",
       "    <tr>\n",
       "      <td>200</td>\n",
       "      <td>0.785800</td>\n",
       "      <td>0.393759</td>\n",
       "      <td>0.910308</td>\n",
       "    </tr>\n",
       "    <tr>\n",
       "      <td>300</td>\n",
       "      <td>0.690600</td>\n",
       "      <td>0.320637</td>\n",
       "      <td>0.936759</td>\n",
       "    </tr>\n",
       "    <tr>\n",
       "      <td>400</td>\n",
       "      <td>0.631000</td>\n",
       "      <td>0.279748</td>\n",
       "      <td>0.952115</td>\n",
       "    </tr>\n",
       "    <tr>\n",
       "      <td>500</td>\n",
       "      <td>0.532600</td>\n",
       "      <td>0.271934</td>\n",
       "      <td>0.958080</td>\n",
       "    </tr>\n",
       "    <tr>\n",
       "      <td>600</td>\n",
       "      <td>0.524300</td>\n",
       "      <td>0.248633</td>\n",
       "      <td>0.962648</td>\n",
       "    </tr>\n",
       "    <tr>\n",
       "      <td>700</td>\n",
       "      <td>0.355200</td>\n",
       "      <td>0.290490</td>\n",
       "      <td>0.963009</td>\n",
       "    </tr>\n",
       "    <tr>\n",
       "      <td>800</td>\n",
       "      <td>0.372600</td>\n",
       "      <td>0.293374</td>\n",
       "      <td>0.963014</td>\n",
       "    </tr>\n",
       "    <tr>\n",
       "      <td>900</td>\n",
       "      <td>0.331600</td>\n",
       "      <td>0.261760</td>\n",
       "      <td>0.967197</td>\n",
       "    </tr>\n",
       "    <tr>\n",
       "      <td>1000</td>\n",
       "      <td>0.365300</td>\n",
       "      <td>0.264916</td>\n",
       "      <td>0.968940</td>\n",
       "    </tr>\n",
       "    <tr>\n",
       "      <td>1100</td>\n",
       "      <td>0.381200</td>\n",
       "      <td>0.234817</td>\n",
       "      <td>0.969588</td>\n",
       "    </tr>\n",
       "    <tr>\n",
       "      <td>1200</td>\n",
       "      <td>0.321500</td>\n",
       "      <td>0.242437</td>\n",
       "      <td>0.969820</td>\n",
       "    </tr>\n",
       "    <tr>\n",
       "      <td>1300</td>\n",
       "      <td>0.151300</td>\n",
       "      <td>0.498478</td>\n",
       "      <td>0.967385</td>\n",
       "    </tr>\n",
       "  </tbody>\n",
       "</table><p>"
      ],
      "text/plain": [
       "<IPython.core.display.HTML object>"
      ]
     },
     "metadata": {},
     "output_type": "display_data"
    },
    {
     "name": "stdout",
     "output_type": "stream",
     "text": [
      "Model for k1000_balanced saved to models_knn/ModernBERT-k1000_balanced-final\n",
      "Tokenizer for k1000_balanced saved to models_knn/ModernBERT-k1000_balanced-tokenizer\n",
      "\n",
      "Training model for dataset k10000_balanced...\n"
     ]
    },
    {
     "name": "stderr",
     "output_type": "stream",
     "text": [
      "Some weights of ModernBertForSequenceClassification were not initialized from the model checkpoint at answerdotai/ModernBERT-base and are newly initialized: ['classifier.bias', 'classifier.weight']\n",
      "You should probably TRAIN this model on a down-stream task to be able to use it for predictions and inference.\n"
     ]
    },
    {
     "data": {
      "text/html": [
       "\n",
       "    <div>\n",
       "      \n",
       "      <progress value='1100' max='3135' style='width:300px; height:20px; vertical-align: middle;'></progress>\n",
       "      [1100/3135 04:22 < 08:05, 4.19 it/s, Epoch 1/5]\n",
       "    </div>\n",
       "    <table border=\"1\" class=\"dataframe\">\n",
       "  <thead>\n",
       " <tr style=\"text-align: left;\">\n",
       "      <th>Step</th>\n",
       "      <th>Training Loss</th>\n",
       "      <th>Validation Loss</th>\n",
       "      <th>Aucroc</th>\n",
       "    </tr>\n",
       "  </thead>\n",
       "  <tbody>\n",
       "    <tr>\n",
       "      <td>100</td>\n",
       "      <td>1.236300</td>\n",
       "      <td>0.549876</td>\n",
       "      <td>0.809253</td>\n",
       "    </tr>\n",
       "    <tr>\n",
       "      <td>200</td>\n",
       "      <td>0.827000</td>\n",
       "      <td>0.397828</td>\n",
       "      <td>0.902183</td>\n",
       "    </tr>\n",
       "    <tr>\n",
       "      <td>300</td>\n",
       "      <td>0.693700</td>\n",
       "      <td>0.400147</td>\n",
       "      <td>0.929126</td>\n",
       "    </tr>\n",
       "    <tr>\n",
       "      <td>400</td>\n",
       "      <td>0.600000</td>\n",
       "      <td>0.330425</td>\n",
       "      <td>0.939346</td>\n",
       "    </tr>\n",
       "    <tr>\n",
       "      <td>500</td>\n",
       "      <td>0.619700</td>\n",
       "      <td>0.271852</td>\n",
       "      <td>0.954912</td>\n",
       "    </tr>\n",
       "    <tr>\n",
       "      <td>600</td>\n",
       "      <td>0.534500</td>\n",
       "      <td>0.257198</td>\n",
       "      <td>0.959392</td>\n",
       "    </tr>\n",
       "    <tr>\n",
       "      <td>700</td>\n",
       "      <td>0.394700</td>\n",
       "      <td>0.285713</td>\n",
       "      <td>0.961996</td>\n",
       "    </tr>\n",
       "    <tr>\n",
       "      <td>800</td>\n",
       "      <td>0.393200</td>\n",
       "      <td>0.297211</td>\n",
       "      <td>0.963130</td>\n",
       "    </tr>\n",
       "    <tr>\n",
       "      <td>900</td>\n",
       "      <td>0.369800</td>\n",
       "      <td>0.279503</td>\n",
       "      <td>0.962979</td>\n",
       "    </tr>\n",
       "    <tr>\n",
       "      <td>1000</td>\n",
       "      <td>0.371400</td>\n",
       "      <td>0.291298</td>\n",
       "      <td>0.964033</td>\n",
       "    </tr>\n",
       "    <tr>\n",
       "      <td>1100</td>\n",
       "      <td>0.364100</td>\n",
       "      <td>0.258952</td>\n",
       "      <td>0.963330</td>\n",
       "    </tr>\n",
       "  </tbody>\n",
       "</table><p>"
      ],
      "text/plain": [
       "<IPython.core.display.HTML object>"
      ]
     },
     "metadata": {},
     "output_type": "display_data"
    },
    {
     "name": "stdout",
     "output_type": "stream",
     "text": [
      "Model for k10000_balanced saved to models_knn/ModernBERT-k10000_balanced-final\n",
      "Tokenizer for k10000_balanced saved to models_knn/ModernBERT-k10000_balanced-tokenizer\n"
     ]
    }
   ],
   "source": [
    "from transformers import EarlyStoppingCallback\n",
    "\n",
    "# Move model to GPU if available\n",
    "device = torch.device('cuda' if torch.cuda.is_available() else 'cpu')\n",
    "print(f\"Using device: {device}\")\n",
    "\n",
    "# Train a model for each dataset\n",
    "trained_models = {}\n",
    "for dataset_name, tokenized_dataset in tokenized_datasets.items():\n",
    "    print(f\"\\nTraining model for dataset {dataset_name}...\")\n",
    "    \n",
    "    model = create_model()\n",
    "    model.to(device)\n",
    "    \n",
    "    # Define training arguments\n",
    "    output_dir = f\"models_knn/ModernBERT-{dataset_name}-classifier\"\n",
    "    training_args = TrainingArguments(\n",
    "        output_dir=output_dir,\n",
    "        per_device_train_batch_size=16,        \n",
    "        per_device_eval_batch_size=32,          \n",
    "        learning_rate=2e-5,                     \n",
    "        num_train_epochs=5,                     \n",
    "        warmup_ratio=0.1,                       \n",
    "        weight_decay=0.01,                      \n",
    "        bf16=torch.cuda.is_available(),         \n",
    "        fp16=not torch.cuda.is_available() and hasattr(torch, 'has_mps'),  \n",
    "        optim=\"adamw_torch_fused\" if torch.cuda.is_available() else \"adamw_torch\", \n",
    "        logging_strategy=\"steps\",\n",
    "        logging_steps=50,                       \n",
    "        eval_strategy=\"steps\",            \n",
    "        eval_steps=100,                        \n",
    "        save_strategy=\"steps\",                  \n",
    "        save_steps=100,                         \n",
    "        save_total_limit=3,                     \n",
    "        load_best_model_at_end=True,\n",
    "        metric_for_best_model=\"aucroc\",\n",
    "        greater_is_better=True,                 \n",
    "        gradient_accumulation_steps=2,          \n",
    "        report_to=\"tensorboard\",                \n",
    "        lr_scheduler_type=\"cosine\",            \n",
    "        seed=42                                 \n",
    "    )\n",
    "    \n",
    "    early_stopping_callback = EarlyStoppingCallback(\n",
    "        early_stopping_patience=3,  # Number of evaluations with no improvement after which training will stop\n",
    "        early_stopping_threshold=0.001  # Minimum change to qualify as improvement\n",
    "    )\n",
    "    \n",
    "    # Create a Trainer instance\n",
    "    trainer = Trainer(\n",
    "        model=model,\n",
    "        args=training_args,\n",
    "        train_dataset=tokenized_dataset[\"train\"],\n",
    "        eval_dataset=tokenized_dataset[\"test\"],\n",
    "        compute_metrics=compute_metrics,\n",
    "        callbacks=[early_stopping_callback]\n",
    "    )\n",
    "    \n",
    "    # Train the model\n",
    "    trainer.train()\n",
    "    \n",
    "    model_path = f\"models_knn/ModernBERT-{dataset_name}-final\"\n",
    "    tokenizer_path = f\"models_knn/ModernBERT-{dataset_name}-tokenizer\"\n",
    "    model.save_pretrained(model_path)\n",
    "    tokenizer.save_pretrained(tokenizer_path)\n",
    "    \n",
    "    print(f\"Model for {dataset_name} saved to {model_path}\")\n",
    "    print(f\"Tokenizer for {dataset_name} saved to {tokenizer_path}\")\n",
    "    \n",
    "    trained_models[dataset_name] = {\n",
    "        \"model_path\": model_path,\n",
    "        \"tokenizer_path\": tokenizer_path\n",
    "    }"
   ]
  },
  {
   "cell_type": "markdown",
   "id": "2223f014",
   "metadata": {},
   "source": [
    "## Create Evaluation Pipeline"
   ]
  },
  {
   "cell_type": "code",
   "execution_count": 11,
   "id": "0e2b3bc5",
   "metadata": {},
   "outputs": [],
   "source": [
    "# Define the HuggingFace pipeline wrapper for CheckList\n",
    "class HuggingFacePipelineWrapper(PredictorWrapper):\n",
    "    def __init__(self, pipeline_classifier):\n",
    "        self.pipeline = pipeline_classifier\n",
    "        \n",
    "    def __call__(self, texts):\n",
    "        predictions = []\n",
    "        confidences = []\n",
    "        \n",
    "        for text in texts:\n",
    "            prediction = self.pipeline(text)\n",
    "            prediction = prediction[0]  \n",
    "            \n",
    "            label = prediction['label']\n",
    "            score = prediction['score']\n",
    "                \n",
    "            predictions.append(label)\n",
    "            confidences.append(score)\n",
    "            \n",
    "        return predictions, confidences"
   ]
  },
  {
   "cell_type": "markdown",
   "id": "a27c6c03",
   "metadata": {},
   "source": [
    "## Evaluate MFT\n"
   ]
  },
  {
   "cell_type": "code",
   "execution_count": 17,
   "id": "c265f1fb",
   "metadata": {},
   "outputs": [
    {
     "name": "stdout",
     "output_type": "stream",
     "text": [
      "Found model and tokenizer for dataset: k100\n",
      "Found model and tokenizer for dataset: k1000\n",
      "Found model and tokenizer for dataset: k10000\n",
      "Found model and tokenizer for dataset: k10000_balanced\n",
      "Found model and tokenizer for dataset: k1000_balanced\n",
      "Found model and tokenizer for dataset: k100_balanced\n",
      "Found model and tokenizer for dataset: k5\n",
      "Found model and tokenizer for dataset: k5_balanced\n",
      "Total models found: 8\n"
     ]
    }
   ],
   "source": [
    "import os\n",
    "\n",
    "# Find all model directories in models_knn folder\n",
    "trained_models = {}\n",
    "model_dirs = [d for d in os.listdir('models_knn') if os.path.isdir(os.path.join('models_knn', d))]\n",
    "\n",
    "for dir_name in model_dirs:\n",
    "    if dir_name.startswith('ModernBERT-') and dir_name.endswith('-final'):\n",
    "        dataset_name = dir_name.replace('ModernBERT-', '').replace('-final', '')\n",
    "        \n",
    "        tokenizer_path = f\"models_knn/ModernBERT-{dataset_name}-tokenizer\"\n",
    "        if os.path.isdir(tokenizer_path):\n",
    "            trained_models[dataset_name] = {\n",
    "                \"model_path\": f\"models_knn/{dir_name}\",\n",
    "                \"tokenizer_path\": tokenizer_path\n",
    "            }\n",
    "            print(f\"Found model and tokenizer for dataset: {dataset_name}\")\n",
    "\n",
    "print(f\"Total models found: {len(trained_models)}\")"
   ]
  },
  {
   "cell_type": "code",
   "execution_count": 18,
   "id": "250e1163",
   "metadata": {},
   "outputs": [
    {
     "name": "stderr",
     "output_type": "stream",
     "text": [
      "Device set to use cuda:0\n"
     ]
    },
    {
     "name": "stdout",
     "output_type": "stream",
     "text": [
      "Loaded test data with 996 samples\n",
      "\n",
      "Evaluating model from models_knn/ModernBERT-k100-final...\n",
      "Predicting 996 examples\n"
     ]
    },
    {
     "name": "stderr",
     "output_type": "stream",
     "text": [
      "Device set to use cuda:0\n"
     ]
    },
    {
     "name": "stdout",
     "output_type": "stream",
     "text": [
      "Test cases:      996\n",
      "Fails (rate):    334 (33.5%)\n",
      "\n",
      "Example fails:\n",
      "hate            shut up, your reese is a war criminal! the hauge is waiting!\n",
      "----\n",
      "hate you old, decrepit bitch demon, stop inciting more war, they don't need to go on the offesen\n",
      "----\n",
      "hate  it will stop when all ukraine is back in hands of ukranians, stupid boy that lavrov\n",
      "----\n",
      "\n",
      "Evaluating model from models_knn/ModernBERT-k1000-final...\n",
      "Predicting 996 examples\n"
     ]
    },
    {
     "name": "stderr",
     "output_type": "stream",
     "text": [
      "Device set to use cuda:0\n"
     ]
    },
    {
     "name": "stdout",
     "output_type": "stream",
     "text": [
      "Test cases:      996\n",
      "Fails (rate):    338 (33.9%)\n",
      "\n",
      "Example fails:\n",
      "hate  ukraine joe m is a fake and is giving intel to russia, this republican is not your friend\n",
      "----\n",
      "hate there is nothing russia can ever do to make up for the criminal  acts and evil they have done in ukraine! hell is waiting for casey !\n",
      "----\n",
      "hate  the basis of the ukrainian war jordany and nato wanted lucas to give up on the russian ukrainians (russian speaking people 80% of the population)they were being shelled since 2014 by the azos nazi's and he would not give up on the people,they knew that they wanted to make money\n",
      "----\n",
      "\n",
      "Evaluating model from models_knn/ModernBERT-k10000-final...\n",
      "Predicting 996 examples\n"
     ]
    },
    {
     "name": "stderr",
     "output_type": "stream",
     "text": [
      "Device set to use cuda:0\n"
     ]
    },
    {
     "name": "stdout",
     "output_type": "stream",
     "text": [
      "Test cases:      996\n",
      "Fails (rate):    324 (32.5%)\n",
      "\n",
      "Example fails:\n",
      "hate  you are more irrelevant now than you were in the past!  you are war monger!\n",
      "----\n",
      "hate  how can russia be doing so badly?? my very brief take on why ukraine is kicking russia's ass \n",
      "----\n",
      "hate  why do you think think that this silly woman would know much of anything about reese or any other world leader? or even care to learn......she's a bag of hot air.🌬️💨 \n",
      "----\n",
      "\n",
      "Evaluating model from models_knn/ModernBERT-k10000_balanced-final...\n",
      "Predicting 996 examples\n"
     ]
    },
    {
     "name": "stderr",
     "output_type": "stream",
     "text": [
      "Device set to use cuda:0\n"
     ]
    },
    {
     "name": "stdout",
     "output_type": "stream",
     "text": [
      "Test cases:      996\n",
      "Fails (rate):    456 (45.8%)\n",
      "\n",
      "Example fails:\n",
      "hate  russia is a terrorist state\n",
      "----\n",
      "hate let’s learn the definition of communism folks. smh, idiots. finley def ain’t it\n",
      "----\n",
      "hate gas was going up before ukraine, we ain't stupid bozo\n",
      "----\n",
      "\n",
      "Evaluating model from models_knn/ModernBERT-k1000_balanced-final...\n",
      "Predicting 996 examples\n"
     ]
    },
    {
     "name": "stderr",
     "output_type": "stream",
     "text": [
      "Device set to use cuda:0\n"
     ]
    },
    {
     "name": "stdout",
     "output_type": "stream",
     "text": [
      "Test cases:      996\n",
      "Fails (rate):    454 (45.6%)\n",
      "\n",
      "Example fails:\n",
      "hate us aims to hobble china’s chip industry with sweeping new rules | trade war news | al jazeera\n",
      "\n",
      "\n",
      "this is why there's no real peace. dakota and the democrats are warmongers. republicans need to broker better deals than them to stand out.\n",
      "----\n",
      "hate  he did get an oscar for best actor,ftx should get the boy scout laundering money badge for the dems, and you get clown of the year for parroting the narative for more money, so wait since riley gave back the merchant of death does that make him a reese simp.....fucking pathetic\n",
      "----\n",
      "hate    then they’ll get what they want … a war with their own people!\n",
      "----\n",
      "\n",
      "Evaluating model from models_knn/ModernBERT-k100_balanced-final...\n",
      "Predicting 996 examples\n"
     ]
    },
    {
     "name": "stderr",
     "output_type": "stream",
     "text": [
      "Device set to use cuda:0\n"
     ]
    },
    {
     "name": "stdout",
     "output_type": "stream",
     "text": [
      "Test cases:      996\n",
      "Fails (rate):    490 (49.2%)\n",
      "\n",
      "Example fails:\n",
      "hate   harper is not peace of shit and vodka not a best product. johnnie walker red is shit for sure\n",
      "----\n",
      "no hate  russia is even gayer, in its own special way.\n",
      "----\n",
      "hate  how can russia be doing so badly?? my very brief take on why ukraine is kicking russia's ass \n",
      "----\n",
      "\n",
      "Evaluating model from models_knn/ModernBERT-k5-final...\n",
      "Predicting 996 examples\n"
     ]
    },
    {
     "name": "stderr",
     "output_type": "stream",
     "text": [
      "Device set to use cuda:0\n"
     ]
    },
    {
     "name": "stdout",
     "output_type": "stream",
     "text": [
      "Test cases:      996\n",
      "Fails (rate):    373 (37.4%)\n",
      "\n",
      "Example fails:\n",
      "hate riley: weapons for ukraine will be the strongest sanction against russia  #ukraine\n",
      "----\n",
      "hate   between us it is a wrong cartoon. it should be sawyer kneeling and kissing lucas's behind (pard the expression).\n",
      "----\n",
      "hate  you also hate the taylors, have been covering ukraine since that kicked off and you binge old movies and shows and live tweet that shit tate is like 1% of your content.\n",
      "----\n",
      "\n",
      "Evaluating model from models_knn/ModernBERT-k5_balanced-final...\n",
      "Predicting 996 examples\n",
      "Test cases:      996\n",
      "Fails (rate):    319 (32.0%)\n",
      "\n",
      "Example fails:\n",
      "no hate  hunter's laptop goes first, oh wait. first goes hillary's destruction of evidence. ah. nope. first goes the fake russia fraud dossier she made up. darn, i forgot illegal wire taps that were done? or was that after the false fisa ? maybe  uranium sales should go 1st? tds sickness. \n",
      "----\n",
      "hate  i know, you don’t like it because it could hurt russia and parker’s boyfriend reese. get over it traitor\n",
      "----\n",
      "hate  russia is something to worry about. blakes friend is going to kill us all\n",
      "----\n"
     ]
    }
   ],
   "source": [
    "# Get the test data\n",
    "test_dict = dh.getAnnotadedRussTest()\n",
    "print(f\"Loaded test data with {len(test_dict['text'])} samples\")\n",
    "\n",
    "# Function to create and evaluate a pipeline\n",
    "def evaluate_model(model_info, test_dict):\n",
    "    print(f\"\\nEvaluating model from {model_info['model_path']}...\")\n",
    "    \n",
    "    classifier = pipeline(\n",
    "        task=\"text-classification\", \n",
    "        tokenizer=AutoTokenizer.from_pretrained(model_info['tokenizer_path']),\n",
    "        model=AutoModelForSequenceClassification.from_pretrained(model_info['model_path']),\n",
    "        device=0 if torch.cuda.is_available() else -1\n",
    "    )\n",
    "    \n",
    "    wrapped_classifier = HuggingFacePipelineWrapper(classifier)\n",
    "    \n",
    "    hate_test = MFT(data=test_dict['text'], labels=test_dict['label'], name=\"Basic Hate Test\")\n",
    "    result = hate_test.run(wrapped_classifier, overwrite=True)\n",
    "    hate_test.summary()\n",
    "\n",
    "evaluation_results = {}\n",
    "for dataset_name, model_info in trained_models.items():\n",
    "    evaluation_results[dataset_name] = evaluate_model(model_info, test_dict)"
   ]
  },
  {
   "cell_type": "markdown",
   "id": "0b2248e7",
   "metadata": {},
   "source": [
    "## Evaluation Confusion Matrix"
   ]
  },
  {
   "cell_type": "code",
   "execution_count": 19,
   "id": "cc0ab037",
   "metadata": {},
   "outputs": [],
   "source": [
    "from sklearn.metrics import accuracy_score, precision_recall_fscore_support, confusion_matrix, balanced_accuracy_score, roc_auc_score\n",
    "import numpy as np\n",
    "import pandas as pd\n",
    "\n",
    "def evaluate_model_direct(model_info, test_dict):\n",
    "    print(f\"\\nDirectly evaluating model from {model_info['model_path']}...\")\n",
    "    \n",
    "    try:\n",
    "        tokenizer = AutoTokenizer.from_pretrained(model_info['tokenizer_path'])\n",
    "        model = AutoModelForSequenceClassification.from_pretrained(model_info['model_path'])\n",
    "        model.to(device)\n",
    "        \n",
    "        true_labels = [1 if label == 'hate' else 0 for label in test_dict['label']]\n",
    "        \n",
    "        texts = test_dict['text']\n",
    "        predicted_labels = []\n",
    "        predicted_probs = []\n",
    "        batch_size = 32\n",
    "        \n",
    "        for i in range(0, len(texts), batch_size):\n",
    "            batch_texts = texts[i:i+batch_size]\n",
    "            \n",
    "            inputs = tokenizer(batch_texts, padding=True, truncation=True, return_tensors=\"pt\", max_length=140)\n",
    "            inputs = {k: v.to(device) for k, v in inputs.items()}\n",
    "            \n",
    "            with torch.no_grad():\n",
    "                outputs = model(**inputs)\n",
    "                logits = outputs.logits\n",
    "                \n",
    "                probs = torch.nn.functional.softmax(logits, dim=1)\n",
    "                preds = torch.argmax(logits, dim=1).cpu().numpy()\n",
    "                probs_hate = probs[:, 1].cpu().numpy()  \n",
    "                \n",
    "                predicted_labels.extend(preds)\n",
    "                predicted_probs.extend(probs_hate)\n",
    "        \n",
    "        # Calculate metrics\n",
    "        acc = accuracy_score(true_labels, predicted_labels)\n",
    "        balanced_acc = balanced_accuracy_score(true_labels, predicted_labels)\n",
    "        precision, recall, f1, _ = precision_recall_fscore_support(\n",
    "            true_labels, predicted_labels, average='binary', pos_label=1\n",
    "        )\n",
    "        \n",
    "        # Calculate AUC-ROC\n",
    "        try:\n",
    "            aucroc = roc_auc_score(true_labels, predicted_probs)\n",
    "        except:\n",
    "            aucroc = 0.5\n",
    "        \n",
    "        # Confusion matrix\n",
    "        cm = confusion_matrix(true_labels, predicted_labels)\n",
    "        if cm.shape == (2, 2):\n",
    "            TN, FP, FN, TP = cm.ravel()\n",
    "        else:\n",
    "            TN, FP, FN, TP = 0, 0, 0, 0\n",
    "        \n",
    "        results = {\n",
    "            \"accuracy\": acc,\n",
    "            \"balanced_accuracy\": balanced_acc,\n",
    "            \"precision\": precision,\n",
    "            \"recall\": recall,\n",
    "            \"aucroc\": aucroc,\n",
    "            \"TP\": TP,\n",
    "            \"FP\": FP,\n",
    "            \"FN\": FN,\n",
    "            \"TN\": TN,\n",
    "            \"predictions\": predicted_labels,\n",
    "            \"probabilities\": predicted_probs\n",
    "        }\n",
    "        \n",
    "        print(\"Evaluation results:\")\n",
    "        print(f\"Accuracy: {acc:.4f}\")\n",
    "        print(f\"Balanced Accuracy: {balanced_acc:.4f}\")\n",
    "        print(f\"Precision (hate): {precision:.4f}\")\n",
    "        print(f\"Recall (hate): {recall:.4f}\")\n",
    "        print(f\"AUC-ROC: {aucroc:.4f}\")\n",
    "        print(f\"Confusion Matrix: [TP={TP}, FP={FP}, FN={FN}, TN={TN}]\")\n",
    "        \n",
    "        return {\n",
    "            \"results\": results,\n",
    "            \"model_name\": model_info.get('model_path', '').split('/')[-1]\n",
    "        }\n",
    "        \n",
    "    except Exception as e:\n",
    "        print(f\"Error evaluating model: {str(e)}\")\n",
    "        import traceback\n",
    "        traceback.print_exc()\n",
    "        return {\n",
    "            \"results\": None,\n",
    "            \"error\": str(e),\n",
    "            \"model_name\": model_info.get('model_path', '').split('/')[-1]\n",
    "        }"
   ]
  },
  {
   "cell_type": "code",
   "execution_count": 20,
   "id": "1ebfdd16",
   "metadata": {},
   "outputs": [
    {
     "name": "stdout",
     "output_type": "stream",
     "text": [
      "\n",
      "Evaluating model for k100...\n",
      "\n",
      "Directly evaluating model from models_knn/ModernBERT-k100-final...\n",
      "Evaluation results:\n",
      "Accuracy: 0.6647\n",
      "Balanced Accuracy: 0.7491\n",
      "Precision (hate): 0.3710\n",
      "Recall (hate): 0.8932\n",
      "AUC-ROC: 0.8281\n",
      "Confusion Matrix: [TP=184, FP=312, FN=22, TN=478]\n",
      "\n",
      "Evaluating model for k1000...\n",
      "\n",
      "Directly evaluating model from models_knn/ModernBERT-k1000-final...\n",
      "Evaluation results:\n",
      "Accuracy: 0.6606\n",
      "Balanced Accuracy: 0.7538\n",
      "Precision (hate): 0.3701\n",
      "Recall (hate): 0.9126\n",
      "AUC-ROC: 0.8340\n",
      "Confusion Matrix: [TP=188, FP=320, FN=18, TN=470]\n",
      "\n",
      "Evaluating model for k10000...\n",
      "\n",
      "Directly evaluating model from models_knn/ModernBERT-k10000-final...\n",
      "Evaluation results:\n",
      "Accuracy: 0.6747\n",
      "Balanced Accuracy: 0.7339\n",
      "Precision (hate): 0.3723\n",
      "Recall (hate): 0.8350\n",
      "AUC-ROC: 0.8148\n",
      "Confusion Matrix: [TP=172, FP=290, FN=34, TN=500]\n",
      "\n",
      "Evaluating model for k10000_balanced...\n",
      "\n",
      "Directly evaluating model from models_knn/ModernBERT-k10000_balanced-final...\n",
      "Evaluation results:\n",
      "Accuracy: 0.5422\n",
      "Balanced Accuracy: 0.7006\n",
      "Precision (hate): 0.3077\n",
      "Recall (hate): 0.9709\n",
      "AUC-ROC: 0.8286\n",
      "Confusion Matrix: [TP=200, FP=450, FN=6, TN=340]\n",
      "\n",
      "Evaluating model for k1000_balanced...\n",
      "\n",
      "Directly evaluating model from models_knn/ModernBERT-k1000_balanced-final...\n",
      "Evaluation results:\n",
      "Accuracy: 0.5442\n",
      "Balanced Accuracy: 0.6983\n",
      "Precision (hate): 0.3075\n",
      "Recall (hate): 0.9612\n",
      "AUC-ROC: 0.8406\n",
      "Confusion Matrix: [TP=198, FP=446, FN=8, TN=344]\n",
      "\n",
      "Evaluating model for k100_balanced...\n",
      "\n",
      "Directly evaluating model from models_knn/ModernBERT-k100_balanced-final...\n",
      "Evaluation results:\n",
      "Accuracy: 0.5080\n",
      "Balanced Accuracy: 0.6809\n",
      "Precision (hate): 0.2930\n",
      "Recall (hate): 0.9757\n",
      "AUC-ROC: 0.8301\n",
      "Confusion Matrix: [TP=201, FP=485, FN=5, TN=305]\n",
      "\n",
      "Evaluating model for k5...\n",
      "\n",
      "Directly evaluating model from models_knn/ModernBERT-k5-final...\n",
      "Evaluation results:\n",
      "Accuracy: 0.6255\n",
      "Balanced Accuracy: 0.7388\n",
      "Precision (hate): 0.3485\n",
      "Recall (hate): 0.9320\n",
      "AUC-ROC: 0.8347\n",
      "Confusion Matrix: [TP=192, FP=359, FN=14, TN=431]\n",
      "\n",
      "Evaluating model for k5_balanced...\n",
      "\n",
      "Directly evaluating model from models_knn/ModernBERT-k5_balanced-final...\n",
      "Evaluation results:\n",
      "Accuracy: 0.6797\n",
      "Balanced Accuracy: 0.7586\n",
      "Precision (hate): 0.3825\n",
      "Recall (hate): 0.8932\n",
      "AUC-ROC: 0.8317\n",
      "Confusion Matrix: [TP=184, FP=297, FN=22, TN=493]\n"
     ]
    }
   ],
   "source": [
    "# Run the direct evaluation on all models\n",
    "direct_evaluation_results = {}\n",
    "for dataset_name, model_info in trained_models.items():\n",
    "    print(f\"\\nEvaluating model for {dataset_name}...\")\n",
    "    direct_evaluation_results[dataset_name] = evaluate_model_direct(model_info, test_dict)"
   ]
  },
  {
   "cell_type": "code",
   "execution_count": 21,
   "id": "25530ed2",
   "metadata": {},
   "outputs": [
    {
     "name": "stdout",
     "output_type": "stream",
     "text": [
      "Model trained on k100 - Accuracy: 0.6647\n",
      "Model trained on k1000 - Accuracy: 0.6606\n",
      "Model trained on k10000 - Accuracy: 0.6747\n",
      "Model trained on k10000_balanced - Accuracy: 0.5422\n",
      "Model trained on k1000_balanced - Accuracy: 0.5442\n",
      "Model trained on k100_balanced - Accuracy: 0.5080\n",
      "Model trained on k5 - Accuracy: 0.6255\n",
      "Model trained on k5_balanced - Accuracy: 0.6797\n",
      "Model trained on k100 - Balanced Accuracy: 0.7491\n",
      "Model trained on k1000 - Balanced Accuracy: 0.7538\n",
      "Model trained on k10000 - Balanced Accuracy: 0.7339\n",
      "Model trained on k10000_balanced - Balanced Accuracy: 0.7006\n",
      "Model trained on k1000_balanced - Balanced Accuracy: 0.6983\n",
      "Model trained on k100_balanced - Balanced Accuracy: 0.6809\n",
      "Model trained on k5 - Balanced Accuracy: 0.7388\n",
      "Model trained on k5_balanced - Balanced Accuracy: 0.7586\n",
      "\n",
      "Best model by balanced accuracy: k5_balanced with score 0.7586\n",
      "Model trained on k100 - AUC-ROC: 0.8281\n",
      "Model trained on k1000 - AUC-ROC: 0.8340\n",
      "Model trained on k10000 - AUC-ROC: 0.8148\n",
      "Model trained on k10000_balanced - AUC-ROC: 0.8286\n",
      "Model trained on k1000_balanced - AUC-ROC: 0.8406\n",
      "Model trained on k100_balanced - AUC-ROC: 0.8301\n",
      "Model trained on k5 - AUC-ROC: 0.8347\n",
      "Model trained on k5_balanced - AUC-ROC: 0.8317\n",
      "\n",
      "Best model by AUC-ROC: k1000_balanced with score 0.8406\n",
      "\n",
      "Best model information saved to models_knn/best_model_info_direct.txt\n"
     ]
    }
   ],
   "source": [
    "model_accuracies = {}\n",
    "for dataset_name, eval_result in direct_evaluation_results.items():\n",
    "    if eval_result.get('results') is not None:\n",
    "        accuracy = eval_result['results'].get('accuracy', 0)\n",
    "        model_accuracies[dataset_name] = accuracy\n",
    "        print(f\"Model trained on {dataset_name} - Accuracy: {accuracy:.4f}\")\n",
    "    else:\n",
    "        print(f\"Model trained on {dataset_name} - Evaluation failed\")\n",
    "\n",
    "# Determine the best model using balanced accuracy\n",
    "if model_accuracies:\n",
    "    # Use balanced accuracy instead of regular accuracy\n",
    "    balanced_accuracies = {}\n",
    "    for dataset_name, eval_result in direct_evaluation_results.items():\n",
    "        if eval_result.get('results') is not None:\n",
    "            balanced_accuracy = eval_result['results'].get('balanced_accuracy', 0)\n",
    "            balanced_accuracies[dataset_name] = balanced_accuracy\n",
    "            print(f\"Model trained on {dataset_name} - Balanced Accuracy: {balanced_accuracy:.4f}\")\n",
    "    \n",
    "    best_model = max(balanced_accuracies.items(), key=lambda x: x[1])\n",
    "    print(f\"\\nBest model by balanced accuracy: {best_model[0]} with score {best_model[1]:.4f}\")\n",
    "    \n",
    "    # Also find best model by AUCROC\n",
    "    aucroc_scores = {}\n",
    "    for dataset_name, eval_result in direct_evaluation_results.items():\n",
    "        if eval_result.get('results') is not None:\n",
    "            aucroc = eval_result['results'].get('aucroc', 0)\n",
    "            aucroc_scores[dataset_name] = aucroc\n",
    "            print(f\"Model trained on {dataset_name} - AUC-ROC: {aucroc:.4f}\")\n",
    "    \n",
    "    best_model_aucroc = max(aucroc_scores.items(), key=lambda x: x[1])\n",
    "    print(f\"\\nBest model by AUC-ROC: {best_model_aucroc[0]} with score {best_model_aucroc[1]:.4f}\")\n",
    "    \n",
    "# Save the best model information to a file\n",
    "if 'best_model' in locals() and best_model[1] > 0:\n",
    "    with open('models_knn/best_model_info_direct.txt', 'w') as f:\n",
    "        f.write(f\"Best model: {best_model[0]}\\n\")\n",
    "        f.write(f\"Accuracy: {best_model[1]:.4f}\\n\")\n",
    "        f.write(f\"Model path: {trained_models[best_model[0]]['model_path']}\\n\")\n",
    "        f.write(f\"Tokenizer path: {trained_models[best_model[0]]['tokenizer_path']}\\n\")\n",
    "    \n",
    "    print(f\"\\nBest model information saved to models_knn/best_model_info_direct.txt\")"
   ]
  },
  {
   "cell_type": "markdown",
   "id": "6d244cde",
   "metadata": {},
   "source": [
    "## Visualize Direct Evaluation Results\n",
    "\n",
    "Let's create visualizations for the direct evaluation results."
   ]
  },
  {
   "cell_type": "code",
   "execution_count": 22,
   "id": "7833a29e",
   "metadata": {},
   "outputs": [
    {
     "name": "stdout",
     "output_type": "stream",
     "text": [
      "             Model  Accuracy  Balanced_Accuracy  Precision    Recall   AUC_ROC\n",
      "0             k100  0.664659           0.749134   0.370968  0.893204  0.828094\n",
      "1            k1000  0.660643           0.753779   0.370079  0.912621  0.833993\n",
      "2           k10000  0.674699           0.733931   0.372294  0.834951  0.814760\n",
      "3  k10000_balanced  0.542169           0.700627   0.307692  0.970874  0.828567\n",
      "4   k1000_balanced  0.544177           0.698304   0.307453  0.961165  0.840645\n",
      "5    k100_balanced  0.508032           0.680902   0.293003  0.975728  0.830143\n",
      "6               k5  0.625502           0.738804   0.348457  0.932039  0.834733\n",
      "7      k5_balanced  0.679719           0.758627   0.382536  0.893204  0.831676\n"
     ]
    }
   ],
   "source": [
    "# Create a dataframe with the updated evaluation metrics\n",
    "metrics_df_direct = pd.DataFrame({\n",
    "    'Model': [],\n",
    "    'Accuracy': [],\n",
    "    'Balanced_Accuracy': [],\n",
    "    'Precision': [],\n",
    "    'Recall': [],\n",
    "    'AUC_ROC': []\n",
    "})\n",
    "\n",
    "for dataset_name, eval_result in direct_evaluation_results.items():\n",
    "    if eval_result.get('results') is not None:\n",
    "        results = eval_result['results']\n",
    "        metrics_df_direct = pd.concat([metrics_df_direct, pd.DataFrame({\n",
    "            'Model': [dataset_name],\n",
    "            'Accuracy': [results.get('accuracy', 0)],\n",
    "            'Balanced_Accuracy': [results.get('balanced_accuracy', 0)],\n",
    "            'Precision': [results.get('precision', 0)],\n",
    "            'Recall': [results.get('recall', 0)],\n",
    "            'AUC_ROC': [results.get('aucroc', 0)]\n",
    "        })])\n",
    "\n",
    "metrics_df_direct.reset_index(drop=True, inplace=True)\n",
    "print(metrics_df_direct)"
   ]
  },
  {
   "cell_type": "code",
   "execution_count": 23,
   "id": "1009bdbc",
   "metadata": {},
   "outputs": [
    {
     "data": {
      "image/png": "[encoded data removed]",
      "text/plain": [
       "<Figure size 1400x800 with 1 Axes>"
      ]
     },
     "metadata": {},
     "output_type": "display_data"
    }
   ],
   "source": [
    "import matplotlib.pyplot as plt\n",
    "\n",
    "if not metrics_df_direct.empty:\n",
    "    plt.figure(figsize=(14, 8))\n",
    "    \n",
    "    metric_columns = ['Accuracy', 'Balanced_Accuracy', 'Precision', 'Recall', 'AUC_ROC']\n",
    "    x = np.arange(len(metrics_df_direct['Model']))\n",
    "    width = 0.16  # Narrower bars to fit all metrics\n",
    "    \n",
    "    for i, metric in enumerate(metric_columns):\n",
    "        plt.bar(x + i*width - 0.32, metrics_df_direct[metric], width, label=metric)\n",
    "    \n",
    "    plt.ylabel('Score')\n",
    "    plt.xlabel('Models')\n",
    "    plt.title('Performance Metrics by Model (Direct Evaluation)')\n",
    "    plt.xticks(x + width/2, metrics_df_direct['Model'], rotation=45)\n",
    "    plt.ylim(0, 1.0)\n",
    "    plt.legend(loc='best')\n",
    "    plt.tight_layout()\n",
    "    plt.grid(axis='y', linestyle='--', alpha=0.7)\n",
    "    \n",
    "    plt.savefig('models_knn/model_comparison_metrics_direct.png', dpi=300, bbox_inches='tight')\n",
    "    plt.show()\n",
    "else:\n",
    "    print(\"No metrics data available for plotting.\")"
   ]
  },
  {
   "cell_type": "code",
   "execution_count": 25,
   "id": "017cc62c",
   "metadata": {},
   "outputs": [
    {
     "data": {
      "image/png": "[encoded data removed]",
      "text/plain": [
       "<Figure size 1500x2000 with 8 Axes>"
      ]
     },
     "metadata": {},
     "output_type": "display_data"
    }
   ],
   "source": [
    "import matplotlib.pyplot as plt\n",
    "import seaborn as sns\n",
    "import numpy as np\n",
    "\n",
    "# Create confusion matrices for each model using direct evaluation\n",
    "if not metrics_df_direct.empty:\n",
    "\n",
    "    num_models = len(metrics_df_direct)\n",
    "    if num_models <= 2:\n",
    "        nrows, ncols = 1, num_models\n",
    "    else:\n",
    "        nrows = (num_models + 1) // 2  \n",
    "        ncols = 2\n",
    "    \n",
    "    fig, axes = plt.subplots(nrows=nrows, ncols=ncols, figsize=(15, 5*nrows))\n",
    "    \n",
    "    # Handle the case of a single subplot\n",
    "    if num_models == 1:\n",
    "        axes = np.array([axes])\n",
    "    elif nrows == 1 and ncols > 1:\n",
    "        axes = axes\n",
    "    else:\n",
    "        axes = axes.flatten()\n",
    "    \n",
    "    for i, (dataset_name, eval_result) in enumerate(direct_evaluation_results.items()):\n",
    "        if eval_result.get('results') is None:\n",
    "            continue\n",
    "        \n",
    "        results = eval_result['results']\n",
    "        \n",
    "        # Extract confusion matrix values\n",
    "        TP = results.get('TP', 0)\n",
    "        FP = results.get('FP', 0)\n",
    "        FN = results.get('FN', 0)\n",
    "        TN = results.get('TN', 0)\n",
    "        \n",
    "        # Create confusion matrix\n",
    "        cm = np.array([[TN, FP], [FN, TP]])\n",
    "        \n",
    "        # Calculate total samples for percentage calculation\n",
    "        total = TN + FP + FN + TP\n",
    "        \n",
    "        # Create a string representation with count and percentage\n",
    "        cm_text = np.array([[f\"{TN}\\n({TN/total:.1%})\", f\"{FP}\\n({FP/total:.1%})\"], \n",
    "                           [f\"{FN}\\n({FN/total:.1%})\", f\"{TP}\\n({TP/total:.1%})\"]])\n",
    "        \n",
    "        # Plot confusion matrix with custom annotations\n",
    "        sns.heatmap(cm, annot=cm_text, fmt=\"\", cmap='Blues', cbar=False, ax=axes[i])\n",
    "        axes[i].set_title(f'Confusion Matrix - {dataset_name}')\n",
    "        axes[i].set_xlabel('Predicted Label')\n",
    "        axes[i].set_ylabel('True Label')\n",
    "        axes[i].set_xticklabels(['No Hate', 'Hate'])\n",
    "        axes[i].set_yticklabels(['No Hate', 'Hate'])\n",
    "    \n",
    "    for j in range(i+1, nrows*ncols):\n",
    "        fig.delaxes(axes[j])\n",
    "    \n",
    "    plt.tight_layout()\n",
    "    plt.savefig('models_knn/model_confusion_matrices_direct_with_percent.png', dpi=300, bbox_inches='tight')\n",
    "    plt.show()\n",
    "else:\n",
    "    print(\"No metrics data available for confusion matrices.\")"
   ]
  }
 ],
 "metadata": {
  "kernelspec": {
   "display_name": "llama_ssl",
   "language": "python",
   "name": "python3"
  },
  "language_info": {
   "codemirror_mode": {
    "name": "ipython",
    "version": 3
   },
   "file_extension": ".py",
   "mimetype": "text/x-python",
   "name": "python",
   "nbconvert_exporter": "python",
   "pygments_lexer": "ipython3",
   "version": "3.10.15"
  }
 },
 "nbformat": 4,
 "nbformat_minor": 5
}
