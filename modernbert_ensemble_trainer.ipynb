{
 "cells": [
  {
   "cell_type": "markdown",
   "id": "036f26dc",
   "metadata": {},
   "source": [
    "# ModernBERT Ensemble Model Training\n",
    "\n",
    "This notebook implements an ensemble approach for hate speech detection, where each individual model is trained on a specific identity term dataset. The ensemble combines predictions using different voting mechanisms, including majority voting and weighted averaging."
   ]
  },
  {
   "cell_type": "code",
   "execution_count": 1,
   "id": "305b8b33",
   "metadata": {},
   "outputs": [],
   "source": [
    "import os\n",
    "import pandas as pd\n",
    "import numpy as np\n",
    "import torch\n",
    "from datasets import Dataset, DatasetDict\n",
    "from sklearn.metrics import f1_score, roc_auc_score, accuracy_score, precision_recall_fscore_support, confusion_matrix, balanced_accuracy_score\n",
    "from transformers import AutoTokenizer, AutoModelForSequenceClassification\n",
    "from transformers import Trainer, TrainingArguments, EarlyStoppingCallback\n",
    "from transformers import pipeline\n",
    "from checklist.pred_wrapper import PredictorWrapper\n",
    "from checklist.test_types import MFT\n",
    "import matplotlib.pyplot as plt\n",
    "import seaborn as sns\n",
    "from tqdm.notebook import tqdm\n",
    "\n",
    "import dataHandler as dh"
   ]
  },
  {
   "cell_type": "markdown",
   "id": "2ccba1e7",
   "metadata": {},
   "source": [
    "## 1. Setup Environment and Global Variables"
   ]
  },
  {
   "cell_type": "code",
   "execution_count": 2,
   "id": "30fd41fc",
   "metadata": {},
   "outputs": [
    {
     "name": "stdout",
     "output_type": "stream",
     "text": [
      "Using device: cuda\n"
     ]
    }
   ],
   "source": [
    "# Check for GPU availability\n",
    "device = torch.device('cuda' if torch.cuda.is_available() else 'cpu')\n",
    "print(f\"Using device: {device}\")\n",
    "\n",
    "# Base model ID for ModernBERT\n",
    "model_id = \"answerdotai/ModernBERT-base\"\n",
    "\n",
    "# Load the ModernBERT tokenizer\n",
    "tokenizer = AutoTokenizer.from_pretrained(model_id)\n",
    "\n",
    "# Path to store ensemble models\n",
    "ensemble_models_dir = \"modernbert_ensemble\"\n",
    "os.makedirs(ensemble_models_dir, exist_ok=True)"
   ]
  },
  {
   "cell_type": "markdown",
   "id": "c2a82877",
   "metadata": {},
   "source": [
    "## 2. Prepare Individual Datasets by Identity Term"
   ]
  },
  {
   "cell_type": "code",
   "execution_count": 6,
   "id": "8b576e68",
   "metadata": {},
   "outputs": [
    {
     "name": "stdout",
     "output_type": "stream",
     "text": [
      "Identity terms to be used for individual models: ['asian', 'black', 'chinese', 'jewish', 'latino', 'lgbtq', 'mental_dis', 'mexican', 'middle_east', 'muslim', 'native_american', 'physical_dis', 'women']\n"
     ]
    }
   ],
   "source": [
    "# Get the list of identity terms\n",
    "id_terms = dh.getListOfIdTerms()[:-1]\n",
    "print(f\"Identity terms to be used for individual models: {id_terms}\")\n",
    "\n",
    "# Function to tokenize dataset\n",
    "def tokenize(batch):\n",
    "    return tokenizer(batch['text'], padding='max_length', truncation=True, return_tensors=\"pt\", max_length=140)\n",
    "\n",
    "# Function to prepare dataset for a specific identity term\n",
    "def prepare_id_term_dataset(id_term, test_size=0.2):\n",
    "    print(f\"Preparing dataset for identity term: {id_term}\")\n",
    "    \n",
    "    # Get dataset for this identity term\n",
    "    dataset = dh.toxigenDataset(id_term, test_size=test_size)\n",
    "    \n",
    "    # Rename label column to labels for compatibility with Trainer\n",
    "    if \"label\" in dataset[\"train\"].features.keys():\n",
    "        dataset = dataset.rename_column(\"label\", \"labels\")\n",
    "    \n",
    "    # Tokenize the dataset\n",
    "    tokenized_dataset = dataset.map(tokenize, batched=True, remove_columns=[\"text\"])\n",
    "    \n",
    "    print(f\"  Train set size: {len(tokenized_dataset['train'])} samples\")\n",
    "    print(f\"  Test set size: {len(tokenized_dataset['test'])} samples\")\n",
    "    \n",
    "    return tokenized_dataset"
   ]
  },
  {
   "cell_type": "code",
   "execution_count": 6,
   "id": "009684a5",
   "metadata": {},
   "outputs": [
    {
     "name": "stdout",
     "output_type": "stream",
     "text": [
      "Preparing dataset for identity term: asian\n"
     ]
    },
    {
     "data": {
      "application/vnd.jupyter.widget-view+json": {
       "model_id": "2759ea9990814ed792381d74c4e8523a",
       "version_major": 2,
       "version_minor": 0
      },
      "text/plain": [
       "Map:   0%|          | 0/15907 [00:00<?, ? examples/s]"
      ]
     },
     "metadata": {},
     "output_type": "display_data"
    },
    {
     "data": {
      "application/vnd.jupyter.widget-view+json": {
       "model_id": "92205ce1f0a4464791dd16e23b0c3411",
       "version_major": 2,
       "version_minor": 0
      },
      "text/plain": [
       "Map:   0%|          | 0/3977 [00:00<?, ? examples/s]"
      ]
     },
     "metadata": {},
     "output_type": "display_data"
    },
    {
     "name": "stdout",
     "output_type": "stream",
     "text": [
      "  Train set size: 15907 samples\n",
      "  Test set size: 3977 samples\n",
      "Preparing dataset for identity term: black\n"
     ]
    },
    {
     "data": {
      "application/vnd.jupyter.widget-view+json": {
       "model_id": "b146718eab4f4214aaf39e73fa6cced1",
       "version_major": 2,
       "version_minor": 0
      },
      "text/plain": [
       "Map:   0%|          | 0/15902 [00:00<?, ? examples/s]"
      ]
     },
     "metadata": {},
     "output_type": "display_data"
    },
    {
     "data": {
      "application/vnd.jupyter.widget-view+json": {
       "model_id": "b0151ee1c12c40b38e62559061357583",
       "version_major": 2,
       "version_minor": 0
      },
      "text/plain": [
       "Map:   0%|          | 0/3976 [00:00<?, ? examples/s]"
      ]
     },
     "metadata": {},
     "output_type": "display_data"
    },
    {
     "name": "stdout",
     "output_type": "stream",
     "text": [
      "  Train set size: 15902 samples\n",
      "  Test set size: 3976 samples\n",
      "Preparing dataset for identity term: chinese\n"
     ]
    },
    {
     "data": {
      "application/vnd.jupyter.widget-view+json": {
       "model_id": "1ac4c25dcd3b471da3cab8c3a51ae64c",
       "version_major": 2,
       "version_minor": 0
      },
      "text/plain": [
       "Map:   0%|          | 0/15247 [00:00<?, ? examples/s]"
      ]
     },
     "metadata": {},
     "output_type": "display_data"
    },
    {
     "data": {
      "application/vnd.jupyter.widget-view+json": {
       "model_id": "c3147933add44774a2103919140eae95",
       "version_major": 2,
       "version_minor": 0
      },
      "text/plain": [
       "Map:   0%|          | 0/3812 [00:00<?, ? examples/s]"
      ]
     },
     "metadata": {},
     "output_type": "display_data"
    },
    {
     "name": "stdout",
     "output_type": "stream",
     "text": [
      "  Train set size: 15247 samples\n",
      "  Test set size: 3812 samples\n",
      "Preparing dataset for identity term: jewish\n"
     ]
    },
    {
     "data": {
      "application/vnd.jupyter.widget-view+json": {
       "model_id": "bb85cafbacff425ea03d4e658e647284",
       "version_major": 2,
       "version_minor": 0
      },
      "text/plain": [
       "Map:   0%|          | 0/15634 [00:00<?, ? examples/s]"
      ]
     },
     "metadata": {},
     "output_type": "display_data"
    },
    {
     "data": {
      "application/vnd.jupyter.widget-view+json": {
       "model_id": "3626be7a1ab54d0b992e34905654c256",
       "version_major": 2,
       "version_minor": 0
      },
      "text/plain": [
       "Map:   0%|          | 0/3908 [00:00<?, ? examples/s]"
      ]
     },
     "metadata": {},
     "output_type": "display_data"
    },
    {
     "name": "stdout",
     "output_type": "stream",
     "text": [
      "  Train set size: 15634 samples\n",
      "  Test set size: 3908 samples\n",
      "Preparing dataset for identity term: latino\n"
     ]
    },
    {
     "data": {
      "application/vnd.jupyter.widget-view+json": {
       "model_id": "416cd9bfddf2469ea3e70439bd3daf6d",
       "version_major": 2,
       "version_minor": 0
      },
      "text/plain": [
       "Map:   0%|          | 0/14836 [00:00<?, ? examples/s]"
      ]
     },
     "metadata": {},
     "output_type": "display_data"
    },
    {
     "data": {
      "application/vnd.jupyter.widget-view+json": {
       "model_id": "b1b94eb609ed4dd4a0a7d54bfe5f426e",
       "version_major": 2,
       "version_minor": 0
      },
      "text/plain": [
       "Map:   0%|          | 0/3709 [00:00<?, ? examples/s]"
      ]
     },
     "metadata": {},
     "output_type": "display_data"
    },
    {
     "name": "stdout",
     "output_type": "stream",
     "text": [
      "  Train set size: 14836 samples\n",
      "  Test set size: 3709 samples\n",
      "Preparing dataset for identity term: lgbtq\n"
     ]
    },
    {
     "data": {
      "application/vnd.jupyter.widget-view+json": {
       "model_id": "4e5f763d06104b2fac66fb9ba2c183ec",
       "version_major": 2,
       "version_minor": 0
      },
      "text/plain": [
       "Map:   0%|          | 0/16756 [00:00<?, ? examples/s]"
      ]
     },
     "metadata": {},
     "output_type": "display_data"
    },
    {
     "data": {
      "application/vnd.jupyter.widget-view+json": {
       "model_id": "9ad32e83e04c49d8b96a9e86950bc5b9",
       "version_major": 2,
       "version_minor": 0
      },
      "text/plain": [
       "Map:   0%|          | 0/4189 [00:00<?, ? examples/s]"
      ]
     },
     "metadata": {},
     "output_type": "display_data"
    },
    {
     "name": "stdout",
     "output_type": "stream",
     "text": [
      "  Train set size: 16756 samples\n",
      "  Test set size: 4189 samples\n",
      "Preparing dataset for identity term: mental_dis\n"
     ]
    },
    {
     "data": {
      "application/vnd.jupyter.widget-view+json": {
       "model_id": "8049f4daebad4a4ead77d4ed06910008",
       "version_major": 2,
       "version_minor": 0
      },
      "text/plain": [
       "Map:   0%|          | 0/14927 [00:00<?, ? examples/s]"
      ]
     },
     "metadata": {},
     "output_type": "display_data"
    },
    {
     "data": {
      "application/vnd.jupyter.widget-view+json": {
       "model_id": "1fe5e57c609845379d55c53ea9215989",
       "version_major": 2,
       "version_minor": 0
      },
      "text/plain": [
       "Map:   0%|          | 0/3732 [00:00<?, ? examples/s]"
      ]
     },
     "metadata": {},
     "output_type": "display_data"
    },
    {
     "name": "stdout",
     "output_type": "stream",
     "text": [
      "  Train set size: 14927 samples\n",
      "  Test set size: 3732 samples\n",
      "Preparing dataset for identity term: mexican\n"
     ]
    },
    {
     "data": {
      "application/vnd.jupyter.widget-view+json": {
       "model_id": "53fca45dafb84abeb95e1f92863616b8",
       "version_major": 2,
       "version_minor": 0
      },
      "text/plain": [
       "Map:   0%|          | 0/16283 [00:00<?, ? examples/s]"
      ]
     },
     "metadata": {},
     "output_type": "display_data"
    },
    {
     "data": {
      "application/vnd.jupyter.widget-view+json": {
       "model_id": "10303c6e75834b969283a11d9e9027de",
       "version_major": 2,
       "version_minor": 0
      },
      "text/plain": [
       "Map:   0%|          | 0/4070 [00:00<?, ? examples/s]"
      ]
     },
     "metadata": {},
     "output_type": "display_data"
    },
    {
     "name": "stdout",
     "output_type": "stream",
     "text": [
      "  Train set size: 16283 samples\n",
      "  Test set size: 4070 samples\n",
      "Preparing dataset for identity term: middle_east\n"
     ]
    },
    {
     "data": {
      "application/vnd.jupyter.widget-view+json": {
       "model_id": "9e2f9f707b8d4cbd8f869be8eaf62104",
       "version_major": 2,
       "version_minor": 0
      },
      "text/plain": [
       "Map:   0%|          | 0/16237 [00:00<?, ? examples/s]"
      ]
     },
     "metadata": {},
     "output_type": "display_data"
    },
    {
     "data": {
      "application/vnd.jupyter.widget-view+json": {
       "model_id": "5bb09f70f1224b0bb9b698e59dee9d7e",
       "version_major": 2,
       "version_minor": 0
      },
      "text/plain": [
       "Map:   0%|          | 0/4060 [00:00<?, ? examples/s]"
      ]
     },
     "metadata": {},
     "output_type": "display_data"
    },
    {
     "name": "stdout",
     "output_type": "stream",
     "text": [
      "  Train set size: 16237 samples\n",
      "  Test set size: 4060 samples\n",
      "Preparing dataset for identity term: muslim\n"
     ]
    },
    {
     "data": {
      "application/vnd.jupyter.widget-view+json": {
       "model_id": "e6be948df9404ebbb37417d1559df2fa",
       "version_major": 2,
       "version_minor": 0
      },
      "text/plain": [
       "Map:   0%|          | 0/15884 [00:00<?, ? examples/s]"
      ]
     },
     "metadata": {},
     "output_type": "display_data"
    },
    {
     "data": {
      "application/vnd.jupyter.widget-view+json": {
       "model_id": "ebb920faae8d4164909892cf33b71254",
       "version_major": 2,
       "version_minor": 0
      },
      "text/plain": [
       "Map:   0%|          | 0/3971 [00:00<?, ? examples/s]"
      ]
     },
     "metadata": {},
     "output_type": "display_data"
    },
    {
     "name": "stdout",
     "output_type": "stream",
     "text": [
      "  Train set size: 15884 samples\n",
      "  Test set size: 3971 samples\n",
      "Preparing dataset for identity term: native_american\n"
     ]
    },
    {
     "data": {
      "application/vnd.jupyter.widget-view+json": {
       "model_id": "f1088734bff24ecfa749274b615cba23",
       "version_major": 2,
       "version_minor": 0
      },
      "text/plain": [
       "Map:   0%|          | 0/15488 [00:00<?, ? examples/s]"
      ]
     },
     "metadata": {},
     "output_type": "display_data"
    },
    {
     "data": {
      "application/vnd.jupyter.widget-view+json": {
       "model_id": "62628942b62a461f8351f5c34bb6664c",
       "version_major": 2,
       "version_minor": 0
      },
      "text/plain": [
       "Map:   0%|          | 0/3872 [00:00<?, ? examples/s]"
      ]
     },
     "metadata": {},
     "output_type": "display_data"
    },
    {
     "name": "stdout",
     "output_type": "stream",
     "text": [
      "  Train set size: 15488 samples\n",
      "  Test set size: 3872 samples\n",
      "Preparing dataset for identity term: physical_dis\n"
     ]
    },
    {
     "data": {
      "application/vnd.jupyter.widget-view+json": {
       "model_id": "f993b8b8f3084e90b91963b445953c9a",
       "version_major": 2,
       "version_minor": 0
      },
      "text/plain": [
       "Map:   0%|          | 0/12399 [00:00<?, ? examples/s]"
      ]
     },
     "metadata": {},
     "output_type": "display_data"
    },
    {
     "data": {
      "application/vnd.jupyter.widget-view+json": {
       "model_id": "95d1eecc57e64ff8a327eadef30bc338",
       "version_major": 2,
       "version_minor": 0
      },
      "text/plain": [
       "Map:   0%|          | 0/3100 [00:00<?, ? examples/s]"
      ]
     },
     "metadata": {},
     "output_type": "display_data"
    },
    {
     "name": "stdout",
     "output_type": "stream",
     "text": [
      "  Train set size: 12399 samples\n",
      "  Test set size: 3100 samples\n",
      "Preparing dataset for identity term: women\n"
     ]
    },
    {
     "data": {
      "application/vnd.jupyter.widget-view+json": {
       "model_id": "4a2122d3e79f4730814e8ea3cff1198b",
       "version_major": 2,
       "version_minor": 0
      },
      "text/plain": [
       "Map:   0%|          | 0/15260 [00:00<?, ? examples/s]"
      ]
     },
     "metadata": {},
     "output_type": "display_data"
    },
    {
     "data": {
      "application/vnd.jupyter.widget-view+json": {
       "model_id": "0b404383f0d3479e8556a1fbeaa0eaf0",
       "version_major": 2,
       "version_minor": 0
      },
      "text/plain": [
       "Map:   0%|          | 0/3815 [00:00<?, ? examples/s]"
      ]
     },
     "metadata": {},
     "output_type": "display_data"
    },
    {
     "name": "stdout",
     "output_type": "stream",
     "text": [
      "  Train set size: 15260 samples\n",
      "  Test set size: 3815 samples\n"
     ]
    }
   ],
   "source": [
    "# Prepare datasets for each identity term\n",
    "term_datasets = {}\n",
    "for term in id_terms:\n",
    "    term_datasets[term] = prepare_id_term_dataset(term)"
   ]
  },
  {
   "cell_type": "markdown",
   "id": "1940d089",
   "metadata": {},
   "source": [
    "## 3. Define Model Training Functions"
   ]
  },
  {
   "cell_type": "code",
   "execution_count": 7,
   "id": "244aaf0c",
   "metadata": {},
   "outputs": [],
   "source": [
    "# Metric helper method\n",
    "def compute_metrics(eval_pred):\n",
    "    predictions, labels = eval_pred\n",
    "    predictions = np.argmax(predictions, axis=1)\n",
    "    \n",
    "    probs = torch.nn.functional.softmax(torch.tensor(eval_pred.predictions), dim=-1)\n",
    "\n",
    "    try:\n",
    "        f1 = f1_score(labels, predictions, average=\"weighted\")\n",
    "        aucroc = roc_auc_score(labels, probs[:, 1].numpy())\n",
    "    except Exception as e:\n",
    "        print(f\"Error calculating metrics: {e}\")\n",
    "        f1 = 0.0\n",
    "        aucroc = 0.5\n",
    "    \n",
    "    return {\n",
    "        \"f1\": f1,\n",
    "        \"aucroc\": aucroc\n",
    "    }\n",
    "\n",
    "# Prepare model labels\n",
    "labels = [\"no hate\", \"hate\"]\n",
    "num_labels = len(labels)\n",
    "label2id, id2label = dict(), dict()\n",
    "for i, label in enumerate(labels):\n",
    "    label2id[label] = str(i)\n",
    "    id2label[str(i)] = label\n",
    "\n",
    "# Function to create a model\n",
    "def create_model():\n",
    "    model = AutoModelForSequenceClassification.from_pretrained(\n",
    "        model_id, num_labels=num_labels, label2id=label2id, id2label=id2label\n",
    "    )\n",
    "    return model\n",
    "\n",
    "# Function to train a model for a specific identity term\n",
    "def train_model_for_term(term, tokenized_dataset, epochs=3):\n",
    "    print(f\"\\nTraining model for identity term: {term}...\")\n",
    "    \n",
    "    model = create_model()\n",
    "    model.to(device)\n",
    "    \n",
    "    output_dir = f\"{ensemble_models_dir}/{term}-model\"\n",
    "    \n",
    "    # Define training arguments\n",
    "    training_args = TrainingArguments(\n",
    "        output_dir=output_dir,\n",
    "        per_device_train_batch_size=16,\n",
    "        per_device_eval_batch_size=32,\n",
    "        learning_rate=2e-5,\n",
    "        num_train_epochs=epochs,\n",
    "        warmup_ratio=0.1,\n",
    "        weight_decay=0.01,\n",
    "        bf16=torch.cuda.is_available(),\n",
    "        fp16=not torch.cuda.is_available() and hasattr(torch, 'has_mps'),\n",
    "        optim=\"adamw_torch_fused\" if torch.cuda.is_available() else \"adamw_torch\",\n",
    "        logging_strategy=\"steps\",\n",
    "        logging_steps=50,\n",
    "        eval_strategy=\"steps\",\n",
    "        eval_steps=100,\n",
    "        save_strategy=\"steps\",\n",
    "        save_steps=100,\n",
    "        save_total_limit=2,\n",
    "        load_best_model_at_end=True,\n",
    "        metric_for_best_model=\"f1\",\n",
    "        greater_is_better=True,\n",
    "        gradient_accumulation_steps=2,\n",
    "        report_to=\"tensorboard\",\n",
    "        lr_scheduler_type=\"cosine\",\n",
    "        seed=42\n",
    "    )\n",
    "    \n",
    "    # Early stopping callback\n",
    "    early_stopping_callback = EarlyStoppingCallback(\n",
    "        early_stopping_patience=3,\n",
    "        early_stopping_threshold=0.001\n",
    "    )\n",
    "    \n",
    "    # Create a Trainer instance\n",
    "    trainer = Trainer(\n",
    "        model=model,\n",
    "        args=training_args,\n",
    "        train_dataset=tokenized_dataset[\"train\"],\n",
    "        eval_dataset=tokenized_dataset[\"test\"],\n",
    "        compute_metrics=compute_metrics,\n",
    "        callbacks=[early_stopping_callback]\n",
    "    )\n",
    "    \n",
    "    # Train the model\n",
    "    trainer.train()\n",
    "    \n",
    "    # Save the model and tokenizer\n",
    "    model_path = f\"{ensemble_models_dir}/{term}-final\"\n",
    "    tokenizer_path = f\"{ensemble_models_dir}/{term}-tokenizer\"\n",
    "    model.save_pretrained(model_path)\n",
    "    tokenizer.save_pretrained(tokenizer_path)\n",
    "    \n",
    "    print(f\"Model for {term} saved to {model_path}\")\n",
    "    \n",
    "    return {\n",
    "        \"model_path\": model_path,\n",
    "        \"tokenizer_path\": tokenizer_path\n",
    "    }"
   ]
  },
  {
   "cell_type": "markdown",
   "id": "af2b2f0d",
   "metadata": {},
   "source": [
    "## 4. Train Individual Models for Each Identity Term"
   ]
  },
  {
   "cell_type": "code",
   "execution_count": 8,
   "id": "dc0566f2",
   "metadata": {},
   "outputs": [
    {
     "name": "stdout",
     "output_type": "stream",
     "text": [
      "\n",
      "Training model for identity term: asian...\n"
     ]
    },
    {
     "name": "stderr",
     "output_type": "stream",
     "text": [
      "Some weights of ModernBertForSequenceClassification were not initialized from the model checkpoint at answerdotai/ModernBERT-base and are newly initialized: ['classifier.bias', 'classifier.weight']\n",
      "You should probably TRAIN this model on a down-stream task to be able to use it for predictions and inference.\n"
     ]
    },
    {
     "data": {
      "text/html": [
       "\n",
       "    <div>\n",
       "      \n",
       "      <progress value='1400' max='1491' style='width:300px; height:20px; vertical-align: middle;'></progress>\n",
       "      [1400/1491 05:26 < 00:21, 4.28 it/s, Epoch 2/3]\n",
       "    </div>\n",
       "    <table border=\"1\" class=\"dataframe\">\n",
       "  <thead>\n",
       " <tr style=\"text-align: left;\">\n",
       "      <th>Step</th>\n",
       "      <th>Training Loss</th>\n",
       "      <th>Validation Loss</th>\n",
       "      <th>F1</th>\n",
       "      <th>Aucroc</th>\n",
       "    </tr>\n",
       "  </thead>\n",
       "  <tbody>\n",
       "    <tr>\n",
       "      <td>100</td>\n",
       "      <td>0.748500</td>\n",
       "      <td>0.360530</td>\n",
       "      <td>0.829420</td>\n",
       "      <td>0.903263</td>\n",
       "    </tr>\n",
       "    <tr>\n",
       "      <td>200</td>\n",
       "      <td>0.544700</td>\n",
       "      <td>0.283449</td>\n",
       "      <td>0.873079</td>\n",
       "      <td>0.939844</td>\n",
       "    </tr>\n",
       "    <tr>\n",
       "      <td>300</td>\n",
       "      <td>0.522200</td>\n",
       "      <td>0.258208</td>\n",
       "      <td>0.886346</td>\n",
       "      <td>0.948953</td>\n",
       "    </tr>\n",
       "    <tr>\n",
       "      <td>400</td>\n",
       "      <td>0.456100</td>\n",
       "      <td>0.246797</td>\n",
       "      <td>0.899618</td>\n",
       "      <td>0.956256</td>\n",
       "    </tr>\n",
       "    <tr>\n",
       "      <td>500</td>\n",
       "      <td>0.461700</td>\n",
       "      <td>0.260436</td>\n",
       "      <td>0.882647</td>\n",
       "      <td>0.959715</td>\n",
       "    </tr>\n",
       "    <tr>\n",
       "      <td>600</td>\n",
       "      <td>0.289900</td>\n",
       "      <td>0.243214</td>\n",
       "      <td>0.905300</td>\n",
       "      <td>0.963654</td>\n",
       "    </tr>\n",
       "    <tr>\n",
       "      <td>700</td>\n",
       "      <td>0.316600</td>\n",
       "      <td>0.221916</td>\n",
       "      <td>0.906664</td>\n",
       "      <td>0.965240</td>\n",
       "    </tr>\n",
       "    <tr>\n",
       "      <td>800</td>\n",
       "      <td>0.346600</td>\n",
       "      <td>0.239119</td>\n",
       "      <td>0.907871</td>\n",
       "      <td>0.967012</td>\n",
       "    </tr>\n",
       "    <tr>\n",
       "      <td>900</td>\n",
       "      <td>0.313900</td>\n",
       "      <td>0.216654</td>\n",
       "      <td>0.916760</td>\n",
       "      <td>0.968908</td>\n",
       "    </tr>\n",
       "    <tr>\n",
       "      <td>1000</td>\n",
       "      <td>0.262500</td>\n",
       "      <td>0.227710</td>\n",
       "      <td>0.914855</td>\n",
       "      <td>0.968106</td>\n",
       "    </tr>\n",
       "    <tr>\n",
       "      <td>1100</td>\n",
       "      <td>0.094700</td>\n",
       "      <td>0.333669</td>\n",
       "      <td>0.921290</td>\n",
       "      <td>0.968471</td>\n",
       "    </tr>\n",
       "    <tr>\n",
       "      <td>1200</td>\n",
       "      <td>0.093300</td>\n",
       "      <td>0.366766</td>\n",
       "      <td>0.915343</td>\n",
       "      <td>0.968592</td>\n",
       "    </tr>\n",
       "    <tr>\n",
       "      <td>1300</td>\n",
       "      <td>0.122400</td>\n",
       "      <td>0.371862</td>\n",
       "      <td>0.916362</td>\n",
       "      <td>0.968217</td>\n",
       "    </tr>\n",
       "    <tr>\n",
       "      <td>1400</td>\n",
       "      <td>0.088800</td>\n",
       "      <td>0.371595</td>\n",
       "      <td>0.915960</td>\n",
       "      <td>0.968266</td>\n",
       "    </tr>\n",
       "  </tbody>\n",
       "</table><p>"
      ],
      "text/plain": [
       "<IPython.core.display.HTML object>"
      ]
     },
     "metadata": {},
     "output_type": "display_data"
    },
    {
     "name": "stdout",
     "output_type": "stream",
     "text": [
      "Model for asian saved to modernbert_ensemble/asian-final\n",
      "\n",
      "Training model for identity term: black...\n"
     ]
    },
    {
     "name": "stderr",
     "output_type": "stream",
     "text": [
      "Some weights of ModernBertForSequenceClassification were not initialized from the model checkpoint at answerdotai/ModernBERT-base and are newly initialized: ['classifier.bias', 'classifier.weight']\n",
      "You should probably TRAIN this model on a down-stream task to be able to use it for predictions and inference.\n"
     ]
    },
    {
     "data": {
      "text/html": [
       "\n",
       "    <div>\n",
       "      \n",
       "      <progress value='900' max='1491' style='width:300px; height:20px; vertical-align: middle;'></progress>\n",
       "      [ 900/1491 03:31 < 02:18, 4.25 it/s, Epoch 1/3]\n",
       "    </div>\n",
       "    <table border=\"1\" class=\"dataframe\">\n",
       "  <thead>\n",
       " <tr style=\"text-align: left;\">\n",
       "      <th>Step</th>\n",
       "      <th>Training Loss</th>\n",
       "      <th>Validation Loss</th>\n",
       "      <th>F1</th>\n",
       "      <th>Aucroc</th>\n",
       "    </tr>\n",
       "  </thead>\n",
       "  <tbody>\n",
       "    <tr>\n",
       "      <td>100</td>\n",
       "      <td>0.784600</td>\n",
       "      <td>0.392759</td>\n",
       "      <td>0.832020</td>\n",
       "      <td>0.907766</td>\n",
       "    </tr>\n",
       "    <tr>\n",
       "      <td>200</td>\n",
       "      <td>0.581800</td>\n",
       "      <td>0.305620</td>\n",
       "      <td>0.870873</td>\n",
       "      <td>0.938561</td>\n",
       "    </tr>\n",
       "    <tr>\n",
       "      <td>300</td>\n",
       "      <td>0.565200</td>\n",
       "      <td>0.262362</td>\n",
       "      <td>0.885369</td>\n",
       "      <td>0.950068</td>\n",
       "    </tr>\n",
       "    <tr>\n",
       "      <td>400</td>\n",
       "      <td>0.498200</td>\n",
       "      <td>0.254413</td>\n",
       "      <td>0.881188</td>\n",
       "      <td>0.956481</td>\n",
       "    </tr>\n",
       "    <tr>\n",
       "      <td>500</td>\n",
       "      <td>0.425100</td>\n",
       "      <td>0.236011</td>\n",
       "      <td>0.898421</td>\n",
       "      <td>0.959694</td>\n",
       "    </tr>\n",
       "    <tr>\n",
       "      <td>600</td>\n",
       "      <td>0.288200</td>\n",
       "      <td>0.242714</td>\n",
       "      <td>0.911921</td>\n",
       "      <td>0.964246</td>\n",
       "    </tr>\n",
       "    <tr>\n",
       "      <td>700</td>\n",
       "      <td>0.329400</td>\n",
       "      <td>0.284407</td>\n",
       "      <td>0.898137</td>\n",
       "      <td>0.963483</td>\n",
       "    </tr>\n",
       "    <tr>\n",
       "      <td>800</td>\n",
       "      <td>0.249000</td>\n",
       "      <td>0.270655</td>\n",
       "      <td>0.904496</td>\n",
       "      <td>0.964222</td>\n",
       "    </tr>\n",
       "    <tr>\n",
       "      <td>900</td>\n",
       "      <td>0.278000</td>\n",
       "      <td>0.238162</td>\n",
       "      <td>0.906887</td>\n",
       "      <td>0.965577</td>\n",
       "    </tr>\n",
       "  </tbody>\n",
       "</table><p>"
      ],
      "text/plain": [
       "<IPython.core.display.HTML object>"
      ]
     },
     "metadata": {},
     "output_type": "display_data"
    },
    {
     "name": "stderr",
     "output_type": "stream",
     "text": [
      "Some weights of ModernBertForSequenceClassification were not initialized from the model checkpoint at answerdotai/ModernBERT-base and are newly initialized: ['classifier.bias', 'classifier.weight']\n",
      "You should probably TRAIN this model on a down-stream task to be able to use it for predictions and inference.\n"
     ]
    },
    {
     "name": "stdout",
     "output_type": "stream",
     "text": [
      "Model for black saved to modernbert_ensemble/black-final\n",
      "\n",
      "Training model for identity term: chinese...\n"
     ]
    },
    {
     "data": {
      "text/html": [
       "\n",
       "    <div>\n",
       "      \n",
       "      <progress value='1000' max='1428' style='width:300px; height:20px; vertical-align: middle;'></progress>\n",
       "      [1000/1428 03:50 < 01:38, 4.34 it/s, Epoch 2/3]\n",
       "    </div>\n",
       "    <table border=\"1\" class=\"dataframe\">\n",
       "  <thead>\n",
       " <tr style=\"text-align: left;\">\n",
       "      <th>Step</th>\n",
       "      <th>Training Loss</th>\n",
       "      <th>Validation Loss</th>\n",
       "      <th>F1</th>\n",
       "      <th>Aucroc</th>\n",
       "    </tr>\n",
       "  </thead>\n",
       "  <tbody>\n",
       "    <tr>\n",
       "      <td>100</td>\n",
       "      <td>0.796100</td>\n",
       "      <td>0.353649</td>\n",
       "      <td>0.826581</td>\n",
       "      <td>0.897232</td>\n",
       "    </tr>\n",
       "    <tr>\n",
       "      <td>200</td>\n",
       "      <td>0.640700</td>\n",
       "      <td>0.272257</td>\n",
       "      <td>0.878534</td>\n",
       "      <td>0.936988</td>\n",
       "    </tr>\n",
       "    <tr>\n",
       "      <td>300</td>\n",
       "      <td>0.578800</td>\n",
       "      <td>0.273773</td>\n",
       "      <td>0.881426</td>\n",
       "      <td>0.941978</td>\n",
       "    </tr>\n",
       "    <tr>\n",
       "      <td>400</td>\n",
       "      <td>0.489700</td>\n",
       "      <td>0.255119</td>\n",
       "      <td>0.888707</td>\n",
       "      <td>0.953426</td>\n",
       "    </tr>\n",
       "    <tr>\n",
       "      <td>500</td>\n",
       "      <td>0.377000</td>\n",
       "      <td>0.248222</td>\n",
       "      <td>0.902269</td>\n",
       "      <td>0.956497</td>\n",
       "    </tr>\n",
       "    <tr>\n",
       "      <td>600</td>\n",
       "      <td>0.283200</td>\n",
       "      <td>0.300485</td>\n",
       "      <td>0.901374</td>\n",
       "      <td>0.956845</td>\n",
       "    </tr>\n",
       "    <tr>\n",
       "      <td>700</td>\n",
       "      <td>0.288100</td>\n",
       "      <td>0.254805</td>\n",
       "      <td>0.906638</td>\n",
       "      <td>0.957403</td>\n",
       "    </tr>\n",
       "    <tr>\n",
       "      <td>800</td>\n",
       "      <td>0.261200</td>\n",
       "      <td>0.258502</td>\n",
       "      <td>0.901418</td>\n",
       "      <td>0.957740</td>\n",
       "    </tr>\n",
       "    <tr>\n",
       "      <td>900</td>\n",
       "      <td>0.261500</td>\n",
       "      <td>0.254184</td>\n",
       "      <td>0.902539</td>\n",
       "      <td>0.961100</td>\n",
       "    </tr>\n",
       "    <tr>\n",
       "      <td>1000</td>\n",
       "      <td>0.124400</td>\n",
       "      <td>0.310694</td>\n",
       "      <td>0.900519</td>\n",
       "      <td>0.960356</td>\n",
       "    </tr>\n",
       "  </tbody>\n",
       "</table><p>"
      ],
      "text/plain": [
       "<IPython.core.display.HTML object>"
      ]
     },
     "metadata": {},
     "output_type": "display_data"
    },
    {
     "name": "stdout",
     "output_type": "stream",
     "text": [
      "Model for chinese saved to modernbert_ensemble/chinese-final\n",
      "\n",
      "Training model for identity term: jewish...\n"
     ]
    },
    {
     "name": "stderr",
     "output_type": "stream",
     "text": [
      "Some weights of ModernBertForSequenceClassification were not initialized from the model checkpoint at answerdotai/ModernBERT-base and are newly initialized: ['classifier.bias', 'classifier.weight']\n",
      "You should probably TRAIN this model on a down-stream task to be able to use it for predictions and inference.\n"
     ]
    },
    {
     "data": {
      "text/html": [
       "\n",
       "    <div>\n",
       "      \n",
       "      <progress value='1300' max='1467' style='width:300px; height:20px; vertical-align: middle;'></progress>\n",
       "      [1300/1467 04:57 < 00:38, 4.36 it/s, Epoch 2/3]\n",
       "    </div>\n",
       "    <table border=\"1\" class=\"dataframe\">\n",
       "  <thead>\n",
       " <tr style=\"text-align: left;\">\n",
       "      <th>Step</th>\n",
       "      <th>Training Loss</th>\n",
       "      <th>Validation Loss</th>\n",
       "      <th>F1</th>\n",
       "      <th>Aucroc</th>\n",
       "    </tr>\n",
       "  </thead>\n",
       "  <tbody>\n",
       "    <tr>\n",
       "      <td>100</td>\n",
       "      <td>0.782200</td>\n",
       "      <td>0.376113</td>\n",
       "      <td>0.828628</td>\n",
       "      <td>0.907312</td>\n",
       "    </tr>\n",
       "    <tr>\n",
       "      <td>200</td>\n",
       "      <td>0.601800</td>\n",
       "      <td>0.310864</td>\n",
       "      <td>0.857786</td>\n",
       "      <td>0.930356</td>\n",
       "    </tr>\n",
       "    <tr>\n",
       "      <td>300</td>\n",
       "      <td>0.577900</td>\n",
       "      <td>0.268348</td>\n",
       "      <td>0.881691</td>\n",
       "      <td>0.948171</td>\n",
       "    </tr>\n",
       "    <tr>\n",
       "      <td>400</td>\n",
       "      <td>0.568900</td>\n",
       "      <td>0.279997</td>\n",
       "      <td>0.873532</td>\n",
       "      <td>0.953619</td>\n",
       "    </tr>\n",
       "    <tr>\n",
       "      <td>500</td>\n",
       "      <td>0.462700</td>\n",
       "      <td>0.239325</td>\n",
       "      <td>0.900823</td>\n",
       "      <td>0.960779</td>\n",
       "    </tr>\n",
       "    <tr>\n",
       "      <td>600</td>\n",
       "      <td>0.306200</td>\n",
       "      <td>0.269239</td>\n",
       "      <td>0.905391</td>\n",
       "      <td>0.962739</td>\n",
       "    </tr>\n",
       "    <tr>\n",
       "      <td>700</td>\n",
       "      <td>0.323600</td>\n",
       "      <td>0.251495</td>\n",
       "      <td>0.909612</td>\n",
       "      <td>0.962942</td>\n",
       "    </tr>\n",
       "    <tr>\n",
       "      <td>800</td>\n",
       "      <td>0.319000</td>\n",
       "      <td>0.245753</td>\n",
       "      <td>0.907775</td>\n",
       "      <td>0.964442</td>\n",
       "    </tr>\n",
       "    <tr>\n",
       "      <td>900</td>\n",
       "      <td>0.299100</td>\n",
       "      <td>0.235418</td>\n",
       "      <td>0.907975</td>\n",
       "      <td>0.965669</td>\n",
       "    </tr>\n",
       "    <tr>\n",
       "      <td>1000</td>\n",
       "      <td>0.223900</td>\n",
       "      <td>0.252167</td>\n",
       "      <td>0.912773</td>\n",
       "      <td>0.966637</td>\n",
       "    </tr>\n",
       "    <tr>\n",
       "      <td>1100</td>\n",
       "      <td>0.121900</td>\n",
       "      <td>0.372086</td>\n",
       "      <td>0.911345</td>\n",
       "      <td>0.966784</td>\n",
       "    </tr>\n",
       "    <tr>\n",
       "      <td>1200</td>\n",
       "      <td>0.108600</td>\n",
       "      <td>0.380515</td>\n",
       "      <td>0.909298</td>\n",
       "      <td>0.966456</td>\n",
       "    </tr>\n",
       "    <tr>\n",
       "      <td>1300</td>\n",
       "      <td>0.095800</td>\n",
       "      <td>0.392353</td>\n",
       "      <td>0.911258</td>\n",
       "      <td>0.966964</td>\n",
       "    </tr>\n",
       "  </tbody>\n",
       "</table><p>"
      ],
      "text/plain": [
       "<IPython.core.display.HTML object>"
      ]
     },
     "metadata": {},
     "output_type": "display_data"
    },
    {
     "name": "stdout",
     "output_type": "stream",
     "text": [
      "Model for jewish saved to modernbert_ensemble/jewish-final\n",
      "\n",
      "Training model for identity term: latino...\n"
     ]
    },
    {
     "name": "stderr",
     "output_type": "stream",
     "text": [
      "Some weights of ModernBertForSequenceClassification were not initialized from the model checkpoint at answerdotai/ModernBERT-base and are newly initialized: ['classifier.bias', 'classifier.weight']\n",
      "You should probably TRAIN this model on a down-stream task to be able to use it for predictions and inference.\n"
     ]
    },
    {
     "data": {
      "text/html": [
       "\n",
       "    <div>\n",
       "      \n",
       "      <progress value='1392' max='1392' style='width:300px; height:20px; vertical-align: middle;'></progress>\n",
       "      [1392/1392 05:17, Epoch 3/3]\n",
       "    </div>\n",
       "    <table border=\"1\" class=\"dataframe\">\n",
       "  <thead>\n",
       " <tr style=\"text-align: left;\">\n",
       "      <th>Step</th>\n",
       "      <th>Training Loss</th>\n",
       "      <th>Validation Loss</th>\n",
       "      <th>F1</th>\n",
       "      <th>Aucroc</th>\n",
       "    </tr>\n",
       "  </thead>\n",
       "  <tbody>\n",
       "    <tr>\n",
       "      <td>100</td>\n",
       "      <td>0.955700</td>\n",
       "      <td>0.453394</td>\n",
       "      <td>0.783988</td>\n",
       "      <td>0.842885</td>\n",
       "    </tr>\n",
       "    <tr>\n",
       "      <td>200</td>\n",
       "      <td>0.787400</td>\n",
       "      <td>0.378718</td>\n",
       "      <td>0.824537</td>\n",
       "      <td>0.891834</td>\n",
       "    </tr>\n",
       "    <tr>\n",
       "      <td>300</td>\n",
       "      <td>0.664900</td>\n",
       "      <td>0.317540</td>\n",
       "      <td>0.856186</td>\n",
       "      <td>0.929023</td>\n",
       "    </tr>\n",
       "    <tr>\n",
       "      <td>400</td>\n",
       "      <td>0.613300</td>\n",
       "      <td>0.297809</td>\n",
       "      <td>0.866673</td>\n",
       "      <td>0.938939</td>\n",
       "    </tr>\n",
       "    <tr>\n",
       "      <td>500</td>\n",
       "      <td>0.501900</td>\n",
       "      <td>0.309710</td>\n",
       "      <td>0.869989</td>\n",
       "      <td>0.942941</td>\n",
       "    </tr>\n",
       "    <tr>\n",
       "      <td>600</td>\n",
       "      <td>0.418500</td>\n",
       "      <td>0.316682</td>\n",
       "      <td>0.868720</td>\n",
       "      <td>0.945628</td>\n",
       "    </tr>\n",
       "    <tr>\n",
       "      <td>700</td>\n",
       "      <td>0.405800</td>\n",
       "      <td>0.294124</td>\n",
       "      <td>0.874513</td>\n",
       "      <td>0.945927</td>\n",
       "    </tr>\n",
       "    <tr>\n",
       "      <td>800</td>\n",
       "      <td>0.373500</td>\n",
       "      <td>0.294875</td>\n",
       "      <td>0.880993</td>\n",
       "      <td>0.950541</td>\n",
       "    </tr>\n",
       "    <tr>\n",
       "      <td>900</td>\n",
       "      <td>0.365300</td>\n",
       "      <td>0.304158</td>\n",
       "      <td>0.883540</td>\n",
       "      <td>0.948855</td>\n",
       "    </tr>\n",
       "    <tr>\n",
       "      <td>1000</td>\n",
       "      <td>0.153700</td>\n",
       "      <td>0.333674</td>\n",
       "      <td>0.886963</td>\n",
       "      <td>0.951296</td>\n",
       "    </tr>\n",
       "    <tr>\n",
       "      <td>1100</td>\n",
       "      <td>0.131100</td>\n",
       "      <td>0.438930</td>\n",
       "      <td>0.884066</td>\n",
       "      <td>0.948769</td>\n",
       "    </tr>\n",
       "    <tr>\n",
       "      <td>1200</td>\n",
       "      <td>0.178600</td>\n",
       "      <td>0.442494</td>\n",
       "      <td>0.888904</td>\n",
       "      <td>0.950202</td>\n",
       "    </tr>\n",
       "    <tr>\n",
       "      <td>1300</td>\n",
       "      <td>0.129200</td>\n",
       "      <td>0.455359</td>\n",
       "      <td>0.886884</td>\n",
       "      <td>0.949437</td>\n",
       "    </tr>\n",
       "  </tbody>\n",
       "</table><p>"
      ],
      "text/plain": [
       "<IPython.core.display.HTML object>"
      ]
     },
     "metadata": {},
     "output_type": "display_data"
    },
    {
     "name": "stdout",
     "output_type": "stream",
     "text": [
      "Model for latino saved to modernbert_ensemble/latino-final\n",
      "\n",
      "Training model for identity term: lgbtq...\n"
     ]
    },
    {
     "name": "stderr",
     "output_type": "stream",
     "text": [
      "Some weights of ModernBertForSequenceClassification were not initialized from the model checkpoint at answerdotai/ModernBERT-base and are newly initialized: ['classifier.bias', 'classifier.weight']\n",
      "You should probably TRAIN this model on a down-stream task to be able to use it for predictions and inference.\n"
     ]
    },
    {
     "data": {
      "text/html": [
       "\n",
       "    <div>\n",
       "      \n",
       "      <progress value='1572' max='1572' style='width:300px; height:20px; vertical-align: middle;'></progress>\n",
       "      [1572/1572 06:06, Epoch 3/3]\n",
       "    </div>\n",
       "    <table border=\"1\" class=\"dataframe\">\n",
       "  <thead>\n",
       " <tr style=\"text-align: left;\">\n",
       "      <th>Step</th>\n",
       "      <th>Training Loss</th>\n",
       "      <th>Validation Loss</th>\n",
       "      <th>F1</th>\n",
       "      <th>Aucroc</th>\n",
       "    </tr>\n",
       "  </thead>\n",
       "  <tbody>\n",
       "    <tr>\n",
       "      <td>100</td>\n",
       "      <td>0.833400</td>\n",
       "      <td>0.354124</td>\n",
       "      <td>0.829564</td>\n",
       "      <td>0.875153</td>\n",
       "    </tr>\n",
       "    <tr>\n",
       "      <td>200</td>\n",
       "      <td>0.638300</td>\n",
       "      <td>0.282652</td>\n",
       "      <td>0.867586</td>\n",
       "      <td>0.923743</td>\n",
       "    </tr>\n",
       "    <tr>\n",
       "      <td>300</td>\n",
       "      <td>0.570700</td>\n",
       "      <td>0.240785</td>\n",
       "      <td>0.894002</td>\n",
       "      <td>0.945462</td>\n",
       "    </tr>\n",
       "    <tr>\n",
       "      <td>400</td>\n",
       "      <td>0.503700</td>\n",
       "      <td>0.225661</td>\n",
       "      <td>0.891454</td>\n",
       "      <td>0.954173</td>\n",
       "    </tr>\n",
       "    <tr>\n",
       "      <td>500</td>\n",
       "      <td>0.448200</td>\n",
       "      <td>0.198382</td>\n",
       "      <td>0.910695</td>\n",
       "      <td>0.963319</td>\n",
       "    </tr>\n",
       "    <tr>\n",
       "      <td>600</td>\n",
       "      <td>0.323200</td>\n",
       "      <td>0.214983</td>\n",
       "      <td>0.908560</td>\n",
       "      <td>0.962696</td>\n",
       "    </tr>\n",
       "    <tr>\n",
       "      <td>700</td>\n",
       "      <td>0.310800</td>\n",
       "      <td>0.205544</td>\n",
       "      <td>0.917840</td>\n",
       "      <td>0.963757</td>\n",
       "    </tr>\n",
       "    <tr>\n",
       "      <td>800</td>\n",
       "      <td>0.319300</td>\n",
       "      <td>0.200902</td>\n",
       "      <td>0.916844</td>\n",
       "      <td>0.964843</td>\n",
       "    </tr>\n",
       "    <tr>\n",
       "      <td>900</td>\n",
       "      <td>0.290100</td>\n",
       "      <td>0.198634</td>\n",
       "      <td>0.918881</td>\n",
       "      <td>0.966767</td>\n",
       "    </tr>\n",
       "    <tr>\n",
       "      <td>1000</td>\n",
       "      <td>0.269400</td>\n",
       "      <td>0.202878</td>\n",
       "      <td>0.919308</td>\n",
       "      <td>0.968384</td>\n",
       "    </tr>\n",
       "    <tr>\n",
       "      <td>1100</td>\n",
       "      <td>0.105800</td>\n",
       "      <td>0.259926</td>\n",
       "      <td>0.917560</td>\n",
       "      <td>0.967243</td>\n",
       "    </tr>\n",
       "    <tr>\n",
       "      <td>1200</td>\n",
       "      <td>0.069200</td>\n",
       "      <td>0.295365</td>\n",
       "      <td>0.920713</td>\n",
       "      <td>0.967398</td>\n",
       "    </tr>\n",
       "    <tr>\n",
       "      <td>1300</td>\n",
       "      <td>0.096700</td>\n",
       "      <td>0.326952</td>\n",
       "      <td>0.919559</td>\n",
       "      <td>0.966644</td>\n",
       "    </tr>\n",
       "    <tr>\n",
       "      <td>1400</td>\n",
       "      <td>0.126700</td>\n",
       "      <td>0.331011</td>\n",
       "      <td>0.922177</td>\n",
       "      <td>0.966753</td>\n",
       "    </tr>\n",
       "    <tr>\n",
       "      <td>1500</td>\n",
       "      <td>0.103200</td>\n",
       "      <td>0.333358</td>\n",
       "      <td>0.922555</td>\n",
       "      <td>0.966902</td>\n",
       "    </tr>\n",
       "  </tbody>\n",
       "</table><p>"
      ],
      "text/plain": [
       "<IPython.core.display.HTML object>"
      ]
     },
     "metadata": {},
     "output_type": "display_data"
    },
    {
     "name": "stdout",
     "output_type": "stream",
     "text": [
      "Model for lgbtq saved to modernbert_ensemble/lgbtq-final\n",
      "\n",
      "Training model for identity term: mental_dis...\n"
     ]
    },
    {
     "name": "stderr",
     "output_type": "stream",
     "text": [
      "Some weights of ModernBertForSequenceClassification were not initialized from the model checkpoint at answerdotai/ModernBERT-base and are newly initialized: ['classifier.bias', 'classifier.weight']\n",
      "You should probably TRAIN this model on a down-stream task to be able to use it for predictions and inference.\n"
     ]
    },
    {
     "data": {
      "text/html": [
       "\n",
       "    <div>\n",
       "      \n",
       "      <progress value='1398' max='1398' style='width:300px; height:20px; vertical-align: middle;'></progress>\n",
       "      [1398/1398 05:16, Epoch 2/3]\n",
       "    </div>\n",
       "    <table border=\"1\" class=\"dataframe\">\n",
       "  <thead>\n",
       " <tr style=\"text-align: left;\">\n",
       "      <th>Step</th>\n",
       "      <th>Training Loss</th>\n",
       "      <th>Validation Loss</th>\n",
       "      <th>F1</th>\n",
       "      <th>Aucroc</th>\n",
       "    </tr>\n",
       "  </thead>\n",
       "  <tbody>\n",
       "    <tr>\n",
       "      <td>100</td>\n",
       "      <td>0.774000</td>\n",
       "      <td>0.339313</td>\n",
       "      <td>0.824712</td>\n",
       "      <td>0.897034</td>\n",
       "    </tr>\n",
       "    <tr>\n",
       "      <td>200</td>\n",
       "      <td>0.587000</td>\n",
       "      <td>0.274191</td>\n",
       "      <td>0.881040</td>\n",
       "      <td>0.948359</td>\n",
       "    </tr>\n",
       "    <tr>\n",
       "      <td>300</td>\n",
       "      <td>0.438100</td>\n",
       "      <td>0.210305</td>\n",
       "      <td>0.911020</td>\n",
       "      <td>0.959729</td>\n",
       "    </tr>\n",
       "    <tr>\n",
       "      <td>400</td>\n",
       "      <td>0.373300</td>\n",
       "      <td>0.183355</td>\n",
       "      <td>0.921489</td>\n",
       "      <td>0.968740</td>\n",
       "    </tr>\n",
       "    <tr>\n",
       "      <td>500</td>\n",
       "      <td>0.300300</td>\n",
       "      <td>0.192486</td>\n",
       "      <td>0.926170</td>\n",
       "      <td>0.969464</td>\n",
       "    </tr>\n",
       "    <tr>\n",
       "      <td>600</td>\n",
       "      <td>0.253100</td>\n",
       "      <td>0.176522</td>\n",
       "      <td>0.928409</td>\n",
       "      <td>0.972778</td>\n",
       "    </tr>\n",
       "    <tr>\n",
       "      <td>700</td>\n",
       "      <td>0.313300</td>\n",
       "      <td>0.219939</td>\n",
       "      <td>0.921897</td>\n",
       "      <td>0.975019</td>\n",
       "    </tr>\n",
       "    <tr>\n",
       "      <td>800</td>\n",
       "      <td>0.261300</td>\n",
       "      <td>0.173381</td>\n",
       "      <td>0.933857</td>\n",
       "      <td>0.975842</td>\n",
       "    </tr>\n",
       "    <tr>\n",
       "      <td>900</td>\n",
       "      <td>0.287000</td>\n",
       "      <td>0.165461</td>\n",
       "      <td>0.933690</td>\n",
       "      <td>0.977743</td>\n",
       "    </tr>\n",
       "    <tr>\n",
       "      <td>1000</td>\n",
       "      <td>0.102500</td>\n",
       "      <td>0.210529</td>\n",
       "      <td>0.935265</td>\n",
       "      <td>0.978019</td>\n",
       "    </tr>\n",
       "    <tr>\n",
       "      <td>1100</td>\n",
       "      <td>0.064400</td>\n",
       "      <td>0.239309</td>\n",
       "      <td>0.936768</td>\n",
       "      <td>0.978362</td>\n",
       "    </tr>\n",
       "    <tr>\n",
       "      <td>1200</td>\n",
       "      <td>0.092200</td>\n",
       "      <td>0.253702</td>\n",
       "      <td>0.935787</td>\n",
       "      <td>0.977829</td>\n",
       "    </tr>\n",
       "    <tr>\n",
       "      <td>1300</td>\n",
       "      <td>0.076700</td>\n",
       "      <td>0.260568</td>\n",
       "      <td>0.936673</td>\n",
       "      <td>0.977684</td>\n",
       "    </tr>\n",
       "  </tbody>\n",
       "</table><p>"
      ],
      "text/plain": [
       "<IPython.core.display.HTML object>"
      ]
     },
     "metadata": {},
     "output_type": "display_data"
    },
    {
     "name": "stdout",
     "output_type": "stream",
     "text": [
      "Model for mental_dis saved to modernbert_ensemble/mental_dis-final\n",
      "\n",
      "Training model for identity term: mexican...\n"
     ]
    },
    {
     "name": "stderr",
     "output_type": "stream",
     "text": [
      "Some weights of ModernBertForSequenceClassification were not initialized from the model checkpoint at answerdotai/ModernBERT-base and are newly initialized: ['classifier.bias', 'classifier.weight']\n",
      "You should probably TRAIN this model on a down-stream task to be able to use it for predictions and inference.\n"
     ]
    },
    {
     "data": {
      "text/html": [
       "\n",
       "    <div>\n",
       "      \n",
       "      <progress value='1200' max='1527' style='width:300px; height:20px; vertical-align: middle;'></progress>\n",
       "      [1200/1527 04:36 < 01:15, 4.33 it/s, Epoch 2/3]\n",
       "    </div>\n",
       "    <table border=\"1\" class=\"dataframe\">\n",
       "  <thead>\n",
       " <tr style=\"text-align: left;\">\n",
       "      <th>Step</th>\n",
       "      <th>Training Loss</th>\n",
       "      <th>Validation Loss</th>\n",
       "      <th>F1</th>\n",
       "      <th>Aucroc</th>\n",
       "    </tr>\n",
       "  </thead>\n",
       "  <tbody>\n",
       "    <tr>\n",
       "      <td>100</td>\n",
       "      <td>0.829500</td>\n",
       "      <td>0.344116</td>\n",
       "      <td>0.841378</td>\n",
       "      <td>0.907766</td>\n",
       "    </tr>\n",
       "    <tr>\n",
       "      <td>200</td>\n",
       "      <td>0.573400</td>\n",
       "      <td>0.258384</td>\n",
       "      <td>0.885654</td>\n",
       "      <td>0.950419</td>\n",
       "    </tr>\n",
       "    <tr>\n",
       "      <td>300</td>\n",
       "      <td>0.539100</td>\n",
       "      <td>0.221546</td>\n",
       "      <td>0.903516</td>\n",
       "      <td>0.963544</td>\n",
       "    </tr>\n",
       "    <tr>\n",
       "      <td>400</td>\n",
       "      <td>0.484600</td>\n",
       "      <td>0.212362</td>\n",
       "      <td>0.909198</td>\n",
       "      <td>0.967116</td>\n",
       "    </tr>\n",
       "    <tr>\n",
       "      <td>500</td>\n",
       "      <td>0.464700</td>\n",
       "      <td>0.198205</td>\n",
       "      <td>0.910791</td>\n",
       "      <td>0.970956</td>\n",
       "    </tr>\n",
       "    <tr>\n",
       "      <td>600</td>\n",
       "      <td>0.316800</td>\n",
       "      <td>0.234145</td>\n",
       "      <td>0.903731</td>\n",
       "      <td>0.970317</td>\n",
       "    </tr>\n",
       "    <tr>\n",
       "      <td>700</td>\n",
       "      <td>0.341600</td>\n",
       "      <td>0.198201</td>\n",
       "      <td>0.914198</td>\n",
       "      <td>0.971757</td>\n",
       "    </tr>\n",
       "    <tr>\n",
       "      <td>800</td>\n",
       "      <td>0.259200</td>\n",
       "      <td>0.207903</td>\n",
       "      <td>0.914246</td>\n",
       "      <td>0.973513</td>\n",
       "    </tr>\n",
       "    <tr>\n",
       "      <td>900</td>\n",
       "      <td>0.268300</td>\n",
       "      <td>0.198826</td>\n",
       "      <td>0.923117</td>\n",
       "      <td>0.974905</td>\n",
       "    </tr>\n",
       "    <tr>\n",
       "      <td>1000</td>\n",
       "      <td>0.251700</td>\n",
       "      <td>0.207200</td>\n",
       "      <td>0.921637</td>\n",
       "      <td>0.975142</td>\n",
       "    </tr>\n",
       "    <tr>\n",
       "      <td>1100</td>\n",
       "      <td>0.061700</td>\n",
       "      <td>0.312505</td>\n",
       "      <td>0.920930</td>\n",
       "      <td>0.974532</td>\n",
       "    </tr>\n",
       "    <tr>\n",
       "      <td>1200</td>\n",
       "      <td>0.056100</td>\n",
       "      <td>0.352866</td>\n",
       "      <td>0.920383</td>\n",
       "      <td>0.974754</td>\n",
       "    </tr>\n",
       "  </tbody>\n",
       "</table><p>"
      ],
      "text/plain": [
       "<IPython.core.display.HTML object>"
      ]
     },
     "metadata": {},
     "output_type": "display_data"
    },
    {
     "name": "stdout",
     "output_type": "stream",
     "text": [
      "Model for mexican saved to modernbert_ensemble/mexican-final\n",
      "\n",
      "Training model for identity term: middle_east...\n"
     ]
    },
    {
     "name": "stderr",
     "output_type": "stream",
     "text": [
      "Some weights of ModernBertForSequenceClassification were not initialized from the model checkpoint at answerdotai/ModernBERT-base and are newly initialized: ['classifier.bias', 'classifier.weight']\n",
      "You should probably TRAIN this model on a down-stream task to be able to use it for predictions and inference.\n"
     ]
    },
    {
     "data": {
      "text/html": [
       "\n",
       "    <div>\n",
       "      \n",
       "      <progress value='700' max='1521' style='width:300px; height:20px; vertical-align: middle;'></progress>\n",
       "      [ 700/1521 02:41 < 03:10, 4.32 it/s, Epoch 1/3]\n",
       "    </div>\n",
       "    <table border=\"1\" class=\"dataframe\">\n",
       "  <thead>\n",
       " <tr style=\"text-align: left;\">\n",
       "      <th>Step</th>\n",
       "      <th>Training Loss</th>\n",
       "      <th>Validation Loss</th>\n",
       "      <th>F1</th>\n",
       "      <th>Aucroc</th>\n",
       "    </tr>\n",
       "  </thead>\n",
       "  <tbody>\n",
       "    <tr>\n",
       "      <td>100</td>\n",
       "      <td>0.852400</td>\n",
       "      <td>0.351669</td>\n",
       "      <td>0.843587</td>\n",
       "      <td>0.907243</td>\n",
       "    </tr>\n",
       "    <tr>\n",
       "      <td>200</td>\n",
       "      <td>0.554700</td>\n",
       "      <td>0.309169</td>\n",
       "      <td>0.871942</td>\n",
       "      <td>0.946140</td>\n",
       "    </tr>\n",
       "    <tr>\n",
       "      <td>300</td>\n",
       "      <td>0.499600</td>\n",
       "      <td>0.223414</td>\n",
       "      <td>0.902988</td>\n",
       "      <td>0.964020</td>\n",
       "    </tr>\n",
       "    <tr>\n",
       "      <td>400</td>\n",
       "      <td>0.430000</td>\n",
       "      <td>0.211320</td>\n",
       "      <td>0.911462</td>\n",
       "      <td>0.967734</td>\n",
       "    </tr>\n",
       "    <tr>\n",
       "      <td>500</td>\n",
       "      <td>0.376000</td>\n",
       "      <td>0.222270</td>\n",
       "      <td>0.909022</td>\n",
       "      <td>0.968763</td>\n",
       "    </tr>\n",
       "    <tr>\n",
       "      <td>600</td>\n",
       "      <td>0.238800</td>\n",
       "      <td>0.301918</td>\n",
       "      <td>0.910806</td>\n",
       "      <td>0.972405</td>\n",
       "    </tr>\n",
       "    <tr>\n",
       "      <td>700</td>\n",
       "      <td>0.282400</td>\n",
       "      <td>0.281456</td>\n",
       "      <td>0.899034</td>\n",
       "      <td>0.969521</td>\n",
       "    </tr>\n",
       "  </tbody>\n",
       "</table><p>"
      ],
      "text/plain": [
       "<IPython.core.display.HTML object>"
      ]
     },
     "metadata": {},
     "output_type": "display_data"
    },
    {
     "name": "stderr",
     "output_type": "stream",
     "text": [
      "Some weights of ModernBertForSequenceClassification were not initialized from the model checkpoint at answerdotai/ModernBERT-base and are newly initialized: ['classifier.bias', 'classifier.weight']\n",
      "You should probably TRAIN this model on a down-stream task to be able to use it for predictions and inference.\n"
     ]
    },
    {
     "name": "stdout",
     "output_type": "stream",
     "text": [
      "Model for middle_east saved to modernbert_ensemble/middle_east-final\n",
      "\n",
      "Training model for identity term: muslim...\n"
     ]
    },
    {
     "data": {
      "text/html": [
       "\n",
       "    <div>\n",
       "      \n",
       "      <progress value='1300' max='1488' style='width:300px; height:20px; vertical-align: middle;'></progress>\n",
       "      [1300/1488 04:58 < 00:43, 4.34 it/s, Epoch 2/3]\n",
       "    </div>\n",
       "    <table border=\"1\" class=\"dataframe\">\n",
       "  <thead>\n",
       " <tr style=\"text-align: left;\">\n",
       "      <th>Step</th>\n",
       "      <th>Training Loss</th>\n",
       "      <th>Validation Loss</th>\n",
       "      <th>F1</th>\n",
       "      <th>Aucroc</th>\n",
       "    </tr>\n",
       "  </thead>\n",
       "  <tbody>\n",
       "    <tr>\n",
       "      <td>100</td>\n",
       "      <td>0.844700</td>\n",
       "      <td>0.374081</td>\n",
       "      <td>0.829848</td>\n",
       "      <td>0.881170</td>\n",
       "    </tr>\n",
       "    <tr>\n",
       "      <td>200</td>\n",
       "      <td>0.652400</td>\n",
       "      <td>0.343830</td>\n",
       "      <td>0.823962</td>\n",
       "      <td>0.924915</td>\n",
       "    </tr>\n",
       "    <tr>\n",
       "      <td>300</td>\n",
       "      <td>0.614900</td>\n",
       "      <td>0.294128</td>\n",
       "      <td>0.863878</td>\n",
       "      <td>0.939667</td>\n",
       "    </tr>\n",
       "    <tr>\n",
       "      <td>400</td>\n",
       "      <td>0.499000</td>\n",
       "      <td>0.256620</td>\n",
       "      <td>0.889929</td>\n",
       "      <td>0.951434</td>\n",
       "    </tr>\n",
       "    <tr>\n",
       "      <td>500</td>\n",
       "      <td>0.466700</td>\n",
       "      <td>0.257104</td>\n",
       "      <td>0.894156</td>\n",
       "      <td>0.956152</td>\n",
       "    </tr>\n",
       "    <tr>\n",
       "      <td>600</td>\n",
       "      <td>0.334000</td>\n",
       "      <td>0.246879</td>\n",
       "      <td>0.897983</td>\n",
       "      <td>0.958667</td>\n",
       "    </tr>\n",
       "    <tr>\n",
       "      <td>700</td>\n",
       "      <td>0.330100</td>\n",
       "      <td>0.246788</td>\n",
       "      <td>0.906037</td>\n",
       "      <td>0.958303</td>\n",
       "    </tr>\n",
       "    <tr>\n",
       "      <td>800</td>\n",
       "      <td>0.290300</td>\n",
       "      <td>0.246478</td>\n",
       "      <td>0.907700</td>\n",
       "      <td>0.960910</td>\n",
       "    </tr>\n",
       "    <tr>\n",
       "      <td>900</td>\n",
       "      <td>0.323700</td>\n",
       "      <td>0.229772</td>\n",
       "      <td>0.909917</td>\n",
       "      <td>0.962998</td>\n",
       "    </tr>\n",
       "    <tr>\n",
       "      <td>1000</td>\n",
       "      <td>0.298700</td>\n",
       "      <td>0.221302</td>\n",
       "      <td>0.913310</td>\n",
       "      <td>0.963829</td>\n",
       "    </tr>\n",
       "    <tr>\n",
       "      <td>1100</td>\n",
       "      <td>0.086300</td>\n",
       "      <td>0.333011</td>\n",
       "      <td>0.905245</td>\n",
       "      <td>0.961929</td>\n",
       "    </tr>\n",
       "    <tr>\n",
       "      <td>1200</td>\n",
       "      <td>0.085200</td>\n",
       "      <td>0.375729</td>\n",
       "      <td>0.908865</td>\n",
       "      <td>0.961429</td>\n",
       "    </tr>\n",
       "    <tr>\n",
       "      <td>1300</td>\n",
       "      <td>0.110400</td>\n",
       "      <td>0.379268</td>\n",
       "      <td>0.909111</td>\n",
       "      <td>0.961937</td>\n",
       "    </tr>\n",
       "  </tbody>\n",
       "</table><p>"
      ],
      "text/plain": [
       "<IPython.core.display.HTML object>"
      ]
     },
     "metadata": {},
     "output_type": "display_data"
    },
    {
     "name": "stdout",
     "output_type": "stream",
     "text": [
      "Model for muslim saved to modernbert_ensemble/muslim-final\n",
      "\n",
      "Training model for identity term: native_american...\n"
     ]
    },
    {
     "name": "stderr",
     "output_type": "stream",
     "text": [
      "Some weights of ModernBertForSequenceClassification were not initialized from the model checkpoint at answerdotai/ModernBERT-base and are newly initialized: ['classifier.bias', 'classifier.weight']\n",
      "You should probably TRAIN this model on a down-stream task to be able to use it for predictions and inference.\n"
     ]
    },
    {
     "data": {
      "text/html": [
       "\n",
       "    <div>\n",
       "      \n",
       "      <progress value='900' max='1452' style='width:300px; height:20px; vertical-align: middle;'></progress>\n",
       "      [ 900/1452 03:25 < 02:06, 4.37 it/s, Epoch 1/3]\n",
       "    </div>\n",
       "    <table border=\"1\" class=\"dataframe\">\n",
       "  <thead>\n",
       " <tr style=\"text-align: left;\">\n",
       "      <th>Step</th>\n",
       "      <th>Training Loss</th>\n",
       "      <th>Validation Loss</th>\n",
       "      <th>F1</th>\n",
       "      <th>Aucroc</th>\n",
       "    </tr>\n",
       "  </thead>\n",
       "  <tbody>\n",
       "    <tr>\n",
       "      <td>100</td>\n",
       "      <td>0.688900</td>\n",
       "      <td>0.340663</td>\n",
       "      <td>0.837903</td>\n",
       "      <td>0.899874</td>\n",
       "    </tr>\n",
       "    <tr>\n",
       "      <td>200</td>\n",
       "      <td>0.591200</td>\n",
       "      <td>0.283450</td>\n",
       "      <td>0.871720</td>\n",
       "      <td>0.927527</td>\n",
       "    </tr>\n",
       "    <tr>\n",
       "      <td>300</td>\n",
       "      <td>0.479300</td>\n",
       "      <td>0.264171</td>\n",
       "      <td>0.885599</td>\n",
       "      <td>0.941960</td>\n",
       "    </tr>\n",
       "    <tr>\n",
       "      <td>400</td>\n",
       "      <td>0.450400</td>\n",
       "      <td>0.232200</td>\n",
       "      <td>0.900126</td>\n",
       "      <td>0.957327</td>\n",
       "    </tr>\n",
       "    <tr>\n",
       "      <td>500</td>\n",
       "      <td>0.416600</td>\n",
       "      <td>0.225138</td>\n",
       "      <td>0.906350</td>\n",
       "      <td>0.959433</td>\n",
       "    </tr>\n",
       "    <tr>\n",
       "      <td>600</td>\n",
       "      <td>0.284800</td>\n",
       "      <td>0.228598</td>\n",
       "      <td>0.913555</td>\n",
       "      <td>0.963511</td>\n",
       "    </tr>\n",
       "    <tr>\n",
       "      <td>700</td>\n",
       "      <td>0.273700</td>\n",
       "      <td>0.225951</td>\n",
       "      <td>0.911514</td>\n",
       "      <td>0.965068</td>\n",
       "    </tr>\n",
       "    <tr>\n",
       "      <td>800</td>\n",
       "      <td>0.263600</td>\n",
       "      <td>0.225841</td>\n",
       "      <td>0.907234</td>\n",
       "      <td>0.962385</td>\n",
       "    </tr>\n",
       "    <tr>\n",
       "      <td>900</td>\n",
       "      <td>0.249500</td>\n",
       "      <td>0.232936</td>\n",
       "      <td>0.912682</td>\n",
       "      <td>0.962510</td>\n",
       "    </tr>\n",
       "  </tbody>\n",
       "</table><p>"
      ],
      "text/plain": [
       "<IPython.core.display.HTML object>"
      ]
     },
     "metadata": {},
     "output_type": "display_data"
    },
    {
     "name": "stdout",
     "output_type": "stream",
     "text": [
      "Model for native_american saved to modernbert_ensemble/native_american-final\n",
      "\n",
      "Training model for identity term: physical_dis...\n"
     ]
    },
    {
     "name": "stderr",
     "output_type": "stream",
     "text": [
      "Some weights of ModernBertForSequenceClassification were not initialized from the model checkpoint at answerdotai/ModernBERT-base and are newly initialized: ['classifier.bias', 'classifier.weight']\n",
      "You should probably TRAIN this model on a down-stream task to be able to use it for predictions and inference.\n"
     ]
    },
    {
     "data": {
      "text/html": [
       "\n",
       "    <div>\n",
       "      \n",
       "      <progress value='900' max='1161' style='width:300px; height:20px; vertical-align: middle;'></progress>\n",
       "      [ 900/1161 03:15 < 00:56, 4.58 it/s, Epoch 2/3]\n",
       "    </div>\n",
       "    <table border=\"1\" class=\"dataframe\">\n",
       "  <thead>\n",
       " <tr style=\"text-align: left;\">\n",
       "      <th>Step</th>\n",
       "      <th>Training Loss</th>\n",
       "      <th>Validation Loss</th>\n",
       "      <th>F1</th>\n",
       "      <th>Aucroc</th>\n",
       "    </tr>\n",
       "  </thead>\n",
       "  <tbody>\n",
       "    <tr>\n",
       "      <td>100</td>\n",
       "      <td>0.782800</td>\n",
       "      <td>0.361877</td>\n",
       "      <td>0.834972</td>\n",
       "      <td>0.886636</td>\n",
       "    </tr>\n",
       "    <tr>\n",
       "      <td>200</td>\n",
       "      <td>0.583500</td>\n",
       "      <td>0.297338</td>\n",
       "      <td>0.861503</td>\n",
       "      <td>0.924388</td>\n",
       "    </tr>\n",
       "    <tr>\n",
       "      <td>300</td>\n",
       "      <td>0.522100</td>\n",
       "      <td>0.261884</td>\n",
       "      <td>0.874064</td>\n",
       "      <td>0.945516</td>\n",
       "    </tr>\n",
       "    <tr>\n",
       "      <td>400</td>\n",
       "      <td>0.467100</td>\n",
       "      <td>0.250853</td>\n",
       "      <td>0.889715</td>\n",
       "      <td>0.944341</td>\n",
       "    </tr>\n",
       "    <tr>\n",
       "      <td>500</td>\n",
       "      <td>0.323000</td>\n",
       "      <td>0.256659</td>\n",
       "      <td>0.898656</td>\n",
       "      <td>0.949949</td>\n",
       "    </tr>\n",
       "    <tr>\n",
       "      <td>600</td>\n",
       "      <td>0.309000</td>\n",
       "      <td>0.234941</td>\n",
       "      <td>0.909018</td>\n",
       "      <td>0.955877</td>\n",
       "    </tr>\n",
       "    <tr>\n",
       "      <td>700</td>\n",
       "      <td>0.323600</td>\n",
       "      <td>0.236033</td>\n",
       "      <td>0.900559</td>\n",
       "      <td>0.955280</td>\n",
       "    </tr>\n",
       "    <tr>\n",
       "      <td>800</td>\n",
       "      <td>0.205100</td>\n",
       "      <td>0.286936</td>\n",
       "      <td>0.902273</td>\n",
       "      <td>0.955214</td>\n",
       "    </tr>\n",
       "    <tr>\n",
       "      <td>900</td>\n",
       "      <td>0.126800</td>\n",
       "      <td>0.352116</td>\n",
       "      <td>0.904044</td>\n",
       "      <td>0.957650</td>\n",
       "    </tr>\n",
       "  </tbody>\n",
       "</table><p>"
      ],
      "text/plain": [
       "<IPython.core.display.HTML object>"
      ]
     },
     "metadata": {},
     "output_type": "display_data"
    },
    {
     "name": "stderr",
     "output_type": "stream",
     "text": [
      "Some weights of ModernBertForSequenceClassification were not initialized from the model checkpoint at answerdotai/ModernBERT-base and are newly initialized: ['classifier.bias', 'classifier.weight']\n",
      "You should probably TRAIN this model on a down-stream task to be able to use it for predictions and inference.\n"
     ]
    },
    {
     "name": "stdout",
     "output_type": "stream",
     "text": [
      "Model for physical_dis saved to modernbert_ensemble/physical_dis-final\n",
      "\n",
      "Training model for identity term: women...\n"
     ]
    },
    {
     "data": {
      "text/html": [
       "\n",
       "    <div>\n",
       "      \n",
       "      <progress value='900' max='1431' style='width:300px; height:20px; vertical-align: middle;'></progress>\n",
       "      [ 900/1431 03:25 < 02:01, 4.37 it/s, Epoch 1/3]\n",
       "    </div>\n",
       "    <table border=\"1\" class=\"dataframe\">\n",
       "  <thead>\n",
       " <tr style=\"text-align: left;\">\n",
       "      <th>Step</th>\n",
       "      <th>Training Loss</th>\n",
       "      <th>Validation Loss</th>\n",
       "      <th>F1</th>\n",
       "      <th>Aucroc</th>\n",
       "    </tr>\n",
       "  </thead>\n",
       "  <tbody>\n",
       "    <tr>\n",
       "      <td>100</td>\n",
       "      <td>0.742500</td>\n",
       "      <td>0.333383</td>\n",
       "      <td>0.826191</td>\n",
       "      <td>0.894307</td>\n",
       "    </tr>\n",
       "    <tr>\n",
       "      <td>200</td>\n",
       "      <td>0.604100</td>\n",
       "      <td>0.281480</td>\n",
       "      <td>0.870887</td>\n",
       "      <td>0.922107</td>\n",
       "    </tr>\n",
       "    <tr>\n",
       "      <td>300</td>\n",
       "      <td>0.490300</td>\n",
       "      <td>0.242690</td>\n",
       "      <td>0.888025</td>\n",
       "      <td>0.943718</td>\n",
       "    </tr>\n",
       "    <tr>\n",
       "      <td>400</td>\n",
       "      <td>0.518800</td>\n",
       "      <td>0.219708</td>\n",
       "      <td>0.902295</td>\n",
       "      <td>0.954889</td>\n",
       "    </tr>\n",
       "    <tr>\n",
       "      <td>500</td>\n",
       "      <td>0.430100</td>\n",
       "      <td>0.252338</td>\n",
       "      <td>0.889137</td>\n",
       "      <td>0.953958</td>\n",
       "    </tr>\n",
       "    <tr>\n",
       "      <td>600</td>\n",
       "      <td>0.268100</td>\n",
       "      <td>0.241357</td>\n",
       "      <td>0.909513</td>\n",
       "      <td>0.958211</td>\n",
       "    </tr>\n",
       "    <tr>\n",
       "      <td>700</td>\n",
       "      <td>0.339100</td>\n",
       "      <td>0.217408</td>\n",
       "      <td>0.908229</td>\n",
       "      <td>0.958620</td>\n",
       "    </tr>\n",
       "    <tr>\n",
       "      <td>800</td>\n",
       "      <td>0.266000</td>\n",
       "      <td>0.236327</td>\n",
       "      <td>0.906326</td>\n",
       "      <td>0.956318</td>\n",
       "    </tr>\n",
       "    <tr>\n",
       "      <td>900</td>\n",
       "      <td>0.322000</td>\n",
       "      <td>0.230242</td>\n",
       "      <td>0.908193</td>\n",
       "      <td>0.958171</td>\n",
       "    </tr>\n",
       "  </tbody>\n",
       "</table><p>"
      ],
      "text/plain": [
       "<IPython.core.display.HTML object>"
      ]
     },
     "metadata": {},
     "output_type": "display_data"
    },
    {
     "name": "stdout",
     "output_type": "stream",
     "text": [
      "Model for women saved to modernbert_ensemble/women-final\n"
     ]
    }
   ],
   "source": [
    "# Train models for each identity term\n",
    "trained_models = {}\n",
    "\n",
    "for term in id_terms:\n",
    "    trained_models[term] = train_model_for_term(term, term_datasets[term])"
   ]
  },
  {
   "cell_type": "markdown",
   "id": "77f44d6f",
   "metadata": {},
   "source": [
    "## 5. Ensemble Methods Implementation"
   ]
  },
  {
   "cell_type": "code",
   "execution_count": 3,
   "id": "85d1e380",
   "metadata": {},
   "outputs": [],
   "source": [
    "class EnsembleClassifier:\n",
    "    def __init__(self, model_paths, voting=\"majority\", weights=None):\n",
    "        \"\"\"\n",
    "        Initialize the ensemble classifier.\n",
    "        \n",
    "        Parameters:\n",
    "        - model_paths: Dictionary mapping term names to dictionaries with 'model_path' and 'tokenizer_path'\n",
    "        - voting: String, voting mechanism to use ('majority', 'weighted_average')\n",
    "        - weights: Optional dictionary mapping term names to weights for weighted averaging\n",
    "        \"\"\"\n",
    "        self.model_paths = model_paths\n",
    "        self.voting = voting\n",
    "        self.models = {}\n",
    "        self.tokenizers = {}\n",
    "        self.pipelines = {}\n",
    "        self.term_names = list(model_paths.keys())\n",
    "        \n",
    "        # Default to equal weights if none provided\n",
    "        if weights is None:\n",
    "            self.weights = {term: 1.0/len(model_paths) for term in model_paths.keys()}\n",
    "        else:\n",
    "            self.weights = weights\n",
    "            # Normalize weights to sum to 1\n",
    "            weight_sum = sum(self.weights.values())\n",
    "            self.weights = {k: v/weight_sum for k, v in self.weights.items()}\n",
    "        \n",
    "        # Load models and tokenizers\n",
    "        for term, paths in model_paths.items():\n",
    "            print(f\"Loading model for {term}...\")\n",
    "            self.tokenizers[term] = AutoTokenizer.from_pretrained(paths['tokenizer_path'])\n",
    "            self.models[term] = AutoModelForSequenceClassification.from_pretrained(paths['model_path'])\n",
    "            self.models[term].to(device)\n",
    "            \n",
    "            # Create pipeline\n",
    "            self.pipelines[term] = pipeline(\n",
    "                task=\"text-classification\",\n",
    "                tokenizer=self.tokenizers[term],\n",
    "                model=self.models[term],\n",
    "                device=0 if torch.cuda.is_available() else -1\n",
    "            )\n",
    "    \n",
    "    def predict(self, texts):\n",
    "        \"\"\"\n",
    "        Make predictions using the ensemble.\n",
    "        \n",
    "        Parameters:\n",
    "        - texts: List of strings, texts to classify\n",
    "        \n",
    "        Returns:\n",
    "        - predictions: List of prediction labels\n",
    "        - confidences: List of confidence scores\n",
    "        \"\"\"\n",
    "        if not isinstance(texts, list):\n",
    "            texts = [texts]\n",
    "        \n",
    "        # Determine batch size based on available memory\n",
    "        batch_size = 32\n",
    "        \n",
    "        # Process in batches for better performance\n",
    "        all_model_scores = {term: [] for term in self.term_names}\n",
    "        \n",
    "        # Process each term's model in batches\n",
    "        for term in self.term_names:\n",
    "            model = self.models[term]\n",
    "            tokenizer = self.tokenizers[term]\n",
    "            \n",
    "            model_scores = []\n",
    "            \n",
    "            # Process texts in batches\n",
    "            for i in range(0, len(texts), batch_size):\n",
    "                batch_texts = texts[i:i+batch_size]\n",
    "                \n",
    "                # Tokenize\n",
    "                inputs = tokenizer(batch_texts, padding=True, truncation=True, return_tensors=\"pt\", max_length=140)\n",
    "                inputs = {k: v.to(device) for k, v in inputs.items()}\n",
    "                \n",
    "                # Get predictions\n",
    "                with torch.no_grad():\n",
    "                    outputs = model(**inputs)\n",
    "                    logits = outputs.logits\n",
    "                    probs = torch.nn.functional.softmax(logits, dim=1)\n",
    "                    \n",
    "                    # Get probability of hate class (index 1)\n",
    "                    hate_probs = probs[:, 1].cpu().numpy()\n",
    "                    model_scores.extend(hate_probs)\n",
    "            \n",
    "            all_model_scores[term] = np.array(model_scores)\n",
    "        \n",
    "        # Apply ensemble method\n",
    "        final_predictions = []\n",
    "        final_confidences = []\n",
    "        \n",
    "        # Convert to numpy arrays for vectorized operations\n",
    "        model_scores_array = np.array([all_model_scores[term] for term in self.term_names])\n",
    "        \n",
    "        if self.voting == \"majority\":\n",
    "            # Convert scores to binary predictions (1 for hate, 0 for no hate)\n",
    "            binary_preds = (model_scores_array >= 0.5).astype(int)\n",
    "            \n",
    "            # Sum across models (axis 0) to get votes for each text\n",
    "            vote_counts = np.sum(binary_preds, axis=0)\n",
    "            \n",
    "            # Majority rule\n",
    "            hate_predictions = vote_counts > (len(self.term_names) / 2)\n",
    "            \n",
    "            # Calculate confidence as proportion of votes\n",
    "            confidences = np.maximum(vote_counts, len(self.term_names) - vote_counts) / len(self.term_names)\n",
    "            \n",
    "            # Convert to strings and list\n",
    "            final_predictions = [\"hate\" if pred else \"no hate\" for pred in hate_predictions]\n",
    "            final_confidences = confidences.tolist()\n",
    "            \n",
    "        elif self.voting == \"weighted_average\":\n",
    "            # Apply weights to each model's predictions\n",
    "            weights_array = np.array([self.weights[term] for term in self.term_names])\n",
    "            \n",
    "            # Weighted sum of scores (weights_array[:, np.newaxis] broadcasts weights across all samples)\n",
    "            weighted_scores = np.sum(model_scores_array * weights_array[:, np.newaxis], axis=0)\n",
    "            \n",
    "            # Classify based on threshold\n",
    "            hate_predictions = weighted_scores >= 0.5\n",
    "            \n",
    "            # Confidence is max of score or 1-score\n",
    "            confidences = np.maximum(weighted_scores, 1 - weighted_scores)\n",
    "            \n",
    "            # Convert to strings and list\n",
    "            final_predictions = [\"hate\" if pred else \"no hate\" for pred in hate_predictions]\n",
    "            final_confidences = confidences.tolist()\n",
    "        \n",
    "        return final_predictions, final_confidences"
   ]
  },
  {
   "cell_type": "code",
   "execution_count": 4,
   "id": "ccf53992",
   "metadata": {},
   "outputs": [],
   "source": [
    "# CheckList wrapper for the ensemble classifier\n",
    "class EnsembleClassifierWrapper(PredictorWrapper):\n",
    "    def __init__(self, ensemble_classifier):\n",
    "        self.ensemble = ensemble_classifier\n",
    "        \n",
    "    def __call__(self, texts):\n",
    "        predictions, confidences = self.ensemble.predict(texts)\n",
    "        return predictions, confidences"
   ]
  },
  {
   "cell_type": "markdown",
   "id": "0a2b1c82",
   "metadata": {},
   "source": [
    "## 6. Load or Create the Ensemble Model"
   ]
  },
  {
   "cell_type": "code",
   "execution_count": 7,
   "id": "dc3c2dc6",
   "metadata": {},
   "outputs": [
    {
     "name": "stdout",
     "output_type": "stream",
     "text": [
      "Found existing model for asian\n",
      "Found existing model for black\n",
      "Found existing model for chinese\n",
      "Found existing model for jewish\n",
      "Found existing model for latino\n",
      "Found existing model for lgbtq\n",
      "Found existing model for mental_dis\n",
      "Found existing model for mexican\n",
      "Found existing model for middle_east\n",
      "Found existing model for muslim\n",
      "Found existing model for native_american\n",
      "Found existing model for physical_dis\n",
      "Found existing model for women\n",
      "Loaded 13 existing models\n",
      "Using pre-trained models for all identity terms\n"
     ]
    }
   ],
   "source": [
    "# Check if models are already trained and available\n",
    "def load_trained_models():\n",
    "    trained_models = {}\n",
    "    for term in id_terms:\n",
    "        model_path = f\"{ensemble_models_dir}/{term}-final\"\n",
    "        tokenizer_path = f\"{ensemble_models_dir}/{term}-tokenizer\"\n",
    "        \n",
    "        if os.path.exists(model_path) and os.path.exists(tokenizer_path):\n",
    "            trained_models[term] = {\n",
    "                \"model_path\": model_path,\n",
    "                \"tokenizer_path\": tokenizer_path\n",
    "            }\n",
    "            print(f\"Found existing model for {term}\")\n",
    "    \n",
    "    return trained_models\n",
    "\n",
    "# Try to load existing models first\n",
    "loaded_models = load_trained_models()\n",
    "print(f\"Loaded {len(loaded_models)} existing models\")\n",
    "\n",
    "# If we have models for all terms, use them\n",
    "if len(loaded_models) == len(id_terms):\n",
    "    trained_models = loaded_models\n",
    "    print(\"Using pre-trained models for all identity terms\")\n",
    "else:\n",
    "    # Train models that are missing\n",
    "    missing_terms = set(id_terms) - set(loaded_models.keys())\n",
    "    for term in missing_terms:\n",
    "        print(f\"Training model for {term} as it was not found\")\n",
    "        term_model_info = train_model_for_term(term, term_datasets[term])\n",
    "        loaded_models[term] = term_model_info\n",
    "    \n",
    "    trained_models = loaded_models"
   ]
  },
  {
   "cell_type": "markdown",
   "id": "1fa8e1fb",
   "metadata": {},
   "source": [
    "## 7. Evaluate Models on Test Data"
   ]
  },
  {
   "cell_type": "code",
   "execution_count": 8,
   "id": "1836bc9e",
   "metadata": {},
   "outputs": [
    {
     "name": "stdout",
     "output_type": "stream",
     "text": [
      "Loaded test data with 996 samples\n"
     ]
    }
   ],
   "source": [
    "# Get annotated Russian test dataset\n",
    "test_dict = dh.getAnnotadedRussTest()\n",
    "print(f\"Loaded test data with {len(test_dict['text'])} samples\")"
   ]
  },
  {
   "cell_type": "code",
   "execution_count": 9,
   "id": "d76d2bd6",
   "metadata": {},
   "outputs": [
    {
     "name": "stdout",
     "output_type": "stream",
     "text": [
      "Loading model for asian...\n"
     ]
    },
    {
     "name": "stderr",
     "output_type": "stream",
     "text": [
      "Device set to use cuda:0\n"
     ]
    },
    {
     "name": "stdout",
     "output_type": "stream",
     "text": [
      "Loading model for black...\n"
     ]
    },
    {
     "name": "stderr",
     "output_type": "stream",
     "text": [
      "Device set to use cuda:0\n"
     ]
    },
    {
     "name": "stdout",
     "output_type": "stream",
     "text": [
      "Loading model for chinese...\n"
     ]
    },
    {
     "name": "stderr",
     "output_type": "stream",
     "text": [
      "Device set to use cuda:0\n"
     ]
    },
    {
     "name": "stdout",
     "output_type": "stream",
     "text": [
      "Loading model for jewish...\n"
     ]
    },
    {
     "name": "stderr",
     "output_type": "stream",
     "text": [
      "Device set to use cuda:0\n"
     ]
    },
    {
     "name": "stdout",
     "output_type": "stream",
     "text": [
      "Loading model for latino...\n"
     ]
    },
    {
     "name": "stderr",
     "output_type": "stream",
     "text": [
      "Device set to use cuda:0\n"
     ]
    },
    {
     "name": "stdout",
     "output_type": "stream",
     "text": [
      "Loading model for lgbtq...\n"
     ]
    },
    {
     "name": "stderr",
     "output_type": "stream",
     "text": [
      "Device set to use cuda:0\n"
     ]
    },
    {
     "name": "stdout",
     "output_type": "stream",
     "text": [
      "Loading model for mental_dis...\n"
     ]
    },
    {
     "name": "stderr",
     "output_type": "stream",
     "text": [
      "Device set to use cuda:0\n"
     ]
    },
    {
     "name": "stdout",
     "output_type": "stream",
     "text": [
      "Loading model for mexican...\n"
     ]
    },
    {
     "name": "stderr",
     "output_type": "stream",
     "text": [
      "Device set to use cuda:0\n"
     ]
    },
    {
     "name": "stdout",
     "output_type": "stream",
     "text": [
      "Loading model for middle_east...\n"
     ]
    },
    {
     "name": "stderr",
     "output_type": "stream",
     "text": [
      "Device set to use cuda:0\n"
     ]
    },
    {
     "name": "stdout",
     "output_type": "stream",
     "text": [
      "Loading model for muslim...\n"
     ]
    },
    {
     "name": "stderr",
     "output_type": "stream",
     "text": [
      "Device set to use cuda:0\n"
     ]
    },
    {
     "name": "stdout",
     "output_type": "stream",
     "text": [
      "Loading model for native_american...\n"
     ]
    },
    {
     "name": "stderr",
     "output_type": "stream",
     "text": [
      "Device set to use cuda:0\n"
     ]
    },
    {
     "name": "stdout",
     "output_type": "stream",
     "text": [
      "Loading model for physical_dis...\n"
     ]
    },
    {
     "name": "stderr",
     "output_type": "stream",
     "text": [
      "Device set to use cuda:0\n"
     ]
    },
    {
     "name": "stdout",
     "output_type": "stream",
     "text": [
      "Loading model for women...\n"
     ]
    },
    {
     "name": "stderr",
     "output_type": "stream",
     "text": [
      "Device set to use cuda:0\n"
     ]
    },
    {
     "name": "stdout",
     "output_type": "stream",
     "text": [
      "Predicting 996 examples\n",
      "Test cases:      996\n",
      "Fails (rate):    292 (29.3%)\n",
      "\n",
      "Example fails:\n",
      "hate                                                  not to the stupid city boy, to him there is no evidence.\n",
      "----\n",
      "hate russia wants ‘revenge’ – sydney — rt russia &amp; former soviet union  correcting the historical wrong and making the criminals pay is called justice, not revenge. but the twat doesn't know better.\n",
      "----\n",
      "hate  i think starting world war over ukraine is stupid\n",
      "----\n",
      "Test cases:      996\n",
      "Fails (rate):    292 (29.3%)\n",
      "\n",
      "Example fails:\n",
      "hate                                                  not to the stupid city boy, to him there is no evidence.\n",
      "----\n",
      "hate russia wants ‘revenge’ – sydney — rt russia &amp; former soviet union  correcting the historical wrong and making the criminals pay is called justice, not revenge. but the twat doesn't know better.\n",
      "----\n",
      "hate  i think starting world war over ukraine is stupid\n",
      "----\n"
     ]
    }
   ],
   "source": [
    "# Create and evaluate majority voting ensemble\n",
    "majority_ensemble = EnsembleClassifier(trained_models, voting=\"majority\")\n",
    "majority_wrapper = EnsembleClassifierWrapper(majority_ensemble)\n",
    "\n",
    "hate_test_majority = MFT(data=test_dict['text'], labels=test_dict['label'], name=\"Ensemble Majority Voting Test\")\n",
    "majority_results = hate_test_majority.run(majority_wrapper, overwrite=True)\n",
    "hate_test_majority.summary()"
   ]
  },
  {
   "cell_type": "markdown",
   "id": "87c0e594",
   "metadata": {},
   "source": [
    "## 10. Save the Best Ensemble Configuration"
   ]
  },
  {
   "cell_type": "code",
   "execution_count": null,
   "id": "5712feae",
   "metadata": {},
   "outputs": [],
   "source": [
    "# Save the optimized weights\n",
    "import json\n",
    "\n",
    "# Save weights and model paths for later use\n",
    "ensemble_config = {\n",
    "    \"optimized_weights\": best_weights,\n",
    "    \"models\": {term: {\n",
    "        \"model_path\": info[\"model_path\"],\n",
    "        \"tokenizer_path\": info[\"tokenizer_path\"]\n",
    "    } for term, info in trained_models.items()}\n",
    "}\n",
    "\n",
    "with open(f\"{ensemble_models_dir}/ensemble_config.json\", \"w\") as f:\n",
    "    json.dump(ensemble_config, f, indent=2)\n",
    "\n",
    "print(f\"Ensemble configuration saved to {ensemble_models_dir}/ensemble_config.json\")"
   ]
  },
  {
   "cell_type": "code",
   "execution_count": null,
   "id": "f206a0ed",
   "metadata": {},
   "outputs": [],
   "source": [
    "# Functions for using the saved ensemble in other notebooks\n",
    "def load_ensemble(config_path=None, voting=\"weighted_average\"):\n",
    "    \"\"\"\n",
    "    Load the ensemble from a saved configuration file.\n",
    "    \n",
    "    Parameters:\n",
    "    - config_path: Path to the ensemble configuration file. Defaults to ensemble_models_dir/ensemble_config.json\n",
    "    - voting: Which voting method to use ('majority', 'weighted_average')\n",
    "    \n",
    "    Returns:\n",
    "    - An initialized EnsembleClassifier\n",
    "    \"\"\"\n",
    "    if config_path is None:\n",
    "        config_path = f\"{ensemble_models_dir}/ensemble_config.json\"\n",
    "    \n",
    "    with open(config_path, \"r\") as f:\n",
    "        config = json.load(f)\n",
    "    \n",
    "    return EnsembleClassifier(\n",
    "        config[\"models\"],\n",
    "        voting=voting,\n",
    "        weights=config[\"optimized_weights\"]\n",
    "    )\n",
    "\n",
    "# Example usage:\n",
    "# ensemble = load_ensemble()\n",
    "# predictions, confidences = ensemble.predict([\"This is a test sentence.\"])"
   ]
  },
  {
   "cell_type": "markdown",
   "id": "3cce75d2",
   "metadata": {},
   "source": [
    "## 11. Plot Confusion Matrices for Ensemble Models"
   ]
  },
  {
   "cell_type": "code",
   "execution_count": 13,
   "id": "4d2e2a72",
   "metadata": {},
   "outputs": [],
   "source": [
    "# Function to plot confusion matrices for the ensemble models\n",
    "def plot_confusion_matrix(ensemble, test_dict, ensemble_name):\n",
    "    wrapper = EnsembleClassifierWrapper(ensemble)\n",
    "    \n",
    "    predictions, confidences = wrapper(test_dict['text'])\n",
    "    \n",
    "    # Convert string predictions and true labels to binary\n",
    "    pred_binary = [1 if p == 'hate' else 0 for p in predictions]\n",
    "    true_binary = [1 if l == 'hate' else 0 for l in test_dict['label']]\n",
    "    \n",
    "    # Calculate confusion matrix\n",
    "    cm = confusion_matrix(true_binary, pred_binary)\n",
    "    \n",
    "    # Add percentages to confusion matrix\n",
    "    group_counts = [\"{0:0.0f}\".format(value) for value in cm.flatten()]\n",
    "    group_percentages = [\"{0:.1%}\".format(value) for value in cm.flatten()/np.sum(cm)]\n",
    "    labels = [f\"{v1}\\n{v2}\" for v1, v2 in zip(group_counts, group_percentages)]\n",
    "    labels = np.asarray(labels).reshape(2, 2)\n",
    "    \n",
    "    # Plot confusion matrix\n",
    "    plt.figure(figsize=(8, 6))\n",
    "    sns.heatmap(cm, annot=labels, fmt='', cmap='Blues', xticklabels=['No Hate', 'Hate'], yticklabels=['No Hate', 'Hate'])\n",
    "    plt.ylabel('True Label')\n",
    "    plt.xlabel('Predicted Label')\n",
    "    plt.title(f'Confusion Matrix - {ensemble_name}')\n",
    "    plt.savefig(f\"{ensemble_models_dir}/{ensemble_name.replace(' ', '_').lower()}_confusion_matrix.png\", dpi=300, bbox_inches='tight')\n",
    "    plt.show()\n",
    "    \n",
    "    # Calculate metrics from confusion matrix\n",
    "    tn, fp, fn, tp = cm.ravel()\n",
    "    accuracy = (tp + tn) / (tp + tn + fp + fn)\n",
    "    precision = tp / (tp + fp) if (tp + fp) > 0 else 0\n",
    "    recall = tp / (tp + fn) if (tp + fn) > 0 else 0\n",
    "    f1 = 2 * precision * recall / (precision + recall) if (precision + recall) > 0 else 0\n",
    "    balanced_acc = (recall + tn/(tn+fp))/2 if (tn+fp) > 0 else recall\n",
    "    \n",
    "    # Calculate AUC-ROC\n",
    "    try:\n",
    "        aucroc = roc_auc_score(true_binary, confidences)\n",
    "    except:\n",
    "        aucroc = 0.5\n",
    "    \n",
    "    print(f\"Metrics for {ensemble_name}:\")\n",
    "    print(f\"  Accuracy: {accuracy:.4f}\")\n",
    "    print(f\"  Balanced Accuracy: {balanced_acc:.4f}\")\n",
    "    print(f\"  Precision: {precision:.4f}\")\n",
    "    print(f\"  Recall: {recall:.4f}\")\n",
    "    print(f\"  F1 Score: {f1:.4f}\")\n",
    "    print(f\"  AUC-ROC: {aucroc:.4f}\")\n",
    "    \n",
    "    return cm"
   ]
  },
  {
   "cell_type": "code",
   "execution_count": 14,
   "id": "5fa18f5a",
   "metadata": {},
   "outputs": [
    {
     "data": {
      "image/png": "[encoded data removed]",
      "text/plain": [
       "<Figure size 800x600 with 2 Axes>"
      ]
     },
     "metadata": {},
     "output_type": "display_data"
    },
    {
     "name": "stdout",
     "output_type": "stream",
     "text": [
      "Metrics for Majority Voting Ensemble:\n",
      "  Accuracy: 0.7068\n",
      "  Balanced Accuracy: 0.7578\n",
      "  Precision: 0.4009\n",
      "  Recall: 0.8447\n",
      "  F1 Score: 0.5437\n",
      "  AUC-ROC: 0.4530\n"
     ]
    }
   ],
   "source": [
    "# Plot confusion matrix for majority voting ensemble\n",
    "majority_cm = plot_confusion_matrix(majority_ensemble, test_dict, \"Majority Voting Ensemble\")"
   ]
  }
 ],
 "metadata": {
  "kernelspec": {
   "display_name": "llama_ssl",
   "language": "python",
   "name": "python3"
  },
  "language_info": {
   "codemirror_mode": {
    "name": "ipython",
    "version": 3
   },
   "file_extension": ".py",
   "mimetype": "text/x-python",
   "name": "python",
   "nbconvert_exporter": "python",
   "pygments_lexer": "ipython3",
   "version": "3.10.15"
  }
 },
 "nbformat": 4,
 "nbformat_minor": 5
}
