{
 "cells": [
  {
   "cell_type": "code",
   "execution_count": 1,
   "metadata": {},
   "outputs": [],
   "source": [
    "import pandas as pd"
   ]
  },
  {
   "cell_type": "code",
   "execution_count": 2,
   "metadata": {},
   "outputs": [
    {
     "data": {
      "text/html": [
       "<div>\n",
       "<style scoped>\n",
       "    .dataframe tbody tr th:only-of-type {\n",
       "        vertical-align: middle;\n",
       "    }\n",
       "\n",
       "    .dataframe tbody tr th {\n",
       "        vertical-align: top;\n",
       "    }\n",
       "\n",
       "    .dataframe thead th {\n",
       "        text-align: right;\n",
       "    }\n",
       "</style>\n",
       "<table border=\"1\" class=\"dataframe\">\n",
       "  <thead>\n",
       "    <tr style=\"text-align: right;\">\n",
       "      <th></th>\n",
       "      <th>row_id</th>\n",
       "      <th>Row Number</th>\n",
       "      <th>Tweet Treated</th>\n",
       "      <th>Label</th>\n",
       "    </tr>\n",
       "  </thead>\n",
       "  <tbody>\n",
       "    <tr>\n",
       "      <th>0</th>\n",
       "      <td>fffeb77ff91c618cc5482e982240f1af9f09175cddf324...</td>\n",
       "      <td>19999</td>\n",
       "      <td>russia would save a ton of money if they'd pul...</td>\n",
       "      <td>Non Hate</td>\n",
       "    </tr>\n",
       "    <tr>\n",
       "      <th>1</th>\n",
       "      <td>ffe7a960fccf628755ee70ab15e4fab5b45f0f436a2064...</td>\n",
       "      <td>19998</td>\n",
       "      <td>i hate grocery shopping. spent $112. damn you ...</td>\n",
       "      <td>Non Hate</td>\n",
       "    </tr>\n",
       "    <tr>\n",
       "      <th>2</th>\n",
       "      <td>ffdc308f7c1ceed12d8347ab9150551a9fe155023d624a...</td>\n",
       "      <td>19997</td>\n",
       "      <td>did you miss his blood and soil arguments f...</td>\n",
       "      <td>Non Hate</td>\n",
       "    </tr>\n",
       "    <tr>\n",
       "      <th>3</th>\n",
       "      <td>ffdbe9613a9ef0c6c484486e03422ab0bac73f62922005...</td>\n",
       "      <td>19996</td>\n",
       "      <td>on imperialism, too complex for twitter, but ...</td>\n",
       "      <td>Non Hate</td>\n",
       "    </tr>\n",
       "    <tr>\n",
       "      <th>4</th>\n",
       "      <td>ffd75a28b8bf37f681e5d57d1dd1309df03aa3859a3d28...</td>\n",
       "      <td>19995</td>\n",
       "      <td>i'm still wondering why we don't #stop doing #...</td>\n",
       "      <td>Non Hate</td>\n",
       "    </tr>\n",
       "  </tbody>\n",
       "</table>\n",
       "</div>"
      ],
      "text/plain": [
       "                                              row_id  Row Number  \\\n",
       "0  fffeb77ff91c618cc5482e982240f1af9f09175cddf324...       19999   \n",
       "1  ffe7a960fccf628755ee70ab15e4fab5b45f0f436a2064...       19998   \n",
       "2  ffdc308f7c1ceed12d8347ab9150551a9fe155023d624a...       19997   \n",
       "3  ffdbe9613a9ef0c6c484486e03422ab0bac73f62922005...       19996   \n",
       "4  ffd75a28b8bf37f681e5d57d1dd1309df03aa3859a3d28...       19995   \n",
       "\n",
       "                                       Tweet Treated     Label  \n",
       "0  russia would save a ton of money if they'd pul...  Non Hate  \n",
       "1  i hate grocery shopping. spent $112. damn you ...  Non Hate  \n",
       "2     did you miss his blood and soil arguments f...  Non Hate  \n",
       "3   on imperialism, too complex for twitter, but ...  Non Hate  \n",
       "4  i'm still wondering why we don't #stop doing #...  Non Hate  "
      ]
     },
     "execution_count": 2,
     "metadata": {},
     "output_type": "execute_result"
    }
   ],
   "source": [
    "df = pd.read_csv('Hate Speech Annotation - Alexandre.csv')\n",
    "df.head()"
   ]
  },
  {
   "cell_type": "code",
   "execution_count": 3,
   "metadata": {},
   "outputs": [],
   "source": [
    "df_hate = df[df['Label'] == \"Hate\"]\n",
    "df_nonhate = df[df['Label'] == \"Non Hate\"]"
   ]
  },
  {
   "cell_type": "code",
   "execution_count": 7,
   "metadata": {},
   "outputs": [],
   "source": [
    "df_top100 = pd.concat([df_hate.sample(50), df_nonhate.sample(50)])"
   ]
  },
  {
   "cell_type": "code",
   "execution_count": 10,
   "metadata": {},
   "outputs": [
    {
     "data": {
      "text/html": [
       "<div>\n",
       "<style scoped>\n",
       "    .dataframe tbody tr th:only-of-type {\n",
       "        vertical-align: middle;\n",
       "    }\n",
       "\n",
       "    .dataframe tbody tr th {\n",
       "        vertical-align: top;\n",
       "    }\n",
       "\n",
       "    .dataframe thead th {\n",
       "        text-align: right;\n",
       "    }\n",
       "</style>\n",
       "<table border=\"1\" class=\"dataframe\">\n",
       "  <thead>\n",
       "    <tr style=\"text-align: right;\">\n",
       "      <th></th>\n",
       "      <th>row_id</th>\n",
       "      <th>Row Number</th>\n",
       "      <th>Tweet Treated</th>\n",
       "      <th>Label</th>\n",
       "    </tr>\n",
       "  </thead>\n",
       "  <tbody>\n",
       "    <tr>\n",
       "      <th>291</th>\n",
       "      <td>fc459cd439c7fc8ada3b42ab80090747fa55024234516e...</td>\n",
       "      <td>19708</td>\n",
       "      <td>not a fucking many as zelensky for being a w...</td>\n",
       "      <td>Hate</td>\n",
       "    </tr>\n",
       "    <tr>\n",
       "      <th>18</th>\n",
       "      <td>ffa430452f43a76b3a25eef39b51ca7a0d9051ae23e0db...</td>\n",
       "      <td>19981</td>\n",
       "      <td>on the brink of nuclear war and she droppin mi...</td>\n",
       "      <td>Hate</td>\n",
       "    </tr>\n",
       "    <tr>\n",
       "      <th>758</th>\n",
       "      <td>f6809f8d0fc5511a9f715c167757d46b21fda05008f6a7...</td>\n",
       "      <td>19241</td>\n",
       "      <td>fuck zelensky, fuck ukraine, fuck our governme...</td>\n",
       "      <td>Hate</td>\n",
       "    </tr>\n",
       "    <tr>\n",
       "      <th>761</th>\n",
       "      <td>f67aa5365c8144d61f39ccdd6333669fd1b69de41ccba0...</td>\n",
       "      <td>19238</td>\n",
       "      <td>i support the ukrainians to resist to the end...</td>\n",
       "      <td>Hate</td>\n",
       "    </tr>\n",
       "    <tr>\n",
       "      <th>561</th>\n",
       "      <td>f8d080e732b313c3f20792453e3a8ee91e32c6925c806d...</td>\n",
       "      <td>19438</td>\n",
       "      <td>no one cares about your shitty russian revis...</td>\n",
       "      <td>Hate</td>\n",
       "    </tr>\n",
       "  </tbody>\n",
       "</table>\n",
       "</div>"
      ],
      "text/plain": [
       "                                                row_id  Row Number  \\\n",
       "291  fc459cd439c7fc8ada3b42ab80090747fa55024234516e...       19708   \n",
       "18   ffa430452f43a76b3a25eef39b51ca7a0d9051ae23e0db...       19981   \n",
       "758  f6809f8d0fc5511a9f715c167757d46b21fda05008f6a7...       19241   \n",
       "761  f67aa5365c8144d61f39ccdd6333669fd1b69de41ccba0...       19238   \n",
       "561  f8d080e732b313c3f20792453e3a8ee91e32c6925c806d...       19438   \n",
       "\n",
       "                                         Tweet Treated Label  \n",
       "291    not a fucking many as zelensky for being a w...  Hate  \n",
       "18   on the brink of nuclear war and she droppin mi...  Hate  \n",
       "758  fuck zelensky, fuck ukraine, fuck our governme...  Hate  \n",
       "761   i support the ukrainians to resist to the end...  Hate  \n",
       "561    no one cares about your shitty russian revis...  Hate  "
      ]
     },
     "execution_count": 10,
     "metadata": {},
     "output_type": "execute_result"
    }
   ],
   "source": [
    "df_top100.head()"
   ]
  },
  {
   "cell_type": "code",
   "execution_count": 11,
   "metadata": {},
   "outputs": [],
   "source": [
    "import csv\n",
    "\n",
    "df_top100.to_csv('hs_top100.csv', index=False, quoting=csv.QUOTE_NONNUMERIC)"
   ]
  },
  {
   "cell_type": "code",
   "execution_count": null,
   "metadata": {},
   "outputs": [],
   "source": []
  }
 ],
 "metadata": {
  "kernelspec": {
   "display_name": "llama_ssl",
   "language": "python",
   "name": "python3"
  },
  "language_info": {
   "codemirror_mode": {
    "name": "ipython",
    "version": 3
   },
   "file_extension": ".py",
   "mimetype": "text/x-python",
   "name": "python",
   "nbconvert_exporter": "python",
   "pygments_lexer": "ipython3",
   "version": "3.10.15"
  }
 },
 "nbformat": 4,
 "nbformat_minor": 2
}
